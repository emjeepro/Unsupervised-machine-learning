{
  "nbformat": 4,
  "nbformat_minor": 0,
  "metadata": {
    "colab": {
      "provenance": []
    },
    "kernelspec": {
      "name": "python3",
      "display_name": "Python 3"
    },
    "language_info": {
      "name": "python"
    }
  },
  "cells": [
    {
      "cell_type": "markdown",
      "source": [
        "## Лаб.07 PCA редукция\n",
        "\n",
        "### Уменьшение размерности методом главных компонент\n",
        "\n",
        "---\n",
        "\n",
        "#### Входные данные:\n",
        "Датасет `data_alc.csv`\n",
        "\n",
        "#### Задание:\n",
        "Написать программный код для вычисления главных компонент для исходных данных, применить результаты вычислений для понижения размерности данных. Обучить алгоритмы кластеризации любыми двумя методами на исходных и редуцированных данных, сравнить результаты кластеризации.\n",
        "\n",
        "**Порядок выполнения работы:**\n",
        "1. Загрузите данные в датафрейм. Изучите его: выясните, каково число уникальных значений целевого свойства Class. Постройте диаграмму в виде облака точек в координатах 'OD280/OD315 of diluted wines', 'Flavanoids' с раскраской в соответствии с метками класса.\n",
        "2. Выделите столбец меток класса в данные y и оставшуюся часть датафрейма в свойства X. Отмасштабируйте свойства при помощи класса StandardScaler(), сохраните как датафрейм.\n",
        "3. Обучите любые два метода кластеризации на данных датафреймов X, вычислите метрики качества кластеризации: однородность, полнота, V-мера, ARI, AMI, силуэт, инерция.\n",
        "4. Обучите на данных X метод главных компонент: `sklearn.decomposition.PCA`, с параметром `n_components=None`. Выведите доли дисперсии, объясняемые каждой из компонент.\n",
        "5. Постройте график зависимости доли дисперсии от номера компоненты. Используйте для этого массив `explained_variance_ratio_`, в котором нулевой элемент отвечает за первую главную компонента, под индексом 1 – за вторую компоненту и так далее.\n",
        "6. При помощи функции `pca.transform` преобразуйте исходные данные в соответствии с обученным методом главных компонентов. Редуцированные данные сохраните в датафрейм.\n",
        "7. Выведите на диаграмму облако раскрашенных точек, но в координатах первой и второй главных компонент (столбцы `[0]` и `[1]` матрицы редуцированных данных.\n",
        "8. Обучите снова те же методы кластеризации, но на редуцированных данных, вычислите метрики и сравните с предыдущими результатами.\n",
        "\n",
        "---"
      ],
      "metadata": {
        "id": "3Bv3WnSFfbeA"
      }
    },
    {
      "cell_type": "markdown",
      "source": [
        "1. Загрузите данные в датафрейм. Изучите его: выясните, каково число уникальных значений целевого свойства Class. Постройте диаграмму в виде облака точек в координатах 'OD280/OD315 of diluted wines', 'Flavanoids' с раскраской в соответствии с метками класса."
      ],
      "metadata": {
        "id": "Jd78Y3algh8S"
      }
    },
    {
      "cell_type": "code",
      "source": [
        "# подключим необходимые библиотеки\n",
        "\n",
        "import pandas as pd\n",
        "import matplotlib.pyplot as plt\n",
        "from sklearn.decomposition import PCA\n",
        "from sklearn.preprocessing import StandardScaler\n",
        "from sklearn.cluster import KMeans, AgglomerativeClustering\n",
        "from sklearn.metrics import silhouette_score, homogeneity_score, completeness_score\n",
        "from sklearn.metrics import v_measure_score, adjusted_rand_score, adjusted_mutual_info_score"
      ],
      "metadata": {
        "id": "kwFDpzNHay_K"
      },
      "execution_count": null,
      "outputs": []
    },
    {
      "cell_type": "code",
      "source": [
        "from google.colab import drive \n",
        "drive.mount('/content/gdrive')"
      ],
      "metadata": {
        "id": "2YVODzpgbPg1"
      },
      "execution_count": null,
      "outputs": []
    },
    {
      "cell_type": "code",
      "source": [
        "# добавим данные в датаафрейм\n",
        "\n",
        "# use this line if on Jupyter\n",
        "# df = pd.read_csv('data_alc.csv')\n",
        "\n",
        "# use this line if on Colab\n",
        "df = pd.read_csv('gdrive/My Drive/Colab Notebooks/data/data_alc.csv')\n",
        "df.head()"
      ],
      "metadata": {
        "id": "DZqlI3LxgjDH",
        "colab": {
          "base_uri": "https://localhost:8080/",
          "height": 285
        },
        "outputId": "ef4b21b1-5979-45a9-c42b-417e6c660bfd"
      },
      "execution_count": null,
      "outputs": [
        {
          "output_type": "execute_result",
          "data": {
            "text/plain": [
              "   Class  Alcohol  Malic acid   Ash  Alcalinity of ash  Magnesium  \\\n",
              "0      1    14.23        1.71  2.43               15.6        127   \n",
              "1      1    13.20        1.78  2.14               11.2        100   \n",
              "2      1    13.16        2.36  2.67               18.6        101   \n",
              "3      1    14.37        1.95  2.50               16.8        113   \n",
              "4      1    13.24        2.59  2.87               21.0        118   \n",
              "\n",
              "   Total phenols  Flavanoids  Nonflavanoid phenols  Proanthocyanins  \\\n",
              "0           2.80        3.06                  0.28             2.29   \n",
              "1           2.65        2.76                  0.26             1.28   \n",
              "2           2.80        3.24                  0.30             2.81   \n",
              "3           3.85        3.49                  0.24             2.18   \n",
              "4           2.80        2.69                  0.39             1.82   \n",
              "\n",
              "   Color intensity   Hue  OD280/OD315 of diluted wines  Proline  \n",
              "0             5.64  1.04                          3.92     1065  \n",
              "1             4.38  1.05                          3.40     1050  \n",
              "2             5.68  1.03                          3.17     1185  \n",
              "3             7.80  0.86                          3.45     1480  \n",
              "4             4.32  1.04                          2.93      735  "
            ],
            "text/html": [
              "\n",
              "  <div id=\"df-ae5f6eb4-df74-4c0e-a8ce-a66554f1d872\">\n",
              "    <div class=\"colab-df-container\">\n",
              "      <div>\n",
              "<style scoped>\n",
              "    .dataframe tbody tr th:only-of-type {\n",
              "        vertical-align: middle;\n",
              "    }\n",
              "\n",
              "    .dataframe tbody tr th {\n",
              "        vertical-align: top;\n",
              "    }\n",
              "\n",
              "    .dataframe thead th {\n",
              "        text-align: right;\n",
              "    }\n",
              "</style>\n",
              "<table border=\"1\" class=\"dataframe\">\n",
              "  <thead>\n",
              "    <tr style=\"text-align: right;\">\n",
              "      <th></th>\n",
              "      <th>Class</th>\n",
              "      <th>Alcohol</th>\n",
              "      <th>Malic acid</th>\n",
              "      <th>Ash</th>\n",
              "      <th>Alcalinity of ash</th>\n",
              "      <th>Magnesium</th>\n",
              "      <th>Total phenols</th>\n",
              "      <th>Flavanoids</th>\n",
              "      <th>Nonflavanoid phenols</th>\n",
              "      <th>Proanthocyanins</th>\n",
              "      <th>Color intensity</th>\n",
              "      <th>Hue</th>\n",
              "      <th>OD280/OD315 of diluted wines</th>\n",
              "      <th>Proline</th>\n",
              "    </tr>\n",
              "  </thead>\n",
              "  <tbody>\n",
              "    <tr>\n",
              "      <th>0</th>\n",
              "      <td>1</td>\n",
              "      <td>14.23</td>\n",
              "      <td>1.71</td>\n",
              "      <td>2.43</td>\n",
              "      <td>15.6</td>\n",
              "      <td>127</td>\n",
              "      <td>2.80</td>\n",
              "      <td>3.06</td>\n",
              "      <td>0.28</td>\n",
              "      <td>2.29</td>\n",
              "      <td>5.64</td>\n",
              "      <td>1.04</td>\n",
              "      <td>3.92</td>\n",
              "      <td>1065</td>\n",
              "    </tr>\n",
              "    <tr>\n",
              "      <th>1</th>\n",
              "      <td>1</td>\n",
              "      <td>13.20</td>\n",
              "      <td>1.78</td>\n",
              "      <td>2.14</td>\n",
              "      <td>11.2</td>\n",
              "      <td>100</td>\n",
              "      <td>2.65</td>\n",
              "      <td>2.76</td>\n",
              "      <td>0.26</td>\n",
              "      <td>1.28</td>\n",
              "      <td>4.38</td>\n",
              "      <td>1.05</td>\n",
              "      <td>3.40</td>\n",
              "      <td>1050</td>\n",
              "    </tr>\n",
              "    <tr>\n",
              "      <th>2</th>\n",
              "      <td>1</td>\n",
              "      <td>13.16</td>\n",
              "      <td>2.36</td>\n",
              "      <td>2.67</td>\n",
              "      <td>18.6</td>\n",
              "      <td>101</td>\n",
              "      <td>2.80</td>\n",
              "      <td>3.24</td>\n",
              "      <td>0.30</td>\n",
              "      <td>2.81</td>\n",
              "      <td>5.68</td>\n",
              "      <td>1.03</td>\n",
              "      <td>3.17</td>\n",
              "      <td>1185</td>\n",
              "    </tr>\n",
              "    <tr>\n",
              "      <th>3</th>\n",
              "      <td>1</td>\n",
              "      <td>14.37</td>\n",
              "      <td>1.95</td>\n",
              "      <td>2.50</td>\n",
              "      <td>16.8</td>\n",
              "      <td>113</td>\n",
              "      <td>3.85</td>\n",
              "      <td>3.49</td>\n",
              "      <td>0.24</td>\n",
              "      <td>2.18</td>\n",
              "      <td>7.80</td>\n",
              "      <td>0.86</td>\n",
              "      <td>3.45</td>\n",
              "      <td>1480</td>\n",
              "    </tr>\n",
              "    <tr>\n",
              "      <th>4</th>\n",
              "      <td>1</td>\n",
              "      <td>13.24</td>\n",
              "      <td>2.59</td>\n",
              "      <td>2.87</td>\n",
              "      <td>21.0</td>\n",
              "      <td>118</td>\n",
              "      <td>2.80</td>\n",
              "      <td>2.69</td>\n",
              "      <td>0.39</td>\n",
              "      <td>1.82</td>\n",
              "      <td>4.32</td>\n",
              "      <td>1.04</td>\n",
              "      <td>2.93</td>\n",
              "      <td>735</td>\n",
              "    </tr>\n",
              "  </tbody>\n",
              "</table>\n",
              "</div>\n",
              "      <button class=\"colab-df-convert\" onclick=\"convertToInteractive('df-ae5f6eb4-df74-4c0e-a8ce-a66554f1d872')\"\n",
              "              title=\"Convert this dataframe to an interactive table.\"\n",
              "              style=\"display:none;\">\n",
              "        \n",
              "  <svg xmlns=\"http://www.w3.org/2000/svg\" height=\"24px\"viewBox=\"0 0 24 24\"\n",
              "       width=\"24px\">\n",
              "    <path d=\"M0 0h24v24H0V0z\" fill=\"none\"/>\n",
              "    <path d=\"M18.56 5.44l.94 2.06.94-2.06 2.06-.94-2.06-.94-.94-2.06-.94 2.06-2.06.94zm-11 1L8.5 8.5l.94-2.06 2.06-.94-2.06-.94L8.5 2.5l-.94 2.06-2.06.94zm10 10l.94 2.06.94-2.06 2.06-.94-2.06-.94-.94-2.06-.94 2.06-2.06.94z\"/><path d=\"M17.41 7.96l-1.37-1.37c-.4-.4-.92-.59-1.43-.59-.52 0-1.04.2-1.43.59L10.3 9.45l-7.72 7.72c-.78.78-.78 2.05 0 2.83L4 21.41c.39.39.9.59 1.41.59.51 0 1.02-.2 1.41-.59l7.78-7.78 2.81-2.81c.8-.78.8-2.07 0-2.86zM5.41 20L4 18.59l7.72-7.72 1.47 1.35L5.41 20z\"/>\n",
              "  </svg>\n",
              "      </button>\n",
              "      \n",
              "  <style>\n",
              "    .colab-df-container {\n",
              "      display:flex;\n",
              "      flex-wrap:wrap;\n",
              "      gap: 12px;\n",
              "    }\n",
              "\n",
              "    .colab-df-convert {\n",
              "      background-color: #E8F0FE;\n",
              "      border: none;\n",
              "      border-radius: 50%;\n",
              "      cursor: pointer;\n",
              "      display: none;\n",
              "      fill: #1967D2;\n",
              "      height: 32px;\n",
              "      padding: 0 0 0 0;\n",
              "      width: 32px;\n",
              "    }\n",
              "\n",
              "    .colab-df-convert:hover {\n",
              "      background-color: #E2EBFA;\n",
              "      box-shadow: 0px 1px 2px rgba(60, 64, 67, 0.3), 0px 1px 3px 1px rgba(60, 64, 67, 0.15);\n",
              "      fill: #174EA6;\n",
              "    }\n",
              "\n",
              "    [theme=dark] .colab-df-convert {\n",
              "      background-color: #3B4455;\n",
              "      fill: #D2E3FC;\n",
              "    }\n",
              "\n",
              "    [theme=dark] .colab-df-convert:hover {\n",
              "      background-color: #434B5C;\n",
              "      box-shadow: 0px 1px 3px 1px rgba(0, 0, 0, 0.15);\n",
              "      filter: drop-shadow(0px 1px 2px rgba(0, 0, 0, 0.3));\n",
              "      fill: #FFFFFF;\n",
              "    }\n",
              "  </style>\n",
              "\n",
              "      <script>\n",
              "        const buttonEl =\n",
              "          document.querySelector('#df-ae5f6eb4-df74-4c0e-a8ce-a66554f1d872 button.colab-df-convert');\n",
              "        buttonEl.style.display =\n",
              "          google.colab.kernel.accessAllowed ? 'block' : 'none';\n",
              "\n",
              "        async function convertToInteractive(key) {\n",
              "          const element = document.querySelector('#df-ae5f6eb4-df74-4c0e-a8ce-a66554f1d872');\n",
              "          const dataTable =\n",
              "            await google.colab.kernel.invokeFunction('convertToInteractive',\n",
              "                                                     [key], {});\n",
              "          if (!dataTable) return;\n",
              "\n",
              "          const docLinkHtml = 'Like what you see? Visit the ' +\n",
              "            '<a target=\"_blank\" href=https://colab.research.google.com/notebooks/data_table.ipynb>data table notebook</a>'\n",
              "            + ' to learn more about interactive tables.';\n",
              "          element.innerHTML = '';\n",
              "          dataTable['output_type'] = 'display_data';\n",
              "          await google.colab.output.renderOutput(dataTable, element);\n",
              "          const docLink = document.createElement('div');\n",
              "          docLink.innerHTML = docLinkHtml;\n",
              "          element.appendChild(docLink);\n",
              "        }\n",
              "      </script>\n",
              "    </div>\n",
              "  </div>\n",
              "  "
            ]
          },
          "metadata": {},
          "execution_count": 3
        }
      ]
    },
    {
      "cell_type": "code",
      "source": [
        "# find out what the number of unique values of the target Class property is\n",
        "print(df['Class'].unique())"
      ],
      "metadata": {
        "colab": {
          "base_uri": "https://localhost:8080/"
        },
        "id": "g_9i1Ab7b1IP",
        "outputId": "1e5dde2d-9e69-4b75-ecc0-dbf9ed0b3786"
      },
      "execution_count": null,
      "outputs": [
        {
          "output_type": "stream",
          "name": "stdout",
          "text": [
            "[1 2 3]\n"
          ]
        }
      ]
    },
    {
      "cell_type": "code",
      "source": [
        "plt.scatter(df['OD280/OD315 of diluted wines'], df['Flavanoids'], c=df['Class'])\n",
        "plt.xlabel('OD280/OD315 of diluted wines')\n",
        "plt.ylabel('Flavanoids')\n",
        "plt.show();"
      ],
      "metadata": {
        "colab": {
          "base_uri": "https://localhost:8080/",
          "height": 279
        },
        "id": "JTsmOtGVb6wI",
        "outputId": "81077661-0c5d-4f1f-f5bf-b3e6b0fcc605"
      },
      "execution_count": null,
      "outputs": [
        {
          "output_type": "display_data",
          "data": {
            "text/plain": [
              "<Figure size 432x288 with 1 Axes>"
            ],
            "image/png": "[encoded data removed]"
          },
          "metadata": {
            "needs_background": "light"
          }
        }
      ]
    },
    {
      "cell_type": "markdown",
      "source": [
        "---\n",
        "\n",
        "2. Выделите столбец меток класса в данные y и оставшуюся часть датафрейма в свойства X. Отмасштабируйте свойства при помощи класса StandardScaler(), сохраните как датафрейм."
      ],
      "metadata": {
        "id": "U8Ko65fIgjuE"
      }
    },
    {
      "cell_type": "code",
      "source": [
        "# scale the class label column into 'y' data and the rest of the dataframe into 'X' properties\n",
        "\n",
        "X = df.drop('Class', axis=1)\n",
        "y = df['Class']\n",
        "\n",
        "scaler = StandardScaler()\n",
        "X = scaler.fit_transform(X)\n",
        "\n",
        "# save the scaled data to a new dataframe\n",
        "\n",
        "X = pd.DataFrame(X, columns=df.columns[:-1])\n",
        "X['Class'] = y"
      ],
      "metadata": {
        "id": "IdUL79YRgqSW"
      },
      "execution_count": null,
      "outputs": []
    },
    {
      "cell_type": "code",
      "source": [
        "X.head()"
      ],
      "metadata": {
        "colab": {
          "base_uri": "https://localhost:8080/",
          "height": 285
        },
        "id": "GYkWWti_cFHm",
        "outputId": "5cd9a2ae-2734-47d5-be2f-c6101efc0a22"
      },
      "execution_count": null,
      "outputs": [
        {
          "output_type": "execute_result",
          "data": {
            "text/plain": [
              "   Class   Alcohol  Malic acid       Ash  Alcalinity of ash  Magnesium  \\\n",
              "0      1 -0.562250    0.232053 -1.169593           1.913905   0.808997   \n",
              "1      1 -0.499413   -0.827996 -2.490847           0.018145   0.568648   \n",
              "2      1  0.021231    1.109334 -0.268738           0.088358   0.808997   \n",
              "3      1 -0.346811    0.487926 -0.809251           0.930918   2.491446   \n",
              "4      1  0.227694    1.840403  0.451946           1.281985   0.808997   \n",
              "\n",
              "   Total phenols  Flavanoids  Nonflavanoid phenols  Proanthocyanins  \\\n",
              "0       1.034819   -0.659563              1.224884         0.251717   \n",
              "1       0.733629   -0.820719             -0.544721        -0.293321   \n",
              "2       1.215533   -0.498407              2.135968         0.269020   \n",
              "3       1.466525   -0.981875              1.032155         1.186068   \n",
              "4       0.663351    0.226796              0.401404        -0.319276   \n",
              "\n",
              "   Color intensity       Hue  OD280/OD315 of diluted wines  \n",
              "0         0.362177  1.847920                      1.013009  \n",
              "1         0.406051  1.113449                      0.965242  \n",
              "2         0.318304  0.788587                      1.395148  \n",
              "3        -0.427544  1.184071                      2.334574  \n",
              "4         0.362177  0.449601                     -0.037874  "
            ],
            "text/html": [
              "\n",
              "  <div id=\"df-7af49971-eb38-4c4b-a6e7-7e1dc5b10693\">\n",
              "    <div class=\"colab-df-container\">\n",
              "      <div>\n",
              "<style scoped>\n",
              "    .dataframe tbody tr th:only-of-type {\n",
              "        vertical-align: middle;\n",
              "    }\n",
              "\n",
              "    .dataframe tbody tr th {\n",
              "        vertical-align: top;\n",
              "    }\n",
              "\n",
              "    .dataframe thead th {\n",
              "        text-align: right;\n",
              "    }\n",
              "</style>\n",
              "<table border=\"1\" class=\"dataframe\">\n",
              "  <thead>\n",
              "    <tr style=\"text-align: right;\">\n",
              "      <th></th>\n",
              "      <th>Class</th>\n",
              "      <th>Alcohol</th>\n",
              "      <th>Malic acid</th>\n",
              "      <th>Ash</th>\n",
              "      <th>Alcalinity of ash</th>\n",
              "      <th>Magnesium</th>\n",
              "      <th>Total phenols</th>\n",
              "      <th>Flavanoids</th>\n",
              "      <th>Nonflavanoid phenols</th>\n",
              "      <th>Proanthocyanins</th>\n",
              "      <th>Color intensity</th>\n",
              "      <th>Hue</th>\n",
              "      <th>OD280/OD315 of diluted wines</th>\n",
              "    </tr>\n",
              "  </thead>\n",
              "  <tbody>\n",
              "    <tr>\n",
              "      <th>0</th>\n",
              "      <td>1</td>\n",
              "      <td>-0.562250</td>\n",
              "      <td>0.232053</td>\n",
              "      <td>-1.169593</td>\n",
              "      <td>1.913905</td>\n",
              "      <td>0.808997</td>\n",
              "      <td>1.034819</td>\n",
              "      <td>-0.659563</td>\n",
              "      <td>1.224884</td>\n",
              "      <td>0.251717</td>\n",
              "      <td>0.362177</td>\n",
              "      <td>1.847920</td>\n",
              "      <td>1.013009</td>\n",
              "    </tr>\n",
              "    <tr>\n",
              "      <th>1</th>\n",
              "      <td>1</td>\n",
              "      <td>-0.499413</td>\n",
              "      <td>-0.827996</td>\n",
              "      <td>-2.490847</td>\n",
              "      <td>0.018145</td>\n",
              "      <td>0.568648</td>\n",
              "      <td>0.733629</td>\n",
              "      <td>-0.820719</td>\n",
              "      <td>-0.544721</td>\n",
              "      <td>-0.293321</td>\n",
              "      <td>0.406051</td>\n",
              "      <td>1.113449</td>\n",
              "      <td>0.965242</td>\n",
              "    </tr>\n",
              "    <tr>\n",
              "      <th>2</th>\n",
              "      <td>1</td>\n",
              "      <td>0.021231</td>\n",
              "      <td>1.109334</td>\n",
              "      <td>-0.268738</td>\n",
              "      <td>0.088358</td>\n",
              "      <td>0.808997</td>\n",
              "      <td>1.215533</td>\n",
              "      <td>-0.498407</td>\n",
              "      <td>2.135968</td>\n",
              "      <td>0.269020</td>\n",
              "      <td>0.318304</td>\n",
              "      <td>0.788587</td>\n",
              "      <td>1.395148</td>\n",
              "    </tr>\n",
              "    <tr>\n",
              "      <th>3</th>\n",
              "      <td>1</td>\n",
              "      <td>-0.346811</td>\n",
              "      <td>0.487926</td>\n",
              "      <td>-0.809251</td>\n",
              "      <td>0.930918</td>\n",
              "      <td>2.491446</td>\n",
              "      <td>1.466525</td>\n",
              "      <td>-0.981875</td>\n",
              "      <td>1.032155</td>\n",
              "      <td>1.186068</td>\n",
              "      <td>-0.427544</td>\n",
              "      <td>1.184071</td>\n",
              "      <td>2.334574</td>\n",
              "    </tr>\n",
              "    <tr>\n",
              "      <th>4</th>\n",
              "      <td>1</td>\n",
              "      <td>0.227694</td>\n",
              "      <td>1.840403</td>\n",
              "      <td>0.451946</td>\n",
              "      <td>1.281985</td>\n",
              "      <td>0.808997</td>\n",
              "      <td>0.663351</td>\n",
              "      <td>0.226796</td>\n",
              "      <td>0.401404</td>\n",
              "      <td>-0.319276</td>\n",
              "      <td>0.362177</td>\n",
              "      <td>0.449601</td>\n",
              "      <td>-0.037874</td>\n",
              "    </tr>\n",
              "  </tbody>\n",
              "</table>\n",
              "</div>\n",
              "      <button class=\"colab-df-convert\" onclick=\"convertToInteractive('df-7af49971-eb38-4c4b-a6e7-7e1dc5b10693')\"\n",
              "              title=\"Convert this dataframe to an interactive table.\"\n",
              "              style=\"display:none;\">\n",
              "        \n",
              "  <svg xmlns=\"http://www.w3.org/2000/svg\" height=\"24px\"viewBox=\"0 0 24 24\"\n",
              "       width=\"24px\">\n",
              "    <path d=\"M0 0h24v24H0V0z\" fill=\"none\"/>\n",
              "    <path d=\"M18.56 5.44l.94 2.06.94-2.06 2.06-.94-2.06-.94-.94-2.06-.94 2.06-2.06.94zm-11 1L8.5 8.5l.94-2.06 2.06-.94-2.06-.94L8.5 2.5l-.94 2.06-2.06.94zm10 10l.94 2.06.94-2.06 2.06-.94-2.06-.94-.94-2.06-.94 2.06-2.06.94z\"/><path d=\"M17.41 7.96l-1.37-1.37c-.4-.4-.92-.59-1.43-.59-.52 0-1.04.2-1.43.59L10.3 9.45l-7.72 7.72c-.78.78-.78 2.05 0 2.83L4 21.41c.39.39.9.59 1.41.59.51 0 1.02-.2 1.41-.59l7.78-7.78 2.81-2.81c.8-.78.8-2.07 0-2.86zM5.41 20L4 18.59l7.72-7.72 1.47 1.35L5.41 20z\"/>\n",
              "  </svg>\n",
              "      </button>\n",
              "      \n",
              "  <style>\n",
              "    .colab-df-container {\n",
              "      display:flex;\n",
              "      flex-wrap:wrap;\n",
              "      gap: 12px;\n",
              "    }\n",
              "\n",
              "    .colab-df-convert {\n",
              "      background-color: #E8F0FE;\n",
              "      border: none;\n",
              "      border-radius: 50%;\n",
              "      cursor: pointer;\n",
              "      display: none;\n",
              "      fill: #1967D2;\n",
              "      height: 32px;\n",
              "      padding: 0 0 0 0;\n",
              "      width: 32px;\n",
              "    }\n",
              "\n",
              "    .colab-df-convert:hover {\n",
              "      background-color: #E2EBFA;\n",
              "      box-shadow: 0px 1px 2px rgba(60, 64, 67, 0.3), 0px 1px 3px 1px rgba(60, 64, 67, 0.15);\n",
              "      fill: #174EA6;\n",
              "    }\n",
              "\n",
              "    [theme=dark] .colab-df-convert {\n",
              "      background-color: #3B4455;\n",
              "      fill: #D2E3FC;\n",
              "    }\n",
              "\n",
              "    [theme=dark] .colab-df-convert:hover {\n",
              "      background-color: #434B5C;\n",
              "      box-shadow: 0px 1px 3px 1px rgba(0, 0, 0, 0.15);\n",
              "      filter: drop-shadow(0px 1px 2px rgba(0, 0, 0, 0.3));\n",
              "      fill: #FFFFFF;\n",
              "    }\n",
              "  </style>\n",
              "\n",
              "      <script>\n",
              "        const buttonEl =\n",
              "          document.querySelector('#df-7af49971-eb38-4c4b-a6e7-7e1dc5b10693 button.colab-df-convert');\n",
              "        buttonEl.style.display =\n",
              "          google.colab.kernel.accessAllowed ? 'block' : 'none';\n",
              "\n",
              "        async function convertToInteractive(key) {\n",
              "          const element = document.querySelector('#df-7af49971-eb38-4c4b-a6e7-7e1dc5b10693');\n",
              "          const dataTable =\n",
              "            await google.colab.kernel.invokeFunction('convertToInteractive',\n",
              "                                                     [key], {});\n",
              "          if (!dataTable) return;\n",
              "\n",
              "          const docLinkHtml = 'Like what you see? Visit the ' +\n",
              "            '<a target=\"_blank\" href=https://colab.research.google.com/notebooks/data_table.ipynb>data table notebook</a>'\n",
              "            + ' to learn more about interactive tables.';\n",
              "          element.innerHTML = '';\n",
              "          dataTable['output_type'] = 'display_data';\n",
              "          await google.colab.output.renderOutput(dataTable, element);\n",
              "          const docLink = document.createElement('div');\n",
              "          docLink.innerHTML = docLinkHtml;\n",
              "          element.appendChild(docLink);\n",
              "        }\n",
              "      </script>\n",
              "    </div>\n",
              "  </div>\n",
              "  "
            ]
          },
          "metadata": {},
          "execution_count": 7
        }
      ]
    },
    {
      "cell_type": "markdown",
      "source": [
        "---\n",
        "\n",
        "3. Обучите любые два метода кластеризации на данных датафреймов X, вычислите метрики качества кластеризации: однородность, полнота, V-мера, ARI, AMI, силуэт, инерция."
      ],
      "metadata": {
        "id": "sciNUHR9gqfY"
      }
    },
    {
      "cell_type": "code",
      "source": [
        "# train any two clustering methods on X dataframe data, calculate clustering\n",
        "# quality metrics: uniformity, recall, V-score, ARI, AMI, silhouette, inertia\n",
        "\n",
        "# KMeans\n",
        "kmeans = KMeans(n_clusters=3, random_state=0)\n",
        "kmeans.fit(X)\n",
        "y_pred = kmeans.predict(X)\n",
        "\n",
        "print('KMeans:')\n",
        "print()\n",
        "print('Silhouette score: ', silhouette_score(X, y_pred))\n",
        "print('Homogeneity score: ', homogeneity_score(y, y_pred))\n",
        "print('Completeness score: ', completeness_score(y, y_pred))\n",
        "print('V-measure score: ', v_measure_score(y, y_pred))\n",
        "print('Adjusted Rand score: ', adjusted_rand_score(y, y_pred))\n",
        "print('Adjusted Mutual Info score: ', adjusted_mutual_info_score(y, y_pred))\n",
        "print('Inertia: ', kmeans.inertia_)"
      ],
      "metadata": {
        "id": "IvV8s68RgtP5",
        "colab": {
          "base_uri": "https://localhost:8080/"
        },
        "outputId": "e0a1adb2-d742-46f6-9bb6-69024b503eab"
      },
      "execution_count": null,
      "outputs": [
        {
          "output_type": "stream",
          "name": "stdout",
          "text": [
            "KMeans:\n",
            "\n",
            "Silhouette score:  0.2779213822154089\n",
            "Homogeneity score:  0.8372688865150703\n",
            "Completeness score:  0.8344475880291652\n",
            "V-measure score:  0.8358558565678332\n",
            "Adjusted Rand score:  0.8297415339237041\n",
            "Adjusted Mutual Info score:  0.8341146256993133\n",
            "Inertia:  1196.4427257318262\n"
          ]
        }
      ]
    },
    {
      "cell_type": "code",
      "source": [
        "# agglomerative clustering\n",
        "\n",
        "agg = AgglomerativeClustering(n_clusters=3)\n",
        "agg.fit(X)\n",
        "y_pred = agg.labels_\n",
        "\n",
        "print('Agglomerative Clustering:')\n",
        "print()\n",
        "print('Silhouette score: ', silhouette_score(X, y_pred))\n",
        "print('Homogeneity score: ', homogeneity_score(y, y_pred))\n",
        "print('Completeness score: ', completeness_score(y, y_pred))\n",
        "print('V-measure score: ', v_measure_score(y, y_pred))\n",
        "print('Adjusted Rand score: ', adjusted_rand_score(y, y_pred))\n",
        "print('Adjusted Mutual Info score: ', adjusted_mutual_info_score(y, y_pred))"
      ],
      "metadata": {
        "colab": {
          "base_uri": "https://localhost:8080/"
        },
        "id": "Kbc0dsHXcXdJ",
        "outputId": "6c56696c-d3af-401f-c750-5bebd74a3663"
      },
      "execution_count": null,
      "outputs": [
        {
          "output_type": "stream",
          "name": "stdout",
          "text": [
            "Agglomerative Clustering:\n",
            "\n",
            "Silhouette score:  0.2696045532682067\n",
            "Homogeneity score:  0.73772657791012\n",
            "Completeness score:  0.7319515510127995\n",
            "V-measure score:  0.7348277181213978\n",
            "Adjusted Rand score:  0.7190946237450169\n",
            "Adjusted Mutual Info score:  0.732021756897634\n"
          ]
        }
      ]
    },
    {
      "cell_type": "markdown",
      "source": [
        "---\n",
        "\n",
        "4. Обучите на данных X метод главных компонент: `sklearn.decomposition.PCA`, с параметром `n_components=None`. Выведите доли дисперсии, объясняемые каждой из компонент."
      ],
      "metadata": {
        "id": "n1snbZiTgtZm"
      }
    },
    {
      "cell_type": "code",
      "source": [
        "# train the principal component method on X data: sklearn.decomposition.PCA, with the parameter\n",
        "# n_components = None. Print the fractions of the variance explained by each of the components\n",
        "\n",
        "pca = PCA(n_components=None) # can try with n_components=5 to see the difference with metrics\n",
        "pca.fit(X)\n",
        "\n",
        "print('Explained variance ratio: \\n\\n', pca.explained_variance_ratio_)"
      ],
      "metadata": {
        "id": "h_HE2DzQgvmr",
        "colab": {
          "base_uri": "https://localhost:8080/"
        },
        "outputId": "3a3948ab-04d9-4641-f0fc-8d617c841ba9"
      },
      "execution_count": null,
      "outputs": [
        {
          "output_type": "stream",
          "name": "stdout",
          "text": [
            "Explained variance ratio: \n",
            "\n",
            " [0.40615133 0.16082768 0.10837432 0.07318868 0.06411381 0.05080356\n",
            " 0.04358486 0.02604468 0.02108254 0.01846414 0.0144277  0.00931459\n",
            " 0.00362211]\n"
          ]
        }
      ]
    },
    {
      "cell_type": "markdown",
      "source": [
        "---\n",
        "\n",
        "5. Постройте график зависимости доли дисперсии от номера компоненты. Используйте для этого массив `explained_variance_ratio_`, в котором нулевой элемент отвечает за первую главную компонента, под индексом 1 – за вторую компоненту и так далее."
      ],
      "metadata": {
        "id": "Mf0W-6EegvvV"
      }
    },
    {
      "cell_type": "code",
      "source": [
        "# plot a graph of the percentage of variance versus the component number. use the explained_variance_ratio_ array for this,\n",
        "# in which the zero element is responsible for the first main component, at index 1 - for the second component, and so on\n",
        "\n",
        "plt.plot(range(1, len(pca.explained_variance_ratio_) + 1), pca.explained_variance_ratio_)\n",
        "plt.xlabel('Component number')\n",
        "plt.ylabel('Percentage of variance')\n",
        "plt.show();"
      ],
      "metadata": {
        "id": "p8TvZVrRgyBB",
        "colab": {
          "base_uri": "https://localhost:8080/",
          "height": 279
        },
        "outputId": "777f7119-27ec-4f0c-ad9c-2a7804f65d08"
      },
      "execution_count": null,
      "outputs": [
        {
          "output_type": "display_data",
          "data": {
            "text/plain": [
              "<Figure size 432x288 with 1 Axes>"
            ],
            "image/png": "[encoded data removed]"
          },
          "metadata": {
            "needs_background": "light"
          }
        }
      ]
    },
    {
      "cell_type": "markdown",
      "source": [
        "---\n",
        "\n",
        "6. При помощи функции `pca.transform` преобразуйте исходные данные в соответствии с обученным методом главных компонентов. Редуцированные данные сохраните в датафрейм."
      ],
      "metadata": {
        "id": "GQd9wVG0gyKM"
      }
    },
    {
      "cell_type": "code",
      "source": [
        "# use the pca.transform function to transform the original data according to the\n",
        "# trained principal components method and save the reduced data to a dataframe\n",
        "\n",
        "X_pca = pca.transform(X)\n",
        "X_pca = pd.DataFrame(X_pca)"
      ],
      "metadata": {
        "id": "AHFi2GRUg0Ya"
      },
      "execution_count": null,
      "outputs": []
    },
    {
      "cell_type": "code",
      "source": [
        "X_pca.head()"
      ],
      "metadata": {
        "colab": {
          "base_uri": "https://localhost:8080/",
          "height": 206
        },
        "id": "LQmTcoy3c6Uv",
        "outputId": "e5352271-414b-4172-8ad6-df073d1910db"
      },
      "execution_count": null,
      "outputs": [
        {
          "output_type": "execute_result",
          "data": {
            "text/plain": [
              "         0         1         2         3         4         5         6   \\\n",
              "0 -3.219708 -1.210402 -0.390822 -0.193063  0.745309 -0.126413  0.643268   \n",
              "1 -2.387272  0.666153 -1.920490 -0.350477 -0.473581 -1.195948 -0.226616   \n",
              "2 -2.630641 -1.500932  0.555246  0.705509 -0.544191  0.243269  0.414635   \n",
              "3 -3.552660 -2.545362 -0.706735  0.562525 -0.574973 -0.004680 -0.483852   \n",
              "4 -1.199345 -1.334301  1.763172 -0.430907  0.386084 -0.475129  0.427908   \n",
              "\n",
              "         7         8         9         10        11        12  \n",
              "0  0.518354 -0.688974  0.091663  0.874140 -0.192553  0.132484  \n",
              "1  0.628851 -0.268710 -0.199426  0.269251 -0.099962  0.155951  \n",
              "2 -0.881613 -0.564346 -0.503303 -0.141823  0.016201 -0.017707  \n",
              "3  0.492406 -0.064325  0.699914 -0.399896 -0.455834  0.064952  \n",
              "4  0.577178 -0.036389 -0.475654 -0.055557  0.148345 -0.503681  "
            ],
            "text/html": [
              "\n",
              "  <div id=\"df-f5afa212-e84c-47fb-98f2-89574d92d0c8\">\n",
              "    <div class=\"colab-df-container\">\n",
              "      <div>\n",
              "<style scoped>\n",
              "    .dataframe tbody tr th:only-of-type {\n",
              "        vertical-align: middle;\n",
              "    }\n",
              "\n",
              "    .dataframe tbody tr th {\n",
              "        vertical-align: top;\n",
              "    }\n",
              "\n",
              "    .dataframe thead th {\n",
              "        text-align: right;\n",
              "    }\n",
              "</style>\n",
              "<table border=\"1\" class=\"dataframe\">\n",
              "  <thead>\n",
              "    <tr style=\"text-align: right;\">\n",
              "      <th></th>\n",
              "      <th>0</th>\n",
              "      <th>1</th>\n",
              "      <th>2</th>\n",
              "      <th>3</th>\n",
              "      <th>4</th>\n",
              "      <th>5</th>\n",
              "      <th>6</th>\n",
              "      <th>7</th>\n",
              "      <th>8</th>\n",
              "      <th>9</th>\n",
              "      <th>10</th>\n",
              "      <th>11</th>\n",
              "      <th>12</th>\n",
              "    </tr>\n",
              "  </thead>\n",
              "  <tbody>\n",
              "    <tr>\n",
              "      <th>0</th>\n",
              "      <td>-3.219708</td>\n",
              "      <td>-1.210402</td>\n",
              "      <td>-0.390822</td>\n",
              "      <td>-0.193063</td>\n",
              "      <td>0.745309</td>\n",
              "      <td>-0.126413</td>\n",
              "      <td>0.643268</td>\n",
              "      <td>0.518354</td>\n",
              "      <td>-0.688974</td>\n",
              "      <td>0.091663</td>\n",
              "      <td>0.874140</td>\n",
              "      <td>-0.192553</td>\n",
              "      <td>0.132484</td>\n",
              "    </tr>\n",
              "    <tr>\n",
              "      <th>1</th>\n",
              "      <td>-2.387272</td>\n",
              "      <td>0.666153</td>\n",
              "      <td>-1.920490</td>\n",
              "      <td>-0.350477</td>\n",
              "      <td>-0.473581</td>\n",
              "      <td>-1.195948</td>\n",
              "      <td>-0.226616</td>\n",
              "      <td>0.628851</td>\n",
              "      <td>-0.268710</td>\n",
              "      <td>-0.199426</td>\n",
              "      <td>0.269251</td>\n",
              "      <td>-0.099962</td>\n",
              "      <td>0.155951</td>\n",
              "    </tr>\n",
              "    <tr>\n",
              "      <th>2</th>\n",
              "      <td>-2.630641</td>\n",
              "      <td>-1.500932</td>\n",
              "      <td>0.555246</td>\n",
              "      <td>0.705509</td>\n",
              "      <td>-0.544191</td>\n",
              "      <td>0.243269</td>\n",
              "      <td>0.414635</td>\n",
              "      <td>-0.881613</td>\n",
              "      <td>-0.564346</td>\n",
              "      <td>-0.503303</td>\n",
              "      <td>-0.141823</td>\n",
              "      <td>0.016201</td>\n",
              "      <td>-0.017707</td>\n",
              "    </tr>\n",
              "    <tr>\n",
              "      <th>3</th>\n",
              "      <td>-3.552660</td>\n",
              "      <td>-2.545362</td>\n",
              "      <td>-0.706735</td>\n",
              "      <td>0.562525</td>\n",
              "      <td>-0.574973</td>\n",
              "      <td>-0.004680</td>\n",
              "      <td>-0.483852</td>\n",
              "      <td>0.492406</td>\n",
              "      <td>-0.064325</td>\n",
              "      <td>0.699914</td>\n",
              "      <td>-0.399896</td>\n",
              "      <td>-0.455834</td>\n",
              "      <td>0.064952</td>\n",
              "    </tr>\n",
              "    <tr>\n",
              "      <th>4</th>\n",
              "      <td>-1.199345</td>\n",
              "      <td>-1.334301</td>\n",
              "      <td>1.763172</td>\n",
              "      <td>-0.430907</td>\n",
              "      <td>0.386084</td>\n",
              "      <td>-0.475129</td>\n",
              "      <td>0.427908</td>\n",
              "      <td>0.577178</td>\n",
              "      <td>-0.036389</td>\n",
              "      <td>-0.475654</td>\n",
              "      <td>-0.055557</td>\n",
              "      <td>0.148345</td>\n",
              "      <td>-0.503681</td>\n",
              "    </tr>\n",
              "  </tbody>\n",
              "</table>\n",
              "</div>\n",
              "      <button class=\"colab-df-convert\" onclick=\"convertToInteractive('df-f5afa212-e84c-47fb-98f2-89574d92d0c8')\"\n",
              "              title=\"Convert this dataframe to an interactive table.\"\n",
              "              style=\"display:none;\">\n",
              "        \n",
              "  <svg xmlns=\"http://www.w3.org/2000/svg\" height=\"24px\"viewBox=\"0 0 24 24\"\n",
              "       width=\"24px\">\n",
              "    <path d=\"M0 0h24v24H0V0z\" fill=\"none\"/>\n",
              "    <path d=\"M18.56 5.44l.94 2.06.94-2.06 2.06-.94-2.06-.94-.94-2.06-.94 2.06-2.06.94zm-11 1L8.5 8.5l.94-2.06 2.06-.94-2.06-.94L8.5 2.5l-.94 2.06-2.06.94zm10 10l.94 2.06.94-2.06 2.06-.94-2.06-.94-.94-2.06-.94 2.06-2.06.94z\"/><path d=\"M17.41 7.96l-1.37-1.37c-.4-.4-.92-.59-1.43-.59-.52 0-1.04.2-1.43.59L10.3 9.45l-7.72 7.72c-.78.78-.78 2.05 0 2.83L4 21.41c.39.39.9.59 1.41.59.51 0 1.02-.2 1.41-.59l7.78-7.78 2.81-2.81c.8-.78.8-2.07 0-2.86zM5.41 20L4 18.59l7.72-7.72 1.47 1.35L5.41 20z\"/>\n",
              "  </svg>\n",
              "      </button>\n",
              "      \n",
              "  <style>\n",
              "    .colab-df-container {\n",
              "      display:flex;\n",
              "      flex-wrap:wrap;\n",
              "      gap: 12px;\n",
              "    }\n",
              "\n",
              "    .colab-df-convert {\n",
              "      background-color: #E8F0FE;\n",
              "      border: none;\n",
              "      border-radius: 50%;\n",
              "      cursor: pointer;\n",
              "      display: none;\n",
              "      fill: #1967D2;\n",
              "      height: 32px;\n",
              "      padding: 0 0 0 0;\n",
              "      width: 32px;\n",
              "    }\n",
              "\n",
              "    .colab-df-convert:hover {\n",
              "      background-color: #E2EBFA;\n",
              "      box-shadow: 0px 1px 2px rgba(60, 64, 67, 0.3), 0px 1px 3px 1px rgba(60, 64, 67, 0.15);\n",
              "      fill: #174EA6;\n",
              "    }\n",
              "\n",
              "    [theme=dark] .colab-df-convert {\n",
              "      background-color: #3B4455;\n",
              "      fill: #D2E3FC;\n",
              "    }\n",
              "\n",
              "    [theme=dark] .colab-df-convert:hover {\n",
              "      background-color: #434B5C;\n",
              "      box-shadow: 0px 1px 3px 1px rgba(0, 0, 0, 0.15);\n",
              "      filter: drop-shadow(0px 1px 2px rgba(0, 0, 0, 0.3));\n",
              "      fill: #FFFFFF;\n",
              "    }\n",
              "  </style>\n",
              "\n",
              "      <script>\n",
              "        const buttonEl =\n",
              "          document.querySelector('#df-f5afa212-e84c-47fb-98f2-89574d92d0c8 button.colab-df-convert');\n",
              "        buttonEl.style.display =\n",
              "          google.colab.kernel.accessAllowed ? 'block' : 'none';\n",
              "\n",
              "        async function convertToInteractive(key) {\n",
              "          const element = document.querySelector('#df-f5afa212-e84c-47fb-98f2-89574d92d0c8');\n",
              "          const dataTable =\n",
              "            await google.colab.kernel.invokeFunction('convertToInteractive',\n",
              "                                                     [key], {});\n",
              "          if (!dataTable) return;\n",
              "\n",
              "          const docLinkHtml = 'Like what you see? Visit the ' +\n",
              "            '<a target=\"_blank\" href=https://colab.research.google.com/notebooks/data_table.ipynb>data table notebook</a>'\n",
              "            + ' to learn more about interactive tables.';\n",
              "          element.innerHTML = '';\n",
              "          dataTable['output_type'] = 'display_data';\n",
              "          await google.colab.output.renderOutput(dataTable, element);\n",
              "          const docLink = document.createElement('div');\n",
              "          docLink.innerHTML = docLinkHtml;\n",
              "          element.appendChild(docLink);\n",
              "        }\n",
              "      </script>\n",
              "    </div>\n",
              "  </div>\n",
              "  "
            ]
          },
          "metadata": {},
          "execution_count": 13
        }
      ]
    },
    {
      "cell_type": "markdown",
      "source": [
        "---\n",
        "\n",
        "7. Выведите на диаграмму облако раскрашенных точек, но в координатах первой и второй главных компонент (столбцы `[0]` и `[1]` матрицы редуцированных данных)."
      ],
      "metadata": {
        "id": "Gokulqqeg0hG"
      }
    },
    {
      "cell_type": "code",
      "source": [
        "# draw a cloud of colored points on the diagram, but in the coordinates of the first \n",
        "# and second principal components (columns [0] and [1] of the reduced data matrix)\n",
        "\n",
        "plt.scatter(X_pca[0], X_pca[1], c=y)\n",
        "plt.xlabel('First component')\n",
        "plt.ylabel('Second component')\n",
        "plt.show();"
      ],
      "metadata": {
        "id": "3g_XGq7Wg2nn",
        "colab": {
          "base_uri": "https://localhost:8080/",
          "height": 279
        },
        "outputId": "cc0939a6-f5d8-48bf-e23f-fee04c0cbd1a"
      },
      "execution_count": null,
      "outputs": [
        {
          "output_type": "display_data",
          "data": {
            "text/plain": [
              "<Figure size 432x288 with 1 Axes>"
            ],
            "image/png": "[encoded data removed]"
          },
          "metadata": {
            "needs_background": "light"
          }
        }
      ]
    },
    {
      "cell_type": "markdown",
      "source": [
        "---\n",
        "\n",
        "8. Обучите снова те же методы кластеризации, но на редуцированных данных, вычислите метрики и сравните с предыдущими результатами."
      ],
      "metadata": {
        "id": "amRcsJ_Pg2vS"
      }
    },
    {
      "cell_type": "code",
      "source": [
        "# train again the same clustering methods but on reduced data, calculate metrics and compare with previous results\n",
        "\n",
        "# KMeans\n",
        "\n",
        "kmeans = KMeans(n_clusters=3, random_state=0)\n",
        "kmeans.fit(X_pca)\n",
        "y_pred = kmeans.predict(X_pca)\n",
        "\n",
        "print('KMeans:')\n",
        "print()\n",
        "print('Silhouette score: ', silhouette_score(X_pca, y_pred))\n",
        "print('Homogeneity score: ', homogeneity_score(y, y_pred))\n",
        "print('Completeness score: ', completeness_score(y, y_pred))\n",
        "print('V-measure score: ', v_measure_score(y, y_pred))\n",
        "print('Adjusted Rand score: ', adjusted_rand_score(y, y_pred))\n",
        "print('Adjusted Mutual Info score: ', adjusted_mutual_info_score(y, y_pred))\n",
        "print('Inertia: ', kmeans.inertia_)"
      ],
      "metadata": {
        "id": "KsXQ3jGMg3ya",
        "colab": {
          "base_uri": "https://localhost:8080/"
        },
        "outputId": "c7e22dba-7e48-4285-a0b7-10655a6b2f0b"
      },
      "execution_count": null,
      "outputs": [
        {
          "output_type": "stream",
          "name": "stdout",
          "text": [
            "KMeans:\n",
            "\n",
            "Silhouette score:  0.2779213822154088\n",
            "Homogeneity score:  0.8372688865150703\n",
            "Completeness score:  0.8344475880291652\n",
            "V-measure score:  0.8358558565678332\n",
            "Adjusted Rand score:  0.8297415339237041\n",
            "Adjusted Mutual Info score:  0.8341146256993133\n",
            "Inertia:  1196.442725731826\n"
          ]
        }
      ]
    },
    {
      "cell_type": "code",
      "source": [
        "# agglomerative clustering\n",
        "\n",
        "agg = AgglomerativeClustering(n_clusters=3)\n",
        "agg.fit(X_pca)\n",
        "y_pred = agg.labels_\n",
        "\n",
        "print('Agglomerative Clustering:')\n",
        "print()\n",
        "print('Silhouette score: ', silhouette_score(X_pca, y_pred))\n",
        "print('Homogeneity score: ', homogeneity_score(y, y_pred))\n",
        "print('Completeness score: ', completeness_score(y, y_pred))\n",
        "print('V-measure score: ', v_measure_score(y, y_pred))\n",
        "print('Adjusted Rand score: ', adjusted_rand_score(y, y_pred))\n",
        "print('Adjusted Mutual Info score: ', adjusted_mutual_info_score(y, y_pred))"
      ],
      "metadata": {
        "colab": {
          "base_uri": "https://localhost:8080/"
        },
        "id": "owCtflzddMqV",
        "outputId": "9979b417-dfc9-4319-f2f4-7bd3fc303d76"
      },
      "execution_count": null,
      "outputs": [
        {
          "output_type": "stream",
          "name": "stdout",
          "text": [
            "Agglomerative Clustering:\n",
            "\n",
            "Silhouette score:  0.26960455326820665\n",
            "Homogeneity score:  0.73772657791012\n",
            "Completeness score:  0.7319515510127995\n",
            "V-measure score:  0.7348277181213978\n",
            "Adjusted Rand score:  0.7190946237450169\n",
            "Adjusted Mutual Info score:  0.732021756897634\n"
          ]
        }
      ]
    }
  ]
}