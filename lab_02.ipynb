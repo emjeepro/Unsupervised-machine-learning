{
  "cells": [
    {
      "cell_type": "markdown",
      "metadata": {
        "id": "RIuUyA-6Type"
      },
      "source": [
        "## Лаб.02 K-means_датасет\n",
        "\n",
        "### Кластеризация методом K-means\n",
        "\n",
        "---\n",
        "\n",
        "#### Входные данные: \n",
        "`us_census` датасет в формате csv, содержащий данные о городах США (индекс, штат, географические широта и долгота, численность населения).\n",
        "\n",
        "#### Задание:\n",
        "Написать программный код разбиения городов самого большого штата на кластеры таким образом, чтобы определить местонахождение центров, оптимальное по удаленности городов. \n",
        "\n",
        "**Порядок выполнения работы:**\n",
        "1.\tЗагрузите данные в датафрейм. Определите штат с максимальным количеством городов.\n",
        "2.\tВыделите из датафрейма столбцы с географическими координатами для городов выбранного штата.\n",
        "3.\tПостройте модели кластеризации методом K-means, задав для каждой число кластеров из интервала [1, 8]. Вычислите метрики: силуэт и сумму квадратов расстояний от центроидов (inertia).\n",
        "4.\tПостройте диаграммы с исходными точками и центроидами полученных кластеров. Оцените визуально нахождение центров относительно распределения городов: совпадают ли центроиды с наиболее населенными районами.\n",
        "5.\tВычислите для каждой модели число точек в каждом кластере. Совет: воспользуйтесь методом `numpy.unique()`\n",
        "6.\tНайдите города, наиболее приближенные к центроидам кластеров.\n",
        "\n",
        "---"
      ]
    },
    {
      "cell_type": "markdown",
      "metadata": {
        "id": "Z3PApBzeT02-"
      },
      "source": [
        "1.\tЗагрузите данные в датафрейм. Определите штат с максимальным количеством городов.\n",
        "\n",
        "* Load data into a dataframe. Determine the state with the maximum number of cities."
      ]
    },
    {
      "cell_type": "code",
      "execution_count": null,
      "metadata": {
        "id": "JvfHqjliT9EL"
      },
      "outputs": [],
      "source": [
        "# подключим библиотеки\n",
        "\n",
        "import numpy as np\n",
        "import pandas as pd\n",
        "import matplotlib.pyplot as plt"
      ]
    },
    {
      "cell_type": "code",
      "execution_count": null,
      "metadata": {
        "id": "RNDjiUW1Y1BE"
      },
      "outputs": [],
      "source": [
        "from google.colab import drive \n",
        "drive.mount('/content/gdrive')"
      ]
    },
    {
      "cell_type": "code",
      "execution_count": null,
      "metadata": {
        "id": "HFsQSNcKY7vZ"
      },
      "outputs": [],
      "source": [
        "# добавим данные в датаафрейм\n",
        "\n",
        "# use this line if on Jupyter\n",
        "# df = pd.read_csv('us_census.csv')\n",
        "\n",
        "# use this line if on Colab\n",
        "df = pd.read_csv('gdrive/My Drive/Colab Notebooks/data/us_census.csv')"
      ]
    },
    {
      "cell_type": "code",
      "execution_count": null,
      "metadata": {
        "colab": {
          "base_uri": "https://localhost:8080/",
          "height": 206
        },
        "id": "1qdFV0ttUs9n",
        "outputId": "8bc70691-6820-4456-e15a-0a7acb9d64eb"
      },
      "outputs": [
        {
          "data": {
            "text/html": [
              "\n",
              "  <div id=\"df-b1cd4a22-16aa-4c2b-a283-e77a24fd8b06\">\n",
              "    <div class=\"colab-df-container\">\n",
              "      <div>\n",
              "<style scoped>\n",
              "    .dataframe tbody tr th:only-of-type {\n",
              "        vertical-align: middle;\n",
              "    }\n",
              "\n",
              "    .dataframe tbody tr th {\n",
              "        vertical-align: top;\n",
              "    }\n",
              "\n",
              "    .dataframe thead th {\n",
              "        text-align: right;\n",
              "    }\n",
              "</style>\n",
              "<table border=\"1\" class=\"dataframe\">\n",
              "  <thead>\n",
              "    <tr style=\"text-align: right;\">\n",
              "      <th></th>\n",
              "      <th>zip</th>\n",
              "      <th>state</th>\n",
              "      <th>latitude</th>\n",
              "      <th>longitude</th>\n",
              "      <th>population</th>\n",
              "    </tr>\n",
              "  </thead>\n",
              "  <tbody>\n",
              "    <tr>\n",
              "      <th>0</th>\n",
              "      <td>601</td>\n",
              "      <td>PR</td>\n",
              "      <td>18.180103</td>\n",
              "      <td>-66.74947</td>\n",
              "      <td>19143</td>\n",
              "    </tr>\n",
              "    <tr>\n",
              "      <th>1</th>\n",
              "      <td>602</td>\n",
              "      <td>PR</td>\n",
              "      <td>18.363285</td>\n",
              "      <td>-67.18024</td>\n",
              "      <td>42042</td>\n",
              "    </tr>\n",
              "    <tr>\n",
              "      <th>2</th>\n",
              "      <td>603</td>\n",
              "      <td>PR</td>\n",
              "      <td>18.448619</td>\n",
              "      <td>-67.13422</td>\n",
              "      <td>55592</td>\n",
              "    </tr>\n",
              "    <tr>\n",
              "      <th>3</th>\n",
              "      <td>604</td>\n",
              "      <td>PR</td>\n",
              "      <td>18.498987</td>\n",
              "      <td>-67.13699</td>\n",
              "      <td>3844</td>\n",
              "    </tr>\n",
              "    <tr>\n",
              "      <th>4</th>\n",
              "      <td>606</td>\n",
              "      <td>PR</td>\n",
              "      <td>18.182151</td>\n",
              "      <td>-66.95880</td>\n",
              "      <td>6449</td>\n",
              "    </tr>\n",
              "  </tbody>\n",
              "</table>\n",
              "</div>\n",
              "      <button class=\"colab-df-convert\" onclick=\"convertToInteractive('df-b1cd4a22-16aa-4c2b-a283-e77a24fd8b06')\"\n",
              "              title=\"Convert this dataframe to an interactive table.\"\n",
              "              style=\"display:none;\">\n",
              "        \n",
              "  <svg xmlns=\"http://www.w3.org/2000/svg\" height=\"24px\"viewBox=\"0 0 24 24\"\n",
              "       width=\"24px\">\n",
              "    <path d=\"M0 0h24v24H0V0z\" fill=\"none\"/>\n",
              "    <path d=\"M18.56 5.44l.94 2.06.94-2.06 2.06-.94-2.06-.94-.94-2.06-.94 2.06-2.06.94zm-11 1L8.5 8.5l.94-2.06 2.06-.94-2.06-.94L8.5 2.5l-.94 2.06-2.06.94zm10 10l.94 2.06.94-2.06 2.06-.94-2.06-.94-.94-2.06-.94 2.06-2.06.94z\"/><path d=\"M17.41 7.96l-1.37-1.37c-.4-.4-.92-.59-1.43-.59-.52 0-1.04.2-1.43.59L10.3 9.45l-7.72 7.72c-.78.78-.78 2.05 0 2.83L4 21.41c.39.39.9.59 1.41.59.51 0 1.02-.2 1.41-.59l7.78-7.78 2.81-2.81c.8-.78.8-2.07 0-2.86zM5.41 20L4 18.59l7.72-7.72 1.47 1.35L5.41 20z\"/>\n",
              "  </svg>\n",
              "      </button>\n",
              "      \n",
              "  <style>\n",
              "    .colab-df-container {\n",
              "      display:flex;\n",
              "      flex-wrap:wrap;\n",
              "      gap: 12px;\n",
              "    }\n",
              "\n",
              "    .colab-df-convert {\n",
              "      background-color: #E8F0FE;\n",
              "      border: none;\n",
              "      border-radius: 50%;\n",
              "      cursor: pointer;\n",
              "      display: none;\n",
              "      fill: #1967D2;\n",
              "      height: 32px;\n",
              "      padding: 0 0 0 0;\n",
              "      width: 32px;\n",
              "    }\n",
              "\n",
              "    .colab-df-convert:hover {\n",
              "      background-color: #E2EBFA;\n",
              "      box-shadow: 0px 1px 2px rgba(60, 64, 67, 0.3), 0px 1px 3px 1px rgba(60, 64, 67, 0.15);\n",
              "      fill: #174EA6;\n",
              "    }\n",
              "\n",
              "    [theme=dark] .colab-df-convert {\n",
              "      background-color: #3B4455;\n",
              "      fill: #D2E3FC;\n",
              "    }\n",
              "\n",
              "    [theme=dark] .colab-df-convert:hover {\n",
              "      background-color: #434B5C;\n",
              "      box-shadow: 0px 1px 3px 1px rgba(0, 0, 0, 0.15);\n",
              "      filter: drop-shadow(0px 1px 2px rgba(0, 0, 0, 0.3));\n",
              "      fill: #FFFFFF;\n",
              "    }\n",
              "  </style>\n",
              "\n",
              "      <script>\n",
              "        const buttonEl =\n",
              "          document.querySelector('#df-b1cd4a22-16aa-4c2b-a283-e77a24fd8b06 button.colab-df-convert');\n",
              "        buttonEl.style.display =\n",
              "          google.colab.kernel.accessAllowed ? 'block' : 'none';\n",
              "\n",
              "        async function convertToInteractive(key) {\n",
              "          const element = document.querySelector('#df-b1cd4a22-16aa-4c2b-a283-e77a24fd8b06');\n",
              "          const dataTable =\n",
              "            await google.colab.kernel.invokeFunction('convertToInteractive',\n",
              "                                                     [key], {});\n",
              "          if (!dataTable) return;\n",
              "\n",
              "          const docLinkHtml = 'Like what you see? Visit the ' +\n",
              "            '<a target=\"_blank\" href=https://colab.research.google.com/notebooks/data_table.ipynb>data table notebook</a>'\n",
              "            + ' to learn more about interactive tables.';\n",
              "          element.innerHTML = '';\n",
              "          dataTable['output_type'] = 'display_data';\n",
              "          await google.colab.output.renderOutput(dataTable, element);\n",
              "          const docLink = document.createElement('div');\n",
              "          docLink.innerHTML = docLinkHtml;\n",
              "          element.appendChild(docLink);\n",
              "        }\n",
              "      </script>\n",
              "    </div>\n",
              "  </div>\n",
              "  "
            ],
            "text/plain": [
              "   zip state   latitude  longitude  population\n",
              "0  601    PR  18.180103  -66.74947       19143\n",
              "1  602    PR  18.363285  -67.18024       42042\n",
              "2  603    PR  18.448619  -67.13422       55592\n",
              "3  604    PR  18.498987  -67.13699        3844\n",
              "4  606    PR  18.182151  -66.95880        6449"
            ]
          },
          "execution_count": 4,
          "metadata": {},
          "output_type": "execute_result"
        }
      ],
      "source": [
        "# выведем первые 5 строк таблицы\n",
        "\n",
        "df.head(5)"
      ]
    },
    {
      "cell_type": "code",
      "execution_count": null,
      "metadata": {
        "colab": {
          "base_uri": "https://localhost:8080/"
        },
        "id": "PsQ5gFtrUu58",
        "outputId": "36a62226-59d9-4c2d-e7b0-2e4eb3cb6f4d"
      },
      "outputs": [
        {
          "name": "stdout",
          "output_type": "stream",
          "text": [
            "Index(['zip', 'state', 'latitude', 'longitude', 'population'], dtype='object')\n",
            "(31951, 5)\n",
            "zip             int64\n",
            "state          object\n",
            "latitude      float64\n",
            "longitude     float64\n",
            "population      int64\n",
            "dtype: object\n"
          ]
        }
      ],
      "source": [
        "# информация о наборе данных\n",
        "\n",
        "print(df.columns)\n",
        "print(df.shape)\n",
        "print(df.dtypes)"
      ]
    },
    {
      "cell_type": "code",
      "execution_count": null,
      "metadata": {
        "colab": {
          "base_uri": "https://localhost:8080/",
          "height": 300
        },
        "id": "og9U8FuG0-Sq",
        "outputId": "5c3221b4-ad34-4140-ecee-2513938c06d5"
      },
      "outputs": [
        {
          "data": {
            "text/html": [
              "\n",
              "  <div id=\"df-b80e48b3-7816-4c28-bcf9-e2e6ddfa52aa\">\n",
              "    <div class=\"colab-df-container\">\n",
              "      <div>\n",
              "<style scoped>\n",
              "    .dataframe tbody tr th:only-of-type {\n",
              "        vertical-align: middle;\n",
              "    }\n",
              "\n",
              "    .dataframe tbody tr th {\n",
              "        vertical-align: top;\n",
              "    }\n",
              "\n",
              "    .dataframe thead th {\n",
              "        text-align: right;\n",
              "    }\n",
              "</style>\n",
              "<table border=\"1\" class=\"dataframe\">\n",
              "  <thead>\n",
              "    <tr style=\"text-align: right;\">\n",
              "      <th></th>\n",
              "      <th>zip</th>\n",
              "      <th>latitude</th>\n",
              "      <th>longitude</th>\n",
              "      <th>population</th>\n",
              "    </tr>\n",
              "  </thead>\n",
              "  <tbody>\n",
              "    <tr>\n",
              "      <th>count</th>\n",
              "      <td>31951.000000</td>\n",
              "      <td>31951.000000</td>\n",
              "      <td>31951.000000</td>\n",
              "      <td>31951.000000</td>\n",
              "    </tr>\n",
              "    <tr>\n",
              "      <th>mean</th>\n",
              "      <td>49802.625333</td>\n",
              "      <td>38.851441</td>\n",
              "      <td>-91.044530</td>\n",
              "      <td>8925.830490</td>\n",
              "    </tr>\n",
              "    <tr>\n",
              "      <th>std</th>\n",
              "      <td>27330.096259</td>\n",
              "      <td>5.347607</td>\n",
              "      <td>15.028834</td>\n",
              "      <td>13114.560356</td>\n",
              "    </tr>\n",
              "    <tr>\n",
              "      <th>min</th>\n",
              "      <td>601.000000</td>\n",
              "      <td>17.964529</td>\n",
              "      <td>-176.636750</td>\n",
              "      <td>1.000000</td>\n",
              "    </tr>\n",
              "    <tr>\n",
              "      <th>25%</th>\n",
              "      <td>27316.500000</td>\n",
              "      <td>35.415903</td>\n",
              "      <td>-97.161550</td>\n",
              "      <td>776.000000</td>\n",
              "    </tr>\n",
              "    <tr>\n",
              "      <th>50%</th>\n",
              "      <td>49912.000000</td>\n",
              "      <td>39.480856</td>\n",
              "      <td>-88.304980</td>\n",
              "      <td>2762.000000</td>\n",
              "    </tr>\n",
              "    <tr>\n",
              "      <th>75%</th>\n",
              "      <td>71987.000000</td>\n",
              "      <td>42.113861</td>\n",
              "      <td>-80.395450</td>\n",
              "      <td>11867.000000</td>\n",
              "    </tr>\n",
              "    <tr>\n",
              "      <th>max</th>\n",
              "      <td>99950.000000</td>\n",
              "      <td>71.299525</td>\n",
              "      <td>-65.292570</td>\n",
              "      <td>144024.000000</td>\n",
              "    </tr>\n",
              "  </tbody>\n",
              "</table>\n",
              "</div>\n",
              "      <button class=\"colab-df-convert\" onclick=\"convertToInteractive('df-b80e48b3-7816-4c28-bcf9-e2e6ddfa52aa')\"\n",
              "              title=\"Convert this dataframe to an interactive table.\"\n",
              "              style=\"display:none;\">\n",
              "        \n",
              "  <svg xmlns=\"http://www.w3.org/2000/svg\" height=\"24px\"viewBox=\"0 0 24 24\"\n",
              "       width=\"24px\">\n",
              "    <path d=\"M0 0h24v24H0V0z\" fill=\"none\"/>\n",
              "    <path d=\"M18.56 5.44l.94 2.06.94-2.06 2.06-.94-2.06-.94-.94-2.06-.94 2.06-2.06.94zm-11 1L8.5 8.5l.94-2.06 2.06-.94-2.06-.94L8.5 2.5l-.94 2.06-2.06.94zm10 10l.94 2.06.94-2.06 2.06-.94-2.06-.94-.94-2.06-.94 2.06-2.06.94z\"/><path d=\"M17.41 7.96l-1.37-1.37c-.4-.4-.92-.59-1.43-.59-.52 0-1.04.2-1.43.59L10.3 9.45l-7.72 7.72c-.78.78-.78 2.05 0 2.83L4 21.41c.39.39.9.59 1.41.59.51 0 1.02-.2 1.41-.59l7.78-7.78 2.81-2.81c.8-.78.8-2.07 0-2.86zM5.41 20L4 18.59l7.72-7.72 1.47 1.35L5.41 20z\"/>\n",
              "  </svg>\n",
              "      </button>\n",
              "      \n",
              "  <style>\n",
              "    .colab-df-container {\n",
              "      display:flex;\n",
              "      flex-wrap:wrap;\n",
              "      gap: 12px;\n",
              "    }\n",
              "\n",
              "    .colab-df-convert {\n",
              "      background-color: #E8F0FE;\n",
              "      border: none;\n",
              "      border-radius: 50%;\n",
              "      cursor: pointer;\n",
              "      display: none;\n",
              "      fill: #1967D2;\n",
              "      height: 32px;\n",
              "      padding: 0 0 0 0;\n",
              "      width: 32px;\n",
              "    }\n",
              "\n",
              "    .colab-df-convert:hover {\n",
              "      background-color: #E2EBFA;\n",
              "      box-shadow: 0px 1px 2px rgba(60, 64, 67, 0.3), 0px 1px 3px 1px rgba(60, 64, 67, 0.15);\n",
              "      fill: #174EA6;\n",
              "    }\n",
              "\n",
              "    [theme=dark] .colab-df-convert {\n",
              "      background-color: #3B4455;\n",
              "      fill: #D2E3FC;\n",
              "    }\n",
              "\n",
              "    [theme=dark] .colab-df-convert:hover {\n",
              "      background-color: #434B5C;\n",
              "      box-shadow: 0px 1px 3px 1px rgba(0, 0, 0, 0.15);\n",
              "      filter: drop-shadow(0px 1px 2px rgba(0, 0, 0, 0.3));\n",
              "      fill: #FFFFFF;\n",
              "    }\n",
              "  </style>\n",
              "\n",
              "      <script>\n",
              "        const buttonEl =\n",
              "          document.querySelector('#df-b80e48b3-7816-4c28-bcf9-e2e6ddfa52aa button.colab-df-convert');\n",
              "        buttonEl.style.display =\n",
              "          google.colab.kernel.accessAllowed ? 'block' : 'none';\n",
              "\n",
              "        async function convertToInteractive(key) {\n",
              "          const element = document.querySelector('#df-b80e48b3-7816-4c28-bcf9-e2e6ddfa52aa');\n",
              "          const dataTable =\n",
              "            await google.colab.kernel.invokeFunction('convertToInteractive',\n",
              "                                                     [key], {});\n",
              "          if (!dataTable) return;\n",
              "\n",
              "          const docLinkHtml = 'Like what you see? Visit the ' +\n",
              "            '<a target=\"_blank\" href=https://colab.research.google.com/notebooks/data_table.ipynb>data table notebook</a>'\n",
              "            + ' to learn more about interactive tables.';\n",
              "          element.innerHTML = '';\n",
              "          dataTable['output_type'] = 'display_data';\n",
              "          await google.colab.output.renderOutput(dataTable, element);\n",
              "          const docLink = document.createElement('div');\n",
              "          docLink.innerHTML = docLinkHtml;\n",
              "          element.appendChild(docLink);\n",
              "        }\n",
              "      </script>\n",
              "    </div>\n",
              "  </div>\n",
              "  "
            ],
            "text/plain": [
              "                zip      latitude     longitude     population\n",
              "count  31951.000000  31951.000000  31951.000000   31951.000000\n",
              "mean   49802.625333     38.851441    -91.044530    8925.830490\n",
              "std    27330.096259      5.347607     15.028834   13114.560356\n",
              "min      601.000000     17.964529   -176.636750       1.000000\n",
              "25%    27316.500000     35.415903    -97.161550     776.000000\n",
              "50%    49912.000000     39.480856    -88.304980    2762.000000\n",
              "75%    71987.000000     42.113861    -80.395450   11867.000000\n",
              "max    99950.000000     71.299525    -65.292570  144024.000000"
            ]
          },
          "execution_count": 6,
          "metadata": {},
          "output_type": "execute_result"
        }
      ],
      "source": [
        "df.describe()"
      ]
    },
    {
      "cell_type": "code",
      "execution_count": null,
      "metadata": {
        "colab": {
          "base_uri": "https://localhost:8080/"
        },
        "id": "N84oAuNt1BlN",
        "outputId": "22115397-de50-4d0e-9090-862973fe6f3d"
      },
      "outputs": [
        {
          "data": {
            "text/plain": [
              "zip           0\n",
              "state         0\n",
              "latitude      0\n",
              "longitude     0\n",
              "population    0\n",
              "dtype: int64"
            ]
          },
          "execution_count": 7,
          "metadata": {},
          "output_type": "execute_result"
        }
      ],
      "source": [
        "df.isnull().sum()"
      ]
    },
    {
      "cell_type": "code",
      "execution_count": null,
      "metadata": {
        "colab": {
          "base_uri": "https://localhost:8080/"
        },
        "id": "NaxogJmU1DuA",
        "outputId": "1240ff35-caee-4cbc-e18d-cc14fba62f79"
      },
      "outputs": [
        {
          "data": {
            "text/plain": [
              "state\n",
              "TX    1861\n",
              "PA    1721\n",
              "CA    1667\n",
              "NY    1594\n",
              "IL    1345\n",
              "OH    1159\n",
              "MO    1009\n",
              "MI     962\n",
              "IA     948\n",
              "FL     920\n",
              "VA     884\n",
              "MN     864\n",
              "NC     783\n",
              "WI     767\n",
              "KY     766\n",
              "IN     760\n",
              "WV     733\n",
              "GA     707\n",
              "KS     689\n",
              "OK     655\n",
              "AL     623\n",
              "TN     607\n",
              "AR     594\n",
              "NJ     582\n",
              "NE     578\n",
              "WA     559\n",
              "LA     514\n",
              "MA     500\n",
              "CO     479\n",
              "MD     452\n",
              "MS     423\n",
              "OR     406\n",
              "SC     406\n",
              "ME     399\n",
              "ND     380\n",
              "SD     378\n",
              "AZ     364\n",
              "MT     349\n",
              "NM     344\n",
              "ID     275\n",
              "UT     273\n",
              "CT     266\n",
              "VT     254\n",
              "AK     241\n",
              "NH     227\n",
              "WY     166\n",
              "NV     146\n",
              "PR     125\n",
              "HI      87\n",
              "RI      70\n",
              "DE      65\n",
              "DC      25\n",
              "Name: zip, dtype: int64"
            ]
          },
          "execution_count": 8,
          "metadata": {},
          "output_type": "execute_result"
        }
      ],
      "source": [
        "# определим штат с максимальным числом городов\n",
        "\n",
        "df.groupby('state').zip.nunique().sort_values(ascending=False)"
      ]
    },
    {
      "cell_type": "markdown",
      "metadata": {
        "id": "F4v79gL7VRyQ"
      },
      "source": [
        "Штат с максимальным числом городов — ТХ."
      ]
    },
    {
      "cell_type": "markdown",
      "metadata": {
        "id": "l_s7nGgOWa_k"
      },
      "source": [
        "--- \n",
        "\n",
        "2.\tВыделите из датафрейма столбцы с географическими координатами для городов выбранного штата.\n",
        "\n",
        "* Select from the dataframe columns with geographic coordinates for the cities of the selected state."
      ]
    },
    {
      "cell_type": "code",
      "execution_count": null,
      "metadata": {
        "id": "XTb6X9zWVPEa"
      },
      "outputs": [],
      "source": [
        "df1 = df[df['state'] == 'TX'][['latitude', 'longitude']].reset_index(drop=True)"
      ]
    },
    {
      "cell_type": "code",
      "execution_count": null,
      "metadata": {
        "colab": {
          "base_uri": "https://localhost:8080/",
          "height": 424
        },
        "id": "3xupsWRc1eMA",
        "outputId": "f574b5a7-bb80-4a4e-ac32-f6ae194b0ec0"
      },
      "outputs": [
        {
          "data": {
            "text/html": [
              "\n",
              "  <div id=\"df-2a2a183d-4f86-472c-858f-9e3498615622\">\n",
              "    <div class=\"colab-df-container\">\n",
              "      <div>\n",
              "<style scoped>\n",
              "    .dataframe tbody tr th:only-of-type {\n",
              "        vertical-align: middle;\n",
              "    }\n",
              "\n",
              "    .dataframe tbody tr th {\n",
              "        vertical-align: top;\n",
              "    }\n",
              "\n",
              "    .dataframe thead th {\n",
              "        text-align: right;\n",
              "    }\n",
              "</style>\n",
              "<table border=\"1\" class=\"dataframe\">\n",
              "  <thead>\n",
              "    <tr style=\"text-align: right;\">\n",
              "      <th></th>\n",
              "      <th>latitude</th>\n",
              "      <th>longitude</th>\n",
              "    </tr>\n",
              "  </thead>\n",
              "  <tbody>\n",
              "    <tr>\n",
              "      <th>0</th>\n",
              "      <td>32.961290</td>\n",
              "      <td>-96.83751</td>\n",
              "    </tr>\n",
              "    <tr>\n",
              "      <th>1</th>\n",
              "      <td>33.092846</td>\n",
              "      <td>-96.62447</td>\n",
              "    </tr>\n",
              "    <tr>\n",
              "      <th>2</th>\n",
              "      <td>32.960374</td>\n",
              "      <td>-96.89163</td>\n",
              "    </tr>\n",
              "    <tr>\n",
              "      <th>3</th>\n",
              "      <td>33.005420</td>\n",
              "      <td>-96.89773</td>\n",
              "    </tr>\n",
              "    <tr>\n",
              "      <th>4</th>\n",
              "      <td>33.327927</td>\n",
              "      <td>-96.76129</td>\n",
              "    </tr>\n",
              "    <tr>\n",
              "      <th>...</th>\n",
              "      <td>...</td>\n",
              "      <td>...</td>\n",
              "    </tr>\n",
              "    <tr>\n",
              "      <th>1856</th>\n",
              "      <td>31.865696</td>\n",
              "      <td>-106.59982</td>\n",
              "    </tr>\n",
              "    <tr>\n",
              "      <th>1857</th>\n",
              "      <td>31.943633</td>\n",
              "      <td>-106.42402</td>\n",
              "    </tr>\n",
              "    <tr>\n",
              "      <th>1858</th>\n",
              "      <td>31.784541</td>\n",
              "      <td>-106.33705</td>\n",
              "    </tr>\n",
              "    <tr>\n",
              "      <th>1859</th>\n",
              "      <td>31.766355</td>\n",
              "      <td>-106.29828</td>\n",
              "    </tr>\n",
              "    <tr>\n",
              "      <th>1860</th>\n",
              "      <td>31.852355</td>\n",
              "      <td>-106.09325</td>\n",
              "    </tr>\n",
              "  </tbody>\n",
              "</table>\n",
              "<p>1861 rows × 2 columns</p>\n",
              "</div>\n",
              "      <button class=\"colab-df-convert\" onclick=\"convertToInteractive('df-2a2a183d-4f86-472c-858f-9e3498615622')\"\n",
              "              title=\"Convert this dataframe to an interactive table.\"\n",
              "              style=\"display:none;\">\n",
              "        \n",
              "  <svg xmlns=\"http://www.w3.org/2000/svg\" height=\"24px\"viewBox=\"0 0 24 24\"\n",
              "       width=\"24px\">\n",
              "    <path d=\"M0 0h24v24H0V0z\" fill=\"none\"/>\n",
              "    <path d=\"M18.56 5.44l.94 2.06.94-2.06 2.06-.94-2.06-.94-.94-2.06-.94 2.06-2.06.94zm-11 1L8.5 8.5l.94-2.06 2.06-.94-2.06-.94L8.5 2.5l-.94 2.06-2.06.94zm10 10l.94 2.06.94-2.06 2.06-.94-2.06-.94-.94-2.06-.94 2.06-2.06.94z\"/><path d=\"M17.41 7.96l-1.37-1.37c-.4-.4-.92-.59-1.43-.59-.52 0-1.04.2-1.43.59L10.3 9.45l-7.72 7.72c-.78.78-.78 2.05 0 2.83L4 21.41c.39.39.9.59 1.41.59.51 0 1.02-.2 1.41-.59l7.78-7.78 2.81-2.81c.8-.78.8-2.07 0-2.86zM5.41 20L4 18.59l7.72-7.72 1.47 1.35L5.41 20z\"/>\n",
              "  </svg>\n",
              "      </button>\n",
              "      \n",
              "  <style>\n",
              "    .colab-df-container {\n",
              "      display:flex;\n",
              "      flex-wrap:wrap;\n",
              "      gap: 12px;\n",
              "    }\n",
              "\n",
              "    .colab-df-convert {\n",
              "      background-color: #E8F0FE;\n",
              "      border: none;\n",
              "      border-radius: 50%;\n",
              "      cursor: pointer;\n",
              "      display: none;\n",
              "      fill: #1967D2;\n",
              "      height: 32px;\n",
              "      padding: 0 0 0 0;\n",
              "      width: 32px;\n",
              "    }\n",
              "\n",
              "    .colab-df-convert:hover {\n",
              "      background-color: #E2EBFA;\n",
              "      box-shadow: 0px 1px 2px rgba(60, 64, 67, 0.3), 0px 1px 3px 1px rgba(60, 64, 67, 0.15);\n",
              "      fill: #174EA6;\n",
              "    }\n",
              "\n",
              "    [theme=dark] .colab-df-convert {\n",
              "      background-color: #3B4455;\n",
              "      fill: #D2E3FC;\n",
              "    }\n",
              "\n",
              "    [theme=dark] .colab-df-convert:hover {\n",
              "      background-color: #434B5C;\n",
              "      box-shadow: 0px 1px 3px 1px rgba(0, 0, 0, 0.15);\n",
              "      filter: drop-shadow(0px 1px 2px rgba(0, 0, 0, 0.3));\n",
              "      fill: #FFFFFF;\n",
              "    }\n",
              "  </style>\n",
              "\n",
              "      <script>\n",
              "        const buttonEl =\n",
              "          document.querySelector('#df-2a2a183d-4f86-472c-858f-9e3498615622 button.colab-df-convert');\n",
              "        buttonEl.style.display =\n",
              "          google.colab.kernel.accessAllowed ? 'block' : 'none';\n",
              "\n",
              "        async function convertToInteractive(key) {\n",
              "          const element = document.querySelector('#df-2a2a183d-4f86-472c-858f-9e3498615622');\n",
              "          const dataTable =\n",
              "            await google.colab.kernel.invokeFunction('convertToInteractive',\n",
              "                                                     [key], {});\n",
              "          if (!dataTable) return;\n",
              "\n",
              "          const docLinkHtml = 'Like what you see? Visit the ' +\n",
              "            '<a target=\"_blank\" href=https://colab.research.google.com/notebooks/data_table.ipynb>data table notebook</a>'\n",
              "            + ' to learn more about interactive tables.';\n",
              "          element.innerHTML = '';\n",
              "          dataTable['output_type'] = 'display_data';\n",
              "          await google.colab.output.renderOutput(dataTable, element);\n",
              "          const docLink = document.createElement('div');\n",
              "          docLink.innerHTML = docLinkHtml;\n",
              "          element.appendChild(docLink);\n",
              "        }\n",
              "      </script>\n",
              "    </div>\n",
              "  </div>\n",
              "  "
            ],
            "text/plain": [
              "       latitude  longitude\n",
              "0     32.961290  -96.83751\n",
              "1     33.092846  -96.62447\n",
              "2     32.960374  -96.89163\n",
              "3     33.005420  -96.89773\n",
              "4     33.327927  -96.76129\n",
              "...         ...        ...\n",
              "1856  31.865696 -106.59982\n",
              "1857  31.943633 -106.42402\n",
              "1858  31.784541 -106.33705\n",
              "1859  31.766355 -106.29828\n",
              "1860  31.852355 -106.09325\n",
              "\n",
              "[1861 rows x 2 columns]"
            ]
          },
          "execution_count": 10,
          "metadata": {},
          "output_type": "execute_result"
        }
      ],
      "source": [
        "# широта и долгота городов Техаса с их населением\n",
        "\n",
        "df1"
      ]
    },
    {
      "cell_type": "markdown",
      "metadata": {
        "id": "sGSFMDjaWj4z"
      },
      "source": [
        "---\n",
        "\n",
        "3.\tПостройте модели кластеризации методом K-means, задав для каждой число кластеров из интервала [1, 8]. Вычислите метрики: силуэт и сумму квадратов расстояний от центроидов (inertia).\n",
        "\n",
        "* Build clustering models using the K-means method, specifying for each the number of clusters from the interval [1, 8]. Calculate metrics: silhouette and sum of squared distances from centroids (inertia)."
      ]
    },
    {
      "cell_type": "code",
      "execution_count": null,
      "metadata": {
        "colab": {
          "base_uri": "https://localhost:8080/",
          "height": 279
        },
        "id": "mVWts7R4Wluf",
        "outputId": "8ece521d-a590-4aea-daca-98631c6b310e"
      },
      "outputs": [
        {
          "data": {
            "image/png": "[encoded data removed]",
            "text/plain": [
              "<Figure size 864x288 with 2 Axes>"
            ]
          },
          "metadata": {
            "needs_background": "light"
          },
          "output_type": "display_data"
        }
      ],
      "source": [
        "# hint: we use the longlat to predict the population\n",
        "\n",
        "from sklearn.cluster import KMeans\n",
        "from sklearn.metrics import silhouette_score\n",
        "\n",
        "silhouette = []\n",
        "inertia = []\n",
        "for k in range(2, 9):\n",
        "    model = KMeans(n_clusters=k, random_state=42)\n",
        "    model.fit(df1)\n",
        "    silhouette.append(silhouette_score(df1, model.labels_))\n",
        "    inertia.append(model.inertia_)\n",
        "\n",
        "# plot the silhouette and inertia metrics for each number of clusters\n",
        "\n",
        "plt.figure(figsize=(12, 4))\n",
        "plt.subplot(1, 2, 1)\n",
        "plt.plot(range(2, 9), silhouette, marker='o')\n",
        "plt.xlabel('Number of clusters')\n",
        "plt.ylabel('Silhouette')\n",
        "plt.subplot(1, 2, 2)\n",
        "plt.plot(range(2, 9), inertia, marker='o')\n",
        "plt.xlabel('Number of clusters')\n",
        "plt.ylabel('Inertia')\n",
        "plt.show()"
      ]
    },
    {
      "cell_type": "code",
      "execution_count": null,
      "metadata": {
        "colab": {
          "base_uri": "https://localhost:8080/"
        },
        "id": "0tLPUwvyWxc1",
        "outputId": "8fde330d-8c89-4069-9182-9903d42b04ae"
      },
      "outputs": [
        {
          "data": {
            "text/plain": [
              "[0.4888063673193918,\n",
              " 0.42060645270612057,\n",
              " 0.45413130888226166,\n",
              " 0.4548766745399144,\n",
              " 0.4583453270304193,\n",
              " 0.4641273276925331,\n",
              " 0.4622293352995509]"
            ]
          },
          "execution_count": 12,
          "metadata": {},
          "output_type": "execute_result"
        }
      ],
      "source": [
        "silhouette"
      ]
    },
    {
      "cell_type": "code",
      "execution_count": null,
      "metadata": {
        "colab": {
          "base_uri": "https://localhost:8080/"
        },
        "id": "nYQkLVpRW0iS",
        "outputId": "8d4e2779-841a-4e89-bc60-7f982f0a0a71"
      },
      "outputs": [
        {
          "data": {
            "text/plain": [
              "[9998.264023894404,\n",
              " 6373.698178056624,\n",
              " 4581.121232085635,\n",
              " 3682.4960366079995,\n",
              " 2969.4936399177786,\n",
              " 2438.4042948995784,\n",
              " 2008.6466986351131]"
            ]
          },
          "execution_count": 13,
          "metadata": {},
          "output_type": "execute_result"
        }
      ],
      "source": [
        "inertia"
      ]
    },
    {
      "cell_type": "markdown",
      "metadata": {
        "id": "MVr3fArEXKS0"
      },
      "source": [
        "---\n",
        "\n",
        "4.\tПостройте диаграммы с исходными точками и центроидами полученных кластеров. Оцените визуально нахождение центров относительно распределения городов: совпадают ли центроиды с наиболее населенными районами.\n",
        "\n",
        "* Construct diagrams with initial points and centroids of the received clusters. Assess visually the location of the centers in relation to the distribution of cities: whether the centroids coincide with the most populated areas."
      ]
    },
    {
      "cell_type": "code",
      "execution_count": null,
      "metadata": {
        "colab": {
          "base_uri": "https://localhost:8080/",
          "height": 388
        },
        "id": "l2ngmZ1kXLVQ",
        "outputId": "334cf8d6-b34f-4652-bf2a-0afd32affb03"
      },
      "outputs": [
        {
          "data": {
            "image/png": "[encoded data removed]",
            "text/plain": [
              "<Figure size 432x432 with 1 Axes>"
            ]
          },
          "metadata": {
            "needs_background": "light"
          },
          "output_type": "display_data"
        }
      ],
      "source": [
        "model = KMeans(n_clusters=3, random_state=42)\n",
        "model.fit(df1)\n",
        "centroids = model.cluster_centers_\n",
        "df1['cluster'] = model.labels_\n",
        "df1['centroid'] = df1['cluster'].map({0: 'brown', 1: 'orange', 2: 'green'})\n",
        "plt.figure(figsize=(6, 6))\n",
        "plt.scatter(df1['longitude'], df1['latitude'], c=df1['centroid'])\n",
        "plt.scatter(centroids[:, 1], centroids[:, 0], marker='*', c='black', s=200)\n",
        "plt.xlabel('Longitude')\n",
        "plt.ylabel('Latitude')\n",
        "plt.show()"
      ]
    },
    {
      "cell_type": "markdown",
      "metadata": {
        "id": "uNpMEL3qXnBl"
      },
      "source": [
        "---\n",
        "\n",
        "5.\tВычислите для каждой модели число точек в каждом кластере. Совет: воспользуйтесь методом `numpy.unique()`\n",
        "\n",
        "* Calculate for each model the number of points in each cluster. Tip: use the `numpy.unique()` method"
      ]
    },
    {
      "cell_type": "code",
      "execution_count": null,
      "metadata": {
        "colab": {
          "base_uri": "https://localhost:8080/"
        },
        "id": "Cki9JkKgXoFf",
        "outputId": "a6999761-e312-41cc-a9b3-e235f59edcf1"
      },
      "outputs": [
        {
          "name": "stdout",
          "output_type": "stream",
          "text": [
            "(array([0], dtype=int32), array([1861]))\n",
            "(array([0, 1], dtype=int32), array([1462,  399]))\n",
            "(array([0, 1, 2], dtype=int32), array([805, 685, 371]))\n",
            "(array([0, 1, 2, 3], dtype=int32), array([454, 433, 350, 624]))\n",
            "(array([0, 1, 2, 3, 4], dtype=int32), array([429, 291, 612, 454,  75]))\n",
            "(array([0, 1, 2, 3, 4, 5], dtype=int32), array([557, 166, 249, 424,  82, 383]))\n",
            "(array([0, 1, 2, 3, 4, 5, 6], dtype=int32), array([138, 177, 528, 337, 189,  82, 410]))\n",
            "(array([0, 1, 2, 3, 4, 5, 6, 7], dtype=int32), array([130, 428, 165, 380,  60, 169, 335, 194]))\n"
          ]
        }
      ],
      "source": [
        "# количество городов в каждом кластере\n",
        "\n",
        "for k in range(1, 9):\n",
        "    model = KMeans(n_clusters=k, random_state=42)\n",
        "    model.fit(df1[['latitude', 'longitude']])\n",
        "    print(np.unique(model.labels_, return_counts=True))"
      ]
    },
    {
      "cell_type": "markdown",
      "metadata": {
        "id": "DJPunM3XXvzr"
      },
      "source": [
        "---\n",
        "\n",
        "6.\tНайдите города, наиболее приближенные к центроидам кластеров.\n",
        "\n",
        "* Find the cities closest to the cluster centroids."
      ]
    },
    {
      "cell_type": "code",
      "execution_count": null,
      "metadata": {
        "id": "dx5aY6MVXpXf"
      },
      "outputs": [],
      "source": [
        "def plot_closest(df, closest):\n",
        "    plt.figure(figsize=(6, 6))\n",
        "    plt.scatter(df['longitude'], df['latitude'], c=df1['centroid'])\n",
        "    plt.scatter(centroids[:, 1], centroids[:, 0], marker='*', c='black', s=500)\n",
        "    for i in range(len(closest)):\n",
        "        plt.scatter(df.loc[closest[i], 'longitude'], df.loc[closest[i], 'latitude'], c='yellow')\n",
        "    plt.xlabel('Longitude')\n",
        "    plt.ylabel('Latitude')\n",
        "    plt.show()"
      ]
    },
    {
      "cell_type": "code",
      "execution_count": null,
      "metadata": {
        "colab": {
          "base_uri": "https://localhost:8080/",
          "height": 388
        },
        "id": "q6GaO2Cs2w7a",
        "outputId": "87aa701d-cf41-45e3-dc08-8c864a626346"
      },
      "outputs": [
        {
          "data": {
            "image/png": "[encoded data removed]",
            "text/plain": [
              "<Figure size 432x432 with 1 Axes>"
            ]
          },
          "metadata": {
            "needs_background": "light"
          },
          "output_type": "display_data"
        }
      ],
      "source": [
        "closest = []\n",
        "for centroid in centroids:\n",
        "    dist = np.sqrt((df1['longitude'] - centroid[1]) ** 2 + (df1['latitude'] - centroid[0]) ** 2)\n",
        "    closest.append(dist.nsmallest(5).index)\n",
        "plot_closest(df1, closest)"
      ]
    },
    {
      "cell_type": "code",
      "execution_count": null,
      "metadata": {
        "colab": {
          "base_uri": "https://localhost:8080/"
        },
        "id": "ctoC9TkNRT78",
        "outputId": "29e97167-0d11-46c1-e10a-9170f899a0d9"
      },
      "outputs": [
        {
          "name": "stdout",
          "output_type": "stream",
          "text": [
            "Cluster 0\n",
            "Longitude:  [-96.86644 -97.18691 -97.12675 -97.13046 -96.91964] \n",
            "Latitude:  [29.369619 29.442934 29.57449  29.254632 29.680723]\n",
            "\n",
            "Cluster 1\n",
            "Longitude:  [-96.44339 -96.38502 -96.53811 -96.30377 -96.65684] \n",
            "Latitude:  [32.629178 32.466891 32.628858 32.574299 32.533551]\n",
            "\n",
            "Cluster 2\n",
            "Longitude:  [-101.81949 -101.83895 -101.76906 -101.91065 -101.65054] \n",
            "Latitude:  [33.199867 32.951473 33.327782 33.330983 33.437291]\n",
            "\n"
          ]
        }
      ],
      "source": [
        "for i in range(len(closest)):\n",
        "  print(f'Cluster {i}')\n",
        "  print(f'Longitude: ', df1.loc[closest[i], 'longitude'].values, f'\\nLatitude: ', df1.loc[closest[i], 'latitude'].values)\n",
        "  print()"
      ]
    }
  ],
  "metadata": {
    "colab": {
      "provenance": []
    },
    "kernelspec": {
      "display_name": "Python 3",
      "name": "python3"
    },
    "language_info": {
      "name": "python"
    }
  },
  "nbformat": 4,
  "nbformat_minor": 0
}