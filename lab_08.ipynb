{
  "nbformat": 4,
  "nbformat_minor": 0,
  "metadata": {
    "colab": {
      "provenance": []
    },
    "kernelspec": {
      "name": "python3",
      "display_name": "Python 3"
    },
    "language_info": {
      "name": "python"
    },
    "accelerator": "GPU",
    "gpuClass": "standard"
  },
  "cells": [
    {
      "cell_type": "markdown",
      "source": [
        "## Лаб.08 PCA кластеризация\n",
        "\n",
        "### Кластеризация с применением метода главных компонент\n",
        "\n",
        "---\n",
        "\n",
        "#### Входные данные:\n",
        "Датасет `X_train.txt`, `X_test.txt`, `y_train.txt`, `y_test.txt`\n",
        "\n",
        "#### Задание:\n",
        "Имеется база с данными о перемещениях пользователей мобильных телефонов, которые используются для детектирования падений. На начальном этапе необходимо научить систему различать разные типы движений пользователей. В датасете имеются разметки для состояния пользователя телефона: \n",
        "\n",
        "1 – ходьба, 2 – подъем вверх по лестнице, 3 – спуск по лестнице, 4 – сидя, 5 – стоя, 6 – лежа.\n",
        "\n",
        "Напишите программный код для кластеризации пользователей по типу движения с применением понижения размерности. Обучить алгоритмы кластеризации двумя методами на исходных и редуцированных данных, сравнить результаты кластеризации.\n",
        "\n",
        "\n",
        "**Порядок выполнения работы:**\n",
        "1. Загрузите данные в датафрейм при помощи функции `np.loadtxt`. Измените тип данных на `int` при помощи метода `astype()`. Выведите размерности для контроля.\n",
        "2. Поскольку в данной задаче тренировочная выборка не нужна, объедините `X_train` с `X_test`, а `y_train` с `y_test`.\n",
        "3. Отмасштабируйте выборку с помощью `StandardScaler` с параметрами по умолчанию.\n",
        "4. С помощью PCA понизьте размерность, оставляя столько компонент, сколько нужно для того, чтобы объяснить как минимум 90% дисперсии исходных (отмасштабированных) данных. Используйте отмасштабированную выборку и зафиксируйте `random_state`.\n",
        "5. Выведите минимальное число компонент.\n",
        "6. Выведите процент дисперсии, который приходится на первую главную компоненту.\n",
        "7. Визуализируйте данные в проекции на первые две главные компоненты. Какие виды движений входят в кластеры, хорошо отделенные друг от друга?\n",
        "8. Обучите кластеризацию данных методом `KMeans` на данных со сниженной за счет PCA размерностью. Параметры:<br>`n_clusters = n_classes` (число уникальных меток целевого класса, определите при помощи `np.unique(y)`), `n_init = 100, random_state = 17` (для воспроизводимости результата).\n",
        "9. Визуализируйте данные в проекции на первые две главные компоненты. Раскрасьте точки в соответствии с полученными метками кластеров.\n",
        "10. Для того, чтобы установить соответствие между метками кластеров и исходными метками классов, воспользуйтесь следующим кодом:<br>`tt = pd.crosstab(y, cluster_labels, margins=True)`<br>`tt.index = ['ходьба', 'подъем вверх по лестнице', 'спуск по лестнице', 'сидя', 'стоя', 'лежа', 'все']`<br>`tt.columns = ['cluster' + str(i + 1) for i in range(6)] + ['все']`<br>`tt`\n",
        "11. Определите максимальную долю объектов в классе, отнесенных к какому-то одному кластеру.\n",
        "12. Выберите оптимальное количество кластеров при помощи параметра `inertia`. Параметры алгоритма и данные использовать те же, что раньше (меняем только `n_clusters`).\n",
        "13. Обучите кластеризацию данных методом `AgglomerativeClustering` на данных со сниженной за счет PCA размерностью.\n",
        "14. Посчитайте Adjusted Rand Index (`sklearn.metrics`) для получившегося разбиения на кластеры и для `KMeans`.\n",
        "\n",
        "---"
      ],
      "metadata": {
        "id": "eK-bWICPhWUK"
      }
    },
    {
      "cell_type": "markdown",
      "source": [
        "1. Загрузите данные в датафрейм при помощи функции `np.loadtxt`. <del>Измените тип данных на int при помощи метода astype()</del>. Выведите размерности для контроля."
      ],
      "metadata": {
        "id": "2oYZXxXyjZQ1"
      }
    },
    {
      "cell_type": "code",
      "source": [
        "# подключим необходимые библиотеки\n",
        "\n",
        "import numpy as np\n",
        "import pandas as pd"
      ],
      "metadata": {
        "id": "3dchUw6GjaXf"
      },
      "execution_count": null,
      "outputs": []
    },
    {
      "cell_type": "code",
      "source": [
        "from google.colab import drive \n",
        "drive.mount('/content/gdrive')"
      ],
      "metadata": {
        "id": "OozT0uKeejre"
      },
      "execution_count": null,
      "outputs": []
    },
    {
      "cell_type": "code",
      "source": [
        "# data: X_train.txt, X_test.txt, y_train.txt, y_test.txt\n",
        "# load data into the dataframe using the np.loadtxt function, then change the \n",
        "# data type to int using the astype() method. Output dimensions for control\n",
        "\n",
        "# use these lines if on Jupyter\n",
        "# X_train = np.loadtxt('X_train.txt')\n",
        "# X_test = np.loadtxt('X_test.txt')\n",
        "# y_train = np.loadtxt('y_train.txt')\n",
        "# y_test = np.loadtxt('y_test.txt')\n",
        "\n",
        "# use these lines if on Colab\n",
        "X_train = np.loadtxt('gdrive/My Drive/Colab Notebooks/data/X_train.txt', encoding=\"UTF-8\") #encoding ANSI\n",
        "X_test = np.loadtxt('gdrive/My Drive/Colab Notebooks/data/X_test.txt', encoding=\"UTF-8\")\n",
        "y_train = np.loadtxt('gdrive/My Drive/Colab Notebooks/data/y_train.txt', encoding=\"UTF-8\")\n",
        "y_test = np.loadtxt('gdrive/My Drive/Colab Notebooks/data/y_test.txt', encoding=\"UTF-8\")\n",
        "\n",
        "# X_train = X_train.astype(int)\n",
        "# X_test = X_test.astype(int)\n",
        "# y_train = y_train.astype(int)\n",
        "# y_test = y_test.astype(int)\n",
        "\n",
        "print(X_train.shape)\n",
        "print(X_test.shape)\n",
        "print(y_train.shape)\n",
        "print(y_test.shape)"
      ],
      "metadata": {
        "colab": {
          "base_uri": "https://localhost:8080/"
        },
        "id": "ttDYAVcAelkc",
        "outputId": "937c2b04-2271-48d9-ae4c-c22768711d79"
      },
      "execution_count": null,
      "outputs": [
        {
          "output_type": "stream",
          "name": "stdout",
          "text": [
            "(7352, 561)\n",
            "(2947, 561)\n",
            "(7352,)\n",
            "(2947,)\n"
          ]
        }
      ]
    },
    {
      "cell_type": "markdown",
      "source": [
        "---\n",
        "\n",
        "2. Поскольку в данной задаче тренировочная выборка не нужна, объедините `X_train` с `X_test`, а `y_train` с `y_test`."
      ],
      "metadata": {
        "id": "h1VFCJAWiNkV"
      }
    },
    {
      "cell_type": "code",
      "source": [
        "# since no training sample is needed in this problem, combine X_train with X_test and y_train with y_test\n",
        "\n",
        "X = np.concatenate((X_train, X_test), axis=0) # also method vstack can be used \n",
        "y = np.concatenate((y_train, y_test), axis=0) # also method hstack can be used\n",
        "\n",
        "print(X.shape)\n",
        "print(y.shape)"
      ],
      "metadata": {
        "id": "J8-BiwBFjgOl",
        "colab": {
          "base_uri": "https://localhost:8080/"
        },
        "outputId": "617a790b-ac8d-4c6b-dc2b-32456011ea32"
      },
      "execution_count": null,
      "outputs": [
        {
          "output_type": "stream",
          "name": "stdout",
          "text": [
            "(10299, 561)\n",
            "(10299,)\n"
          ]
        }
      ]
    },
    {
      "cell_type": "markdown",
      "source": [
        "---\n",
        "\n",
        "3. Отмасштабируйте выборку с помощью `StandardScaler` с параметрами по умолчанию."
      ],
      "metadata": {
        "id": "TbAxM1avjgbN"
      }
    },
    {
      "cell_type": "code",
      "source": [
        "# scale the sample using the StandardScaler with default options\n",
        "\n",
        "from sklearn.preprocessing import StandardScaler\n",
        "\n",
        "scaler = StandardScaler()\n",
        "X_scaled = scaler.fit_transform(X)"
      ],
      "metadata": {
        "id": "7igF-Bwmjid2"
      },
      "execution_count": null,
      "outputs": []
    },
    {
      "cell_type": "markdown",
      "source": [
        "---\n",
        "\n",
        "4. С помощью PCA понизьте размерность, оставляя столько компонент, сколько нужно для того, чтобы объяснить как минимум 90% дисперсии исходных (отмасштабированных) данных. Используйте отмасштабированную выборку и зафиксируйте `random_state`."
      ],
      "metadata": {
        "id": "d6SSrurJjilj"
      }
    },
    {
      "cell_type": "code",
      "source": [
        "# use PCA to downsize, leaving as many components as needed to explain at least 90% of \n",
        "# the variance in the original (scaled) data. use scaled sampling and fix random_state\n",
        "\n",
        "from sklearn.decomposition import PCA\n",
        "\n",
        "pca = PCA(n_components=0.9, random_state=0)\n",
        "X_pca = pca.fit_transform(X_scaled)\n",
        "\n",
        "print(X_pca.shape)"
      ],
      "metadata": {
        "id": "9VBaXmwvjlKm",
        "colab": {
          "base_uri": "https://localhost:8080/"
        },
        "outputId": "6bdc5ce2-333a-4f2a-922a-580651f6e7da"
      },
      "execution_count": null,
      "outputs": [
        {
          "output_type": "stream",
          "name": "stdout",
          "text": [
            "(10299, 65)\n"
          ]
        }
      ]
    },
    {
      "cell_type": "markdown",
      "source": [
        "---\n",
        "\n",
        "5. Выведите минимальное число компонент."
      ],
      "metadata": {
        "id": "XWIEctLLjlTn"
      }
    },
    {
      "cell_type": "code",
      "source": [
        "# output the minimum number of components\n",
        "\n",
        "print(pca.n_components_)\n",
        "print(pca.explained_variance_ratio_.sum())"
      ],
      "metadata": {
        "id": "AenfhTiOjoBw",
        "colab": {
          "base_uri": "https://localhost:8080/"
        },
        "outputId": "7f9be14e-538a-478e-9b4d-4ed4c678e97e"
      },
      "execution_count": null,
      "outputs": [
        {
          "output_type": "stream",
          "name": "stdout",
          "text": [
            "65\n",
            "0.9004833346822927\n"
          ]
        }
      ]
    },
    {
      "cell_type": "markdown",
      "source": [
        "---\n",
        "\n",
        "6. Выведите процент дисперсии, который приходится на первую главную компоненту."
      ],
      "metadata": {
        "id": "8BsGT5qqjoKH"
      }
    },
    {
      "cell_type": "code",
      "source": [
        "# output the percentage of variance that falls on the first principal component\n",
        "\n",
        "print(pca.explained_variance_ratio_[0])"
      ],
      "metadata": {
        "id": "N5KjiPj0jqcI",
        "colab": {
          "base_uri": "https://localhost:8080/"
        },
        "outputId": "d300ae13-0158-4ee2-b9ca-d6e4ec6dc695"
      },
      "execution_count": null,
      "outputs": [
        {
          "output_type": "stream",
          "name": "stdout",
          "text": [
            "0.5073822103501335\n"
          ]
        }
      ]
    },
    {
      "cell_type": "markdown",
      "source": [
        "---\n",
        "\n",
        "7. Визуализируйте данные в проекции на первые две главные компоненты. Какие виды движений входят в кластеры, хорошо отделенные друг от друга?"
      ],
      "metadata": {
        "id": "Ek_j-IDvjqk5"
      }
    },
    {
      "cell_type": "code",
      "source": [
        "np.unique(y)"
      ],
      "metadata": {
        "colab": {
          "base_uri": "https://localhost:8080/"
        },
        "id": "jbejadRF-VRG",
        "outputId": "c9c80e19-aa02-4c21-b5d9-25c01ae2cf82"
      },
      "execution_count": null,
      "outputs": [
        {
          "output_type": "execute_result",
          "data": {
            "text/plain": [
              "array([1., 2., 3., 4., 5., 6.])"
            ]
          },
          "metadata": {},
          "execution_count": 9
        }
      ]
    },
    {
      "cell_type": "code",
      "source": [
        "# cdict = {1: 'red', 2: 'blue', 3: 'green', 4: 'black', 5: 'yellow', 6: 'violet'}\n",
        "# markk = {1: '.', 2: ',', 3: 'o', 4: 'v', 5: '^', 6: '*'}\n",
        "# group = np.unique(y)"
      ],
      "metadata": {
        "id": "_dDvpE_r-hGl"
      },
      "execution_count": null,
      "outputs": []
    },
    {
      "cell_type": "code",
      "source": [
        "# import matplotlib.pyplot as plt\n",
        "\n",
        "# fig, ax = plt.subplots(figsize=(8, 8), dpi=80)\n",
        "# for g in np.unique(y):\n",
        "#     ix = np.where(group == g)\n",
        "#     ax.scatter(X_pca[:, 0], X_pca[:, 1], c=cdict[g], marker=markk[g], alpha=1.0, label=g)\n",
        "# ax.legend()\n",
        "# plt.show()"
      ],
      "metadata": {
        "id": "nt0j4g2rHBDw"
      },
      "execution_count": null,
      "outputs": []
    },
    {
      "cell_type": "code",
      "source": [
        "# visualize the data in terms of the first two principal components. what types of \n",
        "# movements are included in clusters that are well separated from each other?\n",
        "\n",
        "import matplotlib.pyplot as plt\n",
        "\n",
        "plt.figure(figsize=(8, 8), dpi=80)\n",
        "plt.scatter(X_pca[:, 0], X_pca[:, 1], c=y)\n",
        "plt.show();"
      ],
      "metadata": {
        "id": "dzyc-wAkjtDp",
        "colab": {
          "base_uri": "https://localhost:8080/",
          "height": 533
        },
        "outputId": "43de3d6c-a404-458e-97a3-bc3901a9c1fe"
      },
      "execution_count": null,
      "outputs": [
        {
          "output_type": "display_data",
          "data": {
            "text/plain": [
              "<Figure size 640x640 with 1 Axes>"
            ],
            "image/png": "[encoded data removed]"
          },
          "metadata": {
            "needs_background": "light"
          }
        }
      ]
    },
    {
      "cell_type": "markdown",
      "source": [
        "---\n",
        "\n",
        "8. Обучите кластеризацию данных методом `KMeans` на данных со сниженной за счет PCA размерностью. Параметры:<br>`n_clusters = n_classes` (число уникальных меток целевого класса, определите при помощи `np.unique(y)`), `n_init = 100, random_state = 17` (для воспроизводимости результата)."
      ],
      "metadata": {
        "id": "om5JdkBdjt6n"
      }
    },
    {
      "cell_type": "code",
      "source": [
        "np.unique(y)"
      ],
      "metadata": {
        "colab": {
          "base_uri": "https://localhost:8080/"
        },
        "id": "ggbyiSDkcRe_",
        "outputId": "3a8351f2-ec0f-4d44-e6c0-297faddd36f6"
      },
      "execution_count": null,
      "outputs": [
        {
          "output_type": "execute_result",
          "data": {
            "text/plain": [
              "array([1., 2., 3., 4., 5., 6.])"
            ]
          },
          "metadata": {},
          "execution_count": 13
        }
      ]
    },
    {
      "cell_type": "code",
      "source": [
        "# train data clustering using KMeans on PCA-reduced data. Options: n_clusters = n_classes (number of unique labels \n",
        "# of the target class, determine with np.unique(y)), n_init = 100, random_state = 17 (for reproducible results)\n",
        "\n",
        "from sklearn.cluster import KMeans\n",
        "\n",
        "kmeans = KMeans(n_clusters=6, n_init=100, random_state=17)\n",
        "kmeans.fit(X_pca)"
      ],
      "metadata": {
        "id": "_w81ypIsjwE4",
        "colab": {
          "base_uri": "https://localhost:8080/"
        },
        "outputId": "24726f5f-bdbe-4f79-8e67-3f712626f20f"
      },
      "execution_count": null,
      "outputs": [
        {
          "output_type": "execute_result",
          "data": {
            "text/plain": [
              "KMeans(n_clusters=6, n_init=100, random_state=17)"
            ]
          },
          "metadata": {},
          "execution_count": 14
        }
      ]
    },
    {
      "cell_type": "markdown",
      "source": [
        "---\n",
        "\n",
        "9. Визуализируйте данные в проекции на первые две главные компоненты. Раскрасьте точки в соответствии с полученными метками кластеров."
      ],
      "metadata": {
        "id": "N5akJZS9jwN4"
      }
    },
    {
      "cell_type": "code",
      "source": [
        "kmeans.labels_"
      ],
      "metadata": {
        "colab": {
          "base_uri": "https://localhost:8080/"
        },
        "id": "ZA2kTL5y9hqs",
        "outputId": "211601b8-a6ec-4f56-e82b-877700a9f005"
      },
      "execution_count": null,
      "outputs": [
        {
          "output_type": "execute_result",
          "data": {
            "text/plain": [
              "array([1, 1, 1, ..., 0, 0, 0], dtype=int32)"
            ]
          },
          "metadata": {},
          "execution_count": 15
        }
      ]
    },
    {
      "cell_type": "code",
      "source": [
        "# visualize the data in terms of the first two principal components. color the points according to the obtained cluster labels\n",
        "\n",
        "plt.figure(figsize=(8, 8), dpi=80)\n",
        "plt.scatter(X_pca[:, 0], X_pca[:, 1], c=kmeans.labels_)\n",
        "plt.show();"
      ],
      "metadata": {
        "id": "D-0fyjgtjyZI",
        "colab": {
          "base_uri": "https://localhost:8080/",
          "height": 533
        },
        "outputId": "a23aefca-1d71-465d-fa66-6daf647edbb2"
      },
      "execution_count": null,
      "outputs": [
        {
          "output_type": "display_data",
          "data": {
            "text/plain": [
              "<Figure size 640x640 with 1 Axes>"
            ],
            "image/png": "[encoded data removed]"
          },
          "metadata": {
            "needs_background": "light"
          }
        }
      ]
    },
    {
      "cell_type": "markdown",
      "source": [
        "---\n",
        "\n",
        "10. Для того, чтобы установить соответствие между метками кластеров и исходными метками классов, воспользуйтесь следующим кодом:<br>`tt = pd.crosstab(y, cluster_labels, margins=True)`<br>`tt.index = ['ходьба', 'подъем вверх по лестнице', 'спуск по лестнице', 'сидя', 'стоя', 'лежа', 'все']`<br>`tt.columns = ['cluster' + str(i + 1) for i in range(6)] + ['все']`<br>`tt`"
      ],
      "metadata": {
        "id": "aeNpuhGcjyiK"
      }
    },
    {
      "cell_type": "code",
      "source": [
        "# in order to establish a correspondence between the cluster labels and the original class labels, use the following code:\n",
        "\n",
        "tt = pd.crosstab(y, kmeans.labels_, margins=True)\n",
        "tt.index = ['ходьба', 'подъем вверх по лестнице', 'спуск по лестнице', 'сидя', 'стоя', 'лежа', 'все']\n",
        "tt.columns = ['cluster' + str(i + 1) for i in range(6)] + ['все']\n",
        "tt"
      ],
      "metadata": {
        "id": "550v05erj1Mg",
        "colab": {
          "base_uri": "https://localhost:8080/",
          "height": 269
        },
        "outputId": "8cffbd33-f326-4d3b-c173-bae6f7e7be4a"
      },
      "execution_count": null,
      "outputs": [
        {
          "output_type": "execute_result",
          "data": {
            "text/plain": [
              "                          cluster1  cluster2  cluster3  cluster4  cluster5  \\\n",
              "ходьба                         903         0         0        78       741   \n",
              "подъем вверх по лестнице      1241         0         0         5       296   \n",
              "спуск по лестнице              320         0         0       196       890   \n",
              "сидя                             1      1235        91         0         0   \n",
              "стоя                             0      1344         0         0         0   \n",
              "лежа                             5        52      1558         0         0   \n",
              "все                           2470      2631      1649       279      1927   \n",
              "\n",
              "                          cluster6    все  \n",
              "ходьба                           0   1722  \n",
              "подъем вверх по лестнице         2   1544  \n",
              "спуск по лестнице                0   1406  \n",
              "сидя                           450   1777  \n",
              "стоя                           562   1906  \n",
              "лежа                           329   1944  \n",
              "все                           1343  10299  "
            ],
            "text/html": [
              "\n",
              "  <div id=\"df-dc2b6207-53d6-4c5f-9839-f110d8fc8f97\">\n",
              "    <div class=\"colab-df-container\">\n",
              "      <div>\n",
              "<style scoped>\n",
              "    .dataframe tbody tr th:only-of-type {\n",
              "        vertical-align: middle;\n",
              "    }\n",
              "\n",
              "    .dataframe tbody tr th {\n",
              "        vertical-align: top;\n",
              "    }\n",
              "\n",
              "    .dataframe thead th {\n",
              "        text-align: right;\n",
              "    }\n",
              "</style>\n",
              "<table border=\"1\" class=\"dataframe\">\n",
              "  <thead>\n",
              "    <tr style=\"text-align: right;\">\n",
              "      <th></th>\n",
              "      <th>cluster1</th>\n",
              "      <th>cluster2</th>\n",
              "      <th>cluster3</th>\n",
              "      <th>cluster4</th>\n",
              "      <th>cluster5</th>\n",
              "      <th>cluster6</th>\n",
              "      <th>все</th>\n",
              "    </tr>\n",
              "  </thead>\n",
              "  <tbody>\n",
              "    <tr>\n",
              "      <th>ходьба</th>\n",
              "      <td>903</td>\n",
              "      <td>0</td>\n",
              "      <td>0</td>\n",
              "      <td>78</td>\n",
              "      <td>741</td>\n",
              "      <td>0</td>\n",
              "      <td>1722</td>\n",
              "    </tr>\n",
              "    <tr>\n",
              "      <th>подъем вверх по лестнице</th>\n",
              "      <td>1241</td>\n",
              "      <td>0</td>\n",
              "      <td>0</td>\n",
              "      <td>5</td>\n",
              "      <td>296</td>\n",
              "      <td>2</td>\n",
              "      <td>1544</td>\n",
              "    </tr>\n",
              "    <tr>\n",
              "      <th>спуск по лестнице</th>\n",
              "      <td>320</td>\n",
              "      <td>0</td>\n",
              "      <td>0</td>\n",
              "      <td>196</td>\n",
              "      <td>890</td>\n",
              "      <td>0</td>\n",
              "      <td>1406</td>\n",
              "    </tr>\n",
              "    <tr>\n",
              "      <th>сидя</th>\n",
              "      <td>1</td>\n",
              "      <td>1235</td>\n",
              "      <td>91</td>\n",
              "      <td>0</td>\n",
              "      <td>0</td>\n",
              "      <td>450</td>\n",
              "      <td>1777</td>\n",
              "    </tr>\n",
              "    <tr>\n",
              "      <th>стоя</th>\n",
              "      <td>0</td>\n",
              "      <td>1344</td>\n",
              "      <td>0</td>\n",
              "      <td>0</td>\n",
              "      <td>0</td>\n",
              "      <td>562</td>\n",
              "      <td>1906</td>\n",
              "    </tr>\n",
              "    <tr>\n",
              "      <th>лежа</th>\n",
              "      <td>5</td>\n",
              "      <td>52</td>\n",
              "      <td>1558</td>\n",
              "      <td>0</td>\n",
              "      <td>0</td>\n",
              "      <td>329</td>\n",
              "      <td>1944</td>\n",
              "    </tr>\n",
              "    <tr>\n",
              "      <th>все</th>\n",
              "      <td>2470</td>\n",
              "      <td>2631</td>\n",
              "      <td>1649</td>\n",
              "      <td>279</td>\n",
              "      <td>1927</td>\n",
              "      <td>1343</td>\n",
              "      <td>10299</td>\n",
              "    </tr>\n",
              "  </tbody>\n",
              "</table>\n",
              "</div>\n",
              "      <button class=\"colab-df-convert\" onclick=\"convertToInteractive('df-dc2b6207-53d6-4c5f-9839-f110d8fc8f97')\"\n",
              "              title=\"Convert this dataframe to an interactive table.\"\n",
              "              style=\"display:none;\">\n",
              "        \n",
              "  <svg xmlns=\"http://www.w3.org/2000/svg\" height=\"24px\"viewBox=\"0 0 24 24\"\n",
              "       width=\"24px\">\n",
              "    <path d=\"M0 0h24v24H0V0z\" fill=\"none\"/>\n",
              "    <path d=\"M18.56 5.44l.94 2.06.94-2.06 2.06-.94-2.06-.94-.94-2.06-.94 2.06-2.06.94zm-11 1L8.5 8.5l.94-2.06 2.06-.94-2.06-.94L8.5 2.5l-.94 2.06-2.06.94zm10 10l.94 2.06.94-2.06 2.06-.94-2.06-.94-.94-2.06-.94 2.06-2.06.94z\"/><path d=\"M17.41 7.96l-1.37-1.37c-.4-.4-.92-.59-1.43-.59-.52 0-1.04.2-1.43.59L10.3 9.45l-7.72 7.72c-.78.78-.78 2.05 0 2.83L4 21.41c.39.39.9.59 1.41.59.51 0 1.02-.2 1.41-.59l7.78-7.78 2.81-2.81c.8-.78.8-2.07 0-2.86zM5.41 20L4 18.59l7.72-7.72 1.47 1.35L5.41 20z\"/>\n",
              "  </svg>\n",
              "      </button>\n",
              "      \n",
              "  <style>\n",
              "    .colab-df-container {\n",
              "      display:flex;\n",
              "      flex-wrap:wrap;\n",
              "      gap: 12px;\n",
              "    }\n",
              "\n",
              "    .colab-df-convert {\n",
              "      background-color: #E8F0FE;\n",
              "      border: none;\n",
              "      border-radius: 50%;\n",
              "      cursor: pointer;\n",
              "      display: none;\n",
              "      fill: #1967D2;\n",
              "      height: 32px;\n",
              "      padding: 0 0 0 0;\n",
              "      width: 32px;\n",
              "    }\n",
              "\n",
              "    .colab-df-convert:hover {\n",
              "      background-color: #E2EBFA;\n",
              "      box-shadow: 0px 1px 2px rgba(60, 64, 67, 0.3), 0px 1px 3px 1px rgba(60, 64, 67, 0.15);\n",
              "      fill: #174EA6;\n",
              "    }\n",
              "\n",
              "    [theme=dark] .colab-df-convert {\n",
              "      background-color: #3B4455;\n",
              "      fill: #D2E3FC;\n",
              "    }\n",
              "\n",
              "    [theme=dark] .colab-df-convert:hover {\n",
              "      background-color: #434B5C;\n",
              "      box-shadow: 0px 1px 3px 1px rgba(0, 0, 0, 0.15);\n",
              "      filter: drop-shadow(0px 1px 2px rgba(0, 0, 0, 0.3));\n",
              "      fill: #FFFFFF;\n",
              "    }\n",
              "  </style>\n",
              "\n",
              "      <script>\n",
              "        const buttonEl =\n",
              "          document.querySelector('#df-dc2b6207-53d6-4c5f-9839-f110d8fc8f97 button.colab-df-convert');\n",
              "        buttonEl.style.display =\n",
              "          google.colab.kernel.accessAllowed ? 'block' : 'none';\n",
              "\n",
              "        async function convertToInteractive(key) {\n",
              "          const element = document.querySelector('#df-dc2b6207-53d6-4c5f-9839-f110d8fc8f97');\n",
              "          const dataTable =\n",
              "            await google.colab.kernel.invokeFunction('convertToInteractive',\n",
              "                                                     [key], {});\n",
              "          if (!dataTable) return;\n",
              "\n",
              "          const docLinkHtml = 'Like what you see? Visit the ' +\n",
              "            '<a target=\"_blank\" href=https://colab.research.google.com/notebooks/data_table.ipynb>data table notebook</a>'\n",
              "            + ' to learn more about interactive tables.';\n",
              "          element.innerHTML = '';\n",
              "          dataTable['output_type'] = 'display_data';\n",
              "          await google.colab.output.renderOutput(dataTable, element);\n",
              "          const docLink = document.createElement('div');\n",
              "          docLink.innerHTML = docLinkHtml;\n",
              "          element.appendChild(docLink);\n",
              "        }\n",
              "      </script>\n",
              "    </div>\n",
              "  </div>\n",
              "  "
            ]
          },
          "metadata": {},
          "execution_count": 17
        }
      ]
    },
    {
      "cell_type": "markdown",
      "source": [
        "---\n",
        "\n",
        "11. Определите максимальную долю объектов в классе, отнесенных к какому-то одному кластеру."
      ],
      "metadata": {
        "id": "g8P4hOZsj1Wj"
      }
    },
    {
      "cell_type": "code",
      "source": [
        "# determine the maximum proportion of objects in the class that belong to any one cluster\n",
        "\n",
        "tt.loc['все', 'cluster1'].max() / tt.loc['все', 'все']"
      ],
      "metadata": {
        "id": "2FNO7AKIj3og",
        "colab": {
          "base_uri": "https://localhost:8080/"
        },
        "outputId": "9032b227-81b2-4fa9-d0fa-cc272de44c45"
      },
      "execution_count": null,
      "outputs": [
        {
          "output_type": "execute_result",
          "data": {
            "text/plain": [
              "0.23982910962229342"
            ]
          },
          "metadata": {},
          "execution_count": 18
        }
      ]
    },
    {
      "cell_type": "markdown",
      "source": [
        "---\n",
        "\n",
        "12. Выберите оптимальное количество кластеров при помощи параметра `inertia`. Параметры алгоритма и данные использовать те же, что раньше (меняем только `n_clusters`)."
      ],
      "metadata": {
        "id": "pd0k7-mgj3x-"
      }
    },
    {
      "cell_type": "code",
      "source": [
        "# choose the optimal number of clusters using the inertia parameter. the algorithm \n",
        "# parameters and data are the same as before (we change only n_clusters)\n",
        "\n",
        "inertia = []\n",
        "\n",
        "for k in range(1, 11):\n",
        "    kmeans = KMeans(n_clusters=k, n_init=100, random_state=17)\n",
        "    kmeans.fit(X_pca)\n",
        "    inertia.append(np.sqrt(kmeans.inertia_))\n",
        "\n",
        "plt.plot(range(1, 11), inertia)\n",
        "plt.show();"
      ],
      "metadata": {
        "id": "P07Df5i7j5xF",
        "colab": {
          "base_uri": "https://localhost:8080/",
          "height": 265
        },
        "outputId": "9677150e-c841-401f-8b8c-ebf0770bd82f"
      },
      "execution_count": null,
      "outputs": [
        {
          "output_type": "display_data",
          "data": {
            "text/plain": [
              "<Figure size 432x288 with 1 Axes>"
            ],
            "image/png": "[encoded data removed]"
          },
          "metadata": {
            "needs_background": "light"
          }
        }
      ]
    },
    {
      "cell_type": "markdown",
      "source": [
        "---\n",
        "\n",
        "13. Обучите кластеризацию данных методом `AgglomerativeClustering` на данных со сниженной за счет PCA размерностью."
      ],
      "metadata": {
        "id": "CmsErvtKj581"
      }
    },
    {
      "cell_type": "code",
      "source": [
        "# train data clustering using the AgglomerativeClustering method on PCA-reduced data\n",
        "\n",
        "from sklearn.cluster import AgglomerativeClustering\n",
        "\n",
        "agg = AgglomerativeClustering(n_clusters=6)\n",
        "agg.fit(X_pca)"
      ],
      "metadata": {
        "id": "EnX4IlRLj8Da",
        "colab": {
          "base_uri": "https://localhost:8080/"
        },
        "outputId": "3d736844-2359-4b0b-bf7d-ff65b5bb9259"
      },
      "execution_count": null,
      "outputs": [
        {
          "output_type": "execute_result",
          "data": {
            "text/plain": [
              "AgglomerativeClustering(n_clusters=6)"
            ]
          },
          "metadata": {},
          "execution_count": 20
        }
      ]
    },
    {
      "cell_type": "code",
      "source": [
        "# in order to establish a correspondence between the cluster labels and the original class labels, use the following code:\n",
        "\n",
        "tt = pd.crosstab(y, agg.labels_, margins=True)\n",
        "tt.index = ['ходьба', 'подъем вверх по лестнице', 'спуск по лестнице', 'сидя', 'стоя', 'лежа', 'все']\n",
        "tt.columns = ['cluster' + str(i + 1) for i in range(6)] + ['все']\n",
        "tt"
      ],
      "metadata": {
        "colab": {
          "base_uri": "https://localhost:8080/",
          "height": 269
        },
        "id": "iwseaIMvlWwa",
        "outputId": "060ef753-8673-4b4e-aef8-7180d623314e"
      },
      "execution_count": null,
      "outputs": [
        {
          "output_type": "execute_result",
          "data": {
            "text/plain": [
              "                          cluster1  cluster2  cluster3  cluster4  cluster5  \\\n",
              "ходьба                         800         0       896        26         0   \n",
              "подъем вверх по лестнице       337         0      1207         0         0   \n",
              "спуск по лестнице             1144         0       138       124         0   \n",
              "сидя                             0      1559         0         0        71   \n",
              "стоя                             0      1832         0         0         0   \n",
              "лежа                             0        74         0         0      1604   \n",
              "все                           2281      3465      2241       150      1675   \n",
              "\n",
              "                          cluster6    все  \n",
              "ходьба                           0   1722  \n",
              "подъем вверх по лестнице         0   1544  \n",
              "спуск по лестнице                0   1406  \n",
              "сидя                           147   1777  \n",
              "стоя                            74   1906  \n",
              "лежа                           266   1944  \n",
              "все                            487  10299  "
            ],
            "text/html": [
              "\n",
              "  <div id=\"df-29a55644-3815-4bb0-96c7-7b14eeda1b6c\">\n",
              "    <div class=\"colab-df-container\">\n",
              "      <div>\n",
              "<style scoped>\n",
              "    .dataframe tbody tr th:only-of-type {\n",
              "        vertical-align: middle;\n",
              "    }\n",
              "\n",
              "    .dataframe tbody tr th {\n",
              "        vertical-align: top;\n",
              "    }\n",
              "\n",
              "    .dataframe thead th {\n",
              "        text-align: right;\n",
              "    }\n",
              "</style>\n",
              "<table border=\"1\" class=\"dataframe\">\n",
              "  <thead>\n",
              "    <tr style=\"text-align: right;\">\n",
              "      <th></th>\n",
              "      <th>cluster1</th>\n",
              "      <th>cluster2</th>\n",
              "      <th>cluster3</th>\n",
              "      <th>cluster4</th>\n",
              "      <th>cluster5</th>\n",
              "      <th>cluster6</th>\n",
              "      <th>все</th>\n",
              "    </tr>\n",
              "  </thead>\n",
              "  <tbody>\n",
              "    <tr>\n",
              "      <th>ходьба</th>\n",
              "      <td>800</td>\n",
              "      <td>0</td>\n",
              "      <td>896</td>\n",
              "      <td>26</td>\n",
              "      <td>0</td>\n",
              "      <td>0</td>\n",
              "      <td>1722</td>\n",
              "    </tr>\n",
              "    <tr>\n",
              "      <th>подъем вверх по лестнице</th>\n",
              "      <td>337</td>\n",
              "      <td>0</td>\n",
              "      <td>1207</td>\n",
              "      <td>0</td>\n",
              "      <td>0</td>\n",
              "      <td>0</td>\n",
              "      <td>1544</td>\n",
              "    </tr>\n",
              "    <tr>\n",
              "      <th>спуск по лестнице</th>\n",
              "      <td>1144</td>\n",
              "      <td>0</td>\n",
              "      <td>138</td>\n",
              "      <td>124</td>\n",
              "      <td>0</td>\n",
              "      <td>0</td>\n",
              "      <td>1406</td>\n",
              "    </tr>\n",
              "    <tr>\n",
              "      <th>сидя</th>\n",
              "      <td>0</td>\n",
              "      <td>1559</td>\n",
              "      <td>0</td>\n",
              "      <td>0</td>\n",
              "      <td>71</td>\n",
              "      <td>147</td>\n",
              "      <td>1777</td>\n",
              "    </tr>\n",
              "    <tr>\n",
              "      <th>стоя</th>\n",
              "      <td>0</td>\n",
              "      <td>1832</td>\n",
              "      <td>0</td>\n",
              "      <td>0</td>\n",
              "      <td>0</td>\n",
              "      <td>74</td>\n",
              "      <td>1906</td>\n",
              "    </tr>\n",
              "    <tr>\n",
              "      <th>лежа</th>\n",
              "      <td>0</td>\n",
              "      <td>74</td>\n",
              "      <td>0</td>\n",
              "      <td>0</td>\n",
              "      <td>1604</td>\n",
              "      <td>266</td>\n",
              "      <td>1944</td>\n",
              "    </tr>\n",
              "    <tr>\n",
              "      <th>все</th>\n",
              "      <td>2281</td>\n",
              "      <td>3465</td>\n",
              "      <td>2241</td>\n",
              "      <td>150</td>\n",
              "      <td>1675</td>\n",
              "      <td>487</td>\n",
              "      <td>10299</td>\n",
              "    </tr>\n",
              "  </tbody>\n",
              "</table>\n",
              "</div>\n",
              "      <button class=\"colab-df-convert\" onclick=\"convertToInteractive('df-29a55644-3815-4bb0-96c7-7b14eeda1b6c')\"\n",
              "              title=\"Convert this dataframe to an interactive table.\"\n",
              "              style=\"display:none;\">\n",
              "        \n",
              "  <svg xmlns=\"http://www.w3.org/2000/svg\" height=\"24px\"viewBox=\"0 0 24 24\"\n",
              "       width=\"24px\">\n",
              "    <path d=\"M0 0h24v24H0V0z\" fill=\"none\"/>\n",
              "    <path d=\"M18.56 5.44l.94 2.06.94-2.06 2.06-.94-2.06-.94-.94-2.06-.94 2.06-2.06.94zm-11 1L8.5 8.5l.94-2.06 2.06-.94-2.06-.94L8.5 2.5l-.94 2.06-2.06.94zm10 10l.94 2.06.94-2.06 2.06-.94-2.06-.94-.94-2.06-.94 2.06-2.06.94z\"/><path d=\"M17.41 7.96l-1.37-1.37c-.4-.4-.92-.59-1.43-.59-.52 0-1.04.2-1.43.59L10.3 9.45l-7.72 7.72c-.78.78-.78 2.05 0 2.83L4 21.41c.39.39.9.59 1.41.59.51 0 1.02-.2 1.41-.59l7.78-7.78 2.81-2.81c.8-.78.8-2.07 0-2.86zM5.41 20L4 18.59l7.72-7.72 1.47 1.35L5.41 20z\"/>\n",
              "  </svg>\n",
              "      </button>\n",
              "      \n",
              "  <style>\n",
              "    .colab-df-container {\n",
              "      display:flex;\n",
              "      flex-wrap:wrap;\n",
              "      gap: 12px;\n",
              "    }\n",
              "\n",
              "    .colab-df-convert {\n",
              "      background-color: #E8F0FE;\n",
              "      border: none;\n",
              "      border-radius: 50%;\n",
              "      cursor: pointer;\n",
              "      display: none;\n",
              "      fill: #1967D2;\n",
              "      height: 32px;\n",
              "      padding: 0 0 0 0;\n",
              "      width: 32px;\n",
              "    }\n",
              "\n",
              "    .colab-df-convert:hover {\n",
              "      background-color: #E2EBFA;\n",
              "      box-shadow: 0px 1px 2px rgba(60, 64, 67, 0.3), 0px 1px 3px 1px rgba(60, 64, 67, 0.15);\n",
              "      fill: #174EA6;\n",
              "    }\n",
              "\n",
              "    [theme=dark] .colab-df-convert {\n",
              "      background-color: #3B4455;\n",
              "      fill: #D2E3FC;\n",
              "    }\n",
              "\n",
              "    [theme=dark] .colab-df-convert:hover {\n",
              "      background-color: #434B5C;\n",
              "      box-shadow: 0px 1px 3px 1px rgba(0, 0, 0, 0.15);\n",
              "      filter: drop-shadow(0px 1px 2px rgba(0, 0, 0, 0.3));\n",
              "      fill: #FFFFFF;\n",
              "    }\n",
              "  </style>\n",
              "\n",
              "      <script>\n",
              "        const buttonEl =\n",
              "          document.querySelector('#df-29a55644-3815-4bb0-96c7-7b14eeda1b6c button.colab-df-convert');\n",
              "        buttonEl.style.display =\n",
              "          google.colab.kernel.accessAllowed ? 'block' : 'none';\n",
              "\n",
              "        async function convertToInteractive(key) {\n",
              "          const element = document.querySelector('#df-29a55644-3815-4bb0-96c7-7b14eeda1b6c');\n",
              "          const dataTable =\n",
              "            await google.colab.kernel.invokeFunction('convertToInteractive',\n",
              "                                                     [key], {});\n",
              "          if (!dataTable) return;\n",
              "\n",
              "          const docLinkHtml = 'Like what you see? Visit the ' +\n",
              "            '<a target=\"_blank\" href=https://colab.research.google.com/notebooks/data_table.ipynb>data table notebook</a>'\n",
              "            + ' to learn more about interactive tables.';\n",
              "          element.innerHTML = '';\n",
              "          dataTable['output_type'] = 'display_data';\n",
              "          await google.colab.output.renderOutput(dataTable, element);\n",
              "          const docLink = document.createElement('div');\n",
              "          docLink.innerHTML = docLinkHtml;\n",
              "          element.appendChild(docLink);\n",
              "        }\n",
              "      </script>\n",
              "    </div>\n",
              "  </div>\n",
              "  "
            ]
          },
          "metadata": {},
          "execution_count": 21
        }
      ]
    },
    {
      "cell_type": "code",
      "source": [
        "# train data clustering using the AgglomerativeClustering method on PCA-reduced data\n",
        "\n",
        "from sklearn.cluster import AgglomerativeClustering\n",
        "\n",
        "agg = AgglomerativeClustering(n_clusters=2)\n",
        "agg.fit(X_pca)"
      ],
      "metadata": {
        "colab": {
          "base_uri": "https://localhost:8080/"
        },
        "id": "08zsPMNwmlLB",
        "outputId": "395016f8-10e9-47f6-8f04-122fc8afd9cd"
      },
      "execution_count": null,
      "outputs": [
        {
          "output_type": "execute_result",
          "data": {
            "text/plain": [
              "AgglomerativeClustering()"
            ]
          },
          "metadata": {},
          "execution_count": 22
        }
      ]
    },
    {
      "cell_type": "code",
      "source": [
        "# in order to establish a correspondence between the cluster labels and the original class labels, use the following code:\n",
        "\n",
        "tt = pd.crosstab(y, agg.labels_, margins=True)\n",
        "tt.index = ['ходьба', 'подъем вверх по лестнице', 'спуск по лестнице', 'сидя', 'стоя', 'лежа', 'все']\n",
        "tt.columns = ['cluster' + str(i + 1) for i in range(2)] + ['все']\n",
        "tt"
      ],
      "metadata": {
        "colab": {
          "base_uri": "https://localhost:8080/",
          "height": 269
        },
        "id": "wjD6VsACmn3P",
        "outputId": "609fc046-e07b-4d33-a552-17318b40a5d6"
      },
      "execution_count": null,
      "outputs": [
        {
          "output_type": "execute_result",
          "data": {
            "text/plain": [
              "                          cluster1  cluster2    все\n",
              "ходьба                        1722         0   1722\n",
              "подъем вверх по лестнице      1544         0   1544\n",
              "спуск по лестнице             1406         0   1406\n",
              "сидя                             0      1777   1777\n",
              "стоя                             0      1906   1906\n",
              "лежа                             0      1944   1944\n",
              "все                           4672      5627  10299"
            ],
            "text/html": [
              "\n",
              "  <div id=\"df-1538d282-e332-4c79-9c44-46b53e0a92bd\">\n",
              "    <div class=\"colab-df-container\">\n",
              "      <div>\n",
              "<style scoped>\n",
              "    .dataframe tbody tr th:only-of-type {\n",
              "        vertical-align: middle;\n",
              "    }\n",
              "\n",
              "    .dataframe tbody tr th {\n",
              "        vertical-align: top;\n",
              "    }\n",
              "\n",
              "    .dataframe thead th {\n",
              "        text-align: right;\n",
              "    }\n",
              "</style>\n",
              "<table border=\"1\" class=\"dataframe\">\n",
              "  <thead>\n",
              "    <tr style=\"text-align: right;\">\n",
              "      <th></th>\n",
              "      <th>cluster1</th>\n",
              "      <th>cluster2</th>\n",
              "      <th>все</th>\n",
              "    </tr>\n",
              "  </thead>\n",
              "  <tbody>\n",
              "    <tr>\n",
              "      <th>ходьба</th>\n",
              "      <td>1722</td>\n",
              "      <td>0</td>\n",
              "      <td>1722</td>\n",
              "    </tr>\n",
              "    <tr>\n",
              "      <th>подъем вверх по лестнице</th>\n",
              "      <td>1544</td>\n",
              "      <td>0</td>\n",
              "      <td>1544</td>\n",
              "    </tr>\n",
              "    <tr>\n",
              "      <th>спуск по лестнице</th>\n",
              "      <td>1406</td>\n",
              "      <td>0</td>\n",
              "      <td>1406</td>\n",
              "    </tr>\n",
              "    <tr>\n",
              "      <th>сидя</th>\n",
              "      <td>0</td>\n",
              "      <td>1777</td>\n",
              "      <td>1777</td>\n",
              "    </tr>\n",
              "    <tr>\n",
              "      <th>стоя</th>\n",
              "      <td>0</td>\n",
              "      <td>1906</td>\n",
              "      <td>1906</td>\n",
              "    </tr>\n",
              "    <tr>\n",
              "      <th>лежа</th>\n",
              "      <td>0</td>\n",
              "      <td>1944</td>\n",
              "      <td>1944</td>\n",
              "    </tr>\n",
              "    <tr>\n",
              "      <th>все</th>\n",
              "      <td>4672</td>\n",
              "      <td>5627</td>\n",
              "      <td>10299</td>\n",
              "    </tr>\n",
              "  </tbody>\n",
              "</table>\n",
              "</div>\n",
              "      <button class=\"colab-df-convert\" onclick=\"convertToInteractive('df-1538d282-e332-4c79-9c44-46b53e0a92bd')\"\n",
              "              title=\"Convert this dataframe to an interactive table.\"\n",
              "              style=\"display:none;\">\n",
              "        \n",
              "  <svg xmlns=\"http://www.w3.org/2000/svg\" height=\"24px\"viewBox=\"0 0 24 24\"\n",
              "       width=\"24px\">\n",
              "    <path d=\"M0 0h24v24H0V0z\" fill=\"none\"/>\n",
              "    <path d=\"M18.56 5.44l.94 2.06.94-2.06 2.06-.94-2.06-.94-.94-2.06-.94 2.06-2.06.94zm-11 1L8.5 8.5l.94-2.06 2.06-.94-2.06-.94L8.5 2.5l-.94 2.06-2.06.94zm10 10l.94 2.06.94-2.06 2.06-.94-2.06-.94-.94-2.06-.94 2.06-2.06.94z\"/><path d=\"M17.41 7.96l-1.37-1.37c-.4-.4-.92-.59-1.43-.59-.52 0-1.04.2-1.43.59L10.3 9.45l-7.72 7.72c-.78.78-.78 2.05 0 2.83L4 21.41c.39.39.9.59 1.41.59.51 0 1.02-.2 1.41-.59l7.78-7.78 2.81-2.81c.8-.78.8-2.07 0-2.86zM5.41 20L4 18.59l7.72-7.72 1.47 1.35L5.41 20z\"/>\n",
              "  </svg>\n",
              "      </button>\n",
              "      \n",
              "  <style>\n",
              "    .colab-df-container {\n",
              "      display:flex;\n",
              "      flex-wrap:wrap;\n",
              "      gap: 12px;\n",
              "    }\n",
              "\n",
              "    .colab-df-convert {\n",
              "      background-color: #E8F0FE;\n",
              "      border: none;\n",
              "      border-radius: 50%;\n",
              "      cursor: pointer;\n",
              "      display: none;\n",
              "      fill: #1967D2;\n",
              "      height: 32px;\n",
              "      padding: 0 0 0 0;\n",
              "      width: 32px;\n",
              "    }\n",
              "\n",
              "    .colab-df-convert:hover {\n",
              "      background-color: #E2EBFA;\n",
              "      box-shadow: 0px 1px 2px rgba(60, 64, 67, 0.3), 0px 1px 3px 1px rgba(60, 64, 67, 0.15);\n",
              "      fill: #174EA6;\n",
              "    }\n",
              "\n",
              "    [theme=dark] .colab-df-convert {\n",
              "      background-color: #3B4455;\n",
              "      fill: #D2E3FC;\n",
              "    }\n",
              "\n",
              "    [theme=dark] .colab-df-convert:hover {\n",
              "      background-color: #434B5C;\n",
              "      box-shadow: 0px 1px 3px 1px rgba(0, 0, 0, 0.15);\n",
              "      filter: drop-shadow(0px 1px 2px rgba(0, 0, 0, 0.3));\n",
              "      fill: #FFFFFF;\n",
              "    }\n",
              "  </style>\n",
              "\n",
              "      <script>\n",
              "        const buttonEl =\n",
              "          document.querySelector('#df-1538d282-e332-4c79-9c44-46b53e0a92bd button.colab-df-convert');\n",
              "        buttonEl.style.display =\n",
              "          google.colab.kernel.accessAllowed ? 'block' : 'none';\n",
              "\n",
              "        async function convertToInteractive(key) {\n",
              "          const element = document.querySelector('#df-1538d282-e332-4c79-9c44-46b53e0a92bd');\n",
              "          const dataTable =\n",
              "            await google.colab.kernel.invokeFunction('convertToInteractive',\n",
              "                                                     [key], {});\n",
              "          if (!dataTable) return;\n",
              "\n",
              "          const docLinkHtml = 'Like what you see? Visit the ' +\n",
              "            '<a target=\"_blank\" href=https://colab.research.google.com/notebooks/data_table.ipynb>data table notebook</a>'\n",
              "            + ' to learn more about interactive tables.';\n",
              "          element.innerHTML = '';\n",
              "          dataTable['output_type'] = 'display_data';\n",
              "          await google.colab.output.renderOutput(dataTable, element);\n",
              "          const docLink = document.createElement('div');\n",
              "          docLink.innerHTML = docLinkHtml;\n",
              "          element.appendChild(docLink);\n",
              "        }\n",
              "      </script>\n",
              "    </div>\n",
              "  </div>\n",
              "  "
            ]
          },
          "metadata": {},
          "execution_count": 23
        }
      ]
    },
    {
      "cell_type": "markdown",
      "source": [
        "---\n",
        "\n",
        "14. Посчитайте Adjusted Rand Index (`sklearn.metrics`) для получившегося разбиения на кластеры и для `KMeans`."
      ],
      "metadata": {
        "id": "XX9NUBDzj8Qs"
      }
    },
    {
      "cell_type": "code",
      "source": [
        "# calculate the Adjusted Rand Index (sklearn.metrics) for the resulting clustering and for KMeans\n",
        "\n",
        "from sklearn.metrics import adjusted_rand_score\n",
        "\n",
        "print(adjusted_rand_score(y, kmeans.labels_))\n",
        "print(adjusted_rand_score(y, agg.labels_))"
      ],
      "metadata": {
        "id": "Pq2rvel9j9e_",
        "colab": {
          "base_uri": "https://localhost:8080/"
        },
        "outputId": "7244a995-4731-44f5-a95f-57d68be7691d"
      },
      "execution_count": null,
      "outputs": [
        {
          "output_type": "stream",
          "name": "stdout",
          "text": [
            "0.42942059125813775\n",
            "0.33253220715485143\n"
          ]
        }
      ]
    }
  ]
}