{
  "nbformat": 4,
  "nbformat_minor": 0,
  "metadata": {
    "colab": {
      "provenance": []
    },
    "kernelspec": {
      "name": "python3",
      "display_name": "Python 3"
    },
    "language_info": {
      "name": "python"
    },
    "accelerator": "GPU",
    "gpuClass": "standard"
  },
  "cells": [
    {
      "cell_type": "markdown",
      "source": [
        "## Лаб.10 Кластеризация текстов\n",
        "\n",
        "### Кластеризация текстов коллекции\n",
        "\n",
        "---\n",
        "\n",
        "#### Входные данные: \n",
        "встроенный датасет из библиотеки sklearn.datasets.fetch_20newsgroups (справка https://scikit-learn.org/stable/modules/generated/sklearn.datasets.fetch_20newsgroups.html).\n",
        "\n",
        "#### Задание:\n",
        "Написать программный код для распределения текстов датасета `fetch_20newsgroups` по тематическому признаку. Обучить алгоритмы кластеризации методами `Affinity Propagation`, `K-means` и иерархической кластеризации, сравнить результаты кластеризации.\n",
        "\n",
        "**Порядок выполнения работы:**\n",
        "1. Загрузите новости из датасета, выбрав подвыборку `train` и категории `comp.sys.mac.hardware`, `comp.os.ms-windows.misc`, `comp.graphics` (метод `fetch_20newsgroups` с соответствующими параметрами `subset` и `categories`).\n",
        "2. Выведите имена категорий – они связаны с метками классов (`target_names`).\n",
        "3. Просмотрите тексты нескольких новостей, обращаясь к элементам массива `data`.\n",
        "4. Постройте вектора текстов, используя модуль `TfidfVectorizer`, метод `fit_transform`. Выведите размеры полученного массива, а также слова-координаты векторной модели (метод `get_feature_names()`).\n",
        "5. Обучите алгоритм `AgglomerativeClustering`, задав параметры: `n_clusters=3, affinity='cosine', linkage='complete'`\n",
        "6. Обучите алгоритм кластеризации `K-means` с тем же числом кластеров. Выведите для контроля исходные и полученные метки. В случае их полного несовпадения воспользуйтесь перестановкой меток с оценкой несовпадений:<br>`mapping = {2 : 1, 1: 2, 0: 0}`<br>`mapped_preds = [mapping[pred] for pred in preds]`<br>`print float(sum(mapped_preds != simple_dataset.target)) / len(simple_dataset.target)`<br>Необходимо перебрать варианты перестановок и добиться минимального числа несовпадающих меток.\n",
        "7. Обучите алгоритм `AffinityPropagation`.\n",
        "8. Оцените результаты кластеризации при помощи метрик, сравните методы.\n",
        "\n",
        "---"
      ],
      "metadata": {
        "id": "a2MSqXrsZZ13"
      }
    },
    {
      "cell_type": "markdown",
      "source": [
        "1. Загрузите новости из датасета, выбрав подвыборку `train` и категории `comp.sys.mac.hardware`, `comp.os.ms-windows.misc`, `comp.graphics` (метод `fetch_20newsgroups` с соответствующими параметрами `subset` и `categories`)."
      ],
      "metadata": {
        "id": "P3dNPLVUaoO-"
      }
    },
    {
      "cell_type": "code",
      "source": [
        "# download the news from the dataset by selecting the 'train' subset and the \n",
        "# 'comp.sys.mac.hardware', 'comp.os.ms-windows.misc', 'comp.graphics' categories\n",
        "# fetch_20newsgroups method with the appropriate subset and categories parameters\n",
        "\n",
        "from sklearn.datasets import fetch_20newsgroups\n",
        "\n",
        "categories = ['comp.sys.mac.hardware', 'comp.os.ms-windows.misc', 'comp.graphics']\n",
        "newsgroups_train = fetch_20newsgroups(subset='train', categories=categories)"
      ],
      "metadata": {
        "id": "8N5BxiBnaqj1"
      },
      "execution_count": null,
      "outputs": []
    },
    {
      "cell_type": "markdown",
      "source": [
        "---\n",
        "\n",
        "2. Выведите имена категорий – они связаны с метками классов (`target_names`)."
      ],
      "metadata": {
        "id": "kac2PQJAaq0P"
      }
    },
    {
      "cell_type": "code",
      "source": [
        "# print the category names – they are associated with class labels (target_names)\n",
        "\n",
        "print(newsgroups_train.target_names)"
      ],
      "metadata": {
        "id": "_lAS-UhRatHr",
        "colab": {
          "base_uri": "https://localhost:8080/"
        },
        "outputId": "0e21147f-b2e2-430b-cc7c-8d620b313699"
      },
      "execution_count": null,
      "outputs": [
        {
          "output_type": "stream",
          "name": "stdout",
          "text": [
            "['comp.graphics', 'comp.os.ms-windows.misc', 'comp.sys.mac.hardware']\n"
          ]
        }
      ]
    },
    {
      "cell_type": "markdown",
      "source": [
        "---\n",
        "\n",
        "3. Просмотрите тексты нескольких новостей, обращаясь к элементам массива `data`."
      ],
      "metadata": {
        "id": "gIWRgqceatR8"
      }
    },
    {
      "cell_type": "code",
      "source": [
        "# look through the texts of several news, referring to the elements of the data array\n",
        "\n",
        "print(newsgroups_train.data[9])\n",
        "\n",
        "print('\\n', '*' * 75, '\\n')\n",
        "\n",
        "print(newsgroups_train.data[10])"
      ],
      "metadata": {
        "id": "mq2RYr7mavnc",
        "colab": {
          "base_uri": "https://localhost:8080/"
        },
        "outputId": "57120d63-3685-47b4-af55-7033505cbeb0"
      },
      "execution_count": null,
      "outputs": [
        {
          "output_type": "stream",
          "name": "stdout",
          "text": [
            "From: ezzie@lucs2.lancs.ac.uk (One of those daze...)\n",
            "Subject: Borland turbo C libraries for S3 graphics card\n",
            "Organization: Lancaster University Computer Society\n",
            "Lines: 5\n",
            "\n",
            "I've recently got hold of a PC with an S3 card in it, and I'd like to do some\n",
            "C programming with it, are there any libraries out there that will let me\n",
            "access the high resolution modes available via Borland Turbo C?\n",
            "\n",
            "\tAndy\n",
            "\n",
            "\n",
            " *************************************************************************** \n",
            "\n",
            "From: charles@tinman.dev.prodigy.com ()\n",
            "Subject: Re: Can I Change \"Licensed To\" Data in Windows 3.1?\n",
            "Nntp-Posting-Host: tinman\n",
            "Organization: Prodigy Services Company, White Plains, NY\n",
            "Lines: 11\n",
            "\n",
            "Have you tried re-installing the software?   Otherwise I would be dubious about\n",
            "simple ways to change that screen. Is it not designed to be an embarassment to\n",
            "would be pirates?\n",
            "\n",
            "-Charles\n",
            "\n",
            "-- \n",
            " Charles Emmons        | charles@trintex.uucp         | These opinions are\n",
            " Prodigy Services Co.  | charles%trintex@uunet.uu.net | mine alone, unless\n",
            " White Plains NY 10601 | Voice 914-993-8856           | you would like to\n",
            " PRODIGY ID - KJRD82A  | FAX   914-993-8659           | share them.\n",
            "\n"
          ]
        }
      ]
    },
    {
      "cell_type": "markdown",
      "source": [
        "---\n",
        "\n",
        "4. Постройте вектора текстов, используя модуль `TfidfVectorizer`, метод `fit_transform`. Выведите размеры полученного массива, а также слова-координаты векторной модели (метод `get_feature_names()`)."
      ],
      "metadata": {
        "id": "14-1HUb5avyV"
      }
    },
    {
      "cell_type": "code",
      "source": [
        "# build text vectors using the TfidfVectorizer module, fit_transform method\n",
        "\n",
        "from sklearn.feature_extraction.text import TfidfVectorizer\n",
        "\n",
        "vectorizer = TfidfVectorizer()\n",
        "vectors = vectorizer.fit_transform(newsgroups_train.data)\n",
        "\n",
        "# print the dimensions of the resulting array, as well as the words-coordinates of the vector model (the get_feature_names() method)\n",
        "\n",
        "print(vectors.shape)\n",
        "print()\n",
        "print(vectorizer.get_feature_names())"
      ],
      "metadata": {
        "id": "55v5Dj9Aay20"
      },
      "execution_count": null,
      "outputs": []
    },
    {
      "cell_type": "markdown",
      "source": [
        "---\n",
        "\n",
        "5. Обучите алгоритм `AgglomerativeClustering`, задав параметры: `n_clusters=3, affinity='cosine', linkage='complete'`"
      ],
      "metadata": {
        "id": "SH_F9ghrazBH"
      }
    },
    {
      "cell_type": "code",
      "source": [
        "# train the AgglomerativeClustering algorithm by setting the parameters: n_clusters=3, affinity='cosine', linkage='complete'\n",
        "\n",
        "from sklearn.cluster import AgglomerativeClustering\n",
        "\n",
        "clustering = AgglomerativeClustering(n_clusters=3, affinity='cosine', linkage='complete')\n",
        "clustering.fit(vectors.toarray())"
      ],
      "metadata": {
        "id": "C7MMqwd3a1i-",
        "colab": {
          "base_uri": "https://localhost:8080/"
        },
        "outputId": "3892f5a0-e53f-45ab-afe8-3ee1bac365e8"
      },
      "execution_count": null,
      "outputs": [
        {
          "output_type": "execute_result",
          "data": {
            "text/plain": [
              "AgglomerativeClustering(affinity='cosine', linkage='complete', n_clusters=3)"
            ]
          },
          "metadata": {},
          "execution_count": 5
        }
      ]
    },
    {
      "cell_type": "markdown",
      "source": [
        "---\n",
        "\n",
        "6. Обучите алгоритм кластеризации `K-means` с тем же числом кластеров. Выведите для контроля исходные и полученные метки. В случае их полного несовпадения воспользуйтесь перестановкой меток с оценкой несовпадений:<br>`mapping = {2 : 1, 1: 2, 0: 0}`<br>`mapped_preds = [mapping[pred] for pred in preds]`<br>`print float(sum(mapped_preds != simple_dataset.target)) / len(simple_dataset.target)`<br>Необходимо перебрать варианты перестановок и добиться минимального числа несовпадающих меток."
      ],
      "metadata": {
        "id": "sQ9cW3zea1sI"
      }
    },
    {
      "cell_type": "code",
      "source": [
        "# train the K-means clustering algorithm with the same number of clusters\n",
        "# display the original and received labels for control\n",
        "\n",
        "from sklearn.cluster import KMeans\n",
        "\n",
        "kmeans = KMeans(n_clusters=3, random_state=0).fit(vectors.toarray())\n",
        "\n",
        "print(newsgroups_train.target)\n",
        "print(clustering.labels_)\n",
        "print(kmeans.labels_)"
      ],
      "metadata": {
        "id": "Dru5kbiYa4Kq",
        "colab": {
          "base_uri": "https://localhost:8080/"
        },
        "outputId": "a8dcbf3b-91e8-49da-f228-cb780f9f0f10"
      },
      "execution_count": null,
      "outputs": [
        {
          "output_type": "stream",
          "name": "stdout",
          "text": [
            "[2 1 1 ... 2 0 2]\n",
            "[1 1 1 ... 1 1 1]\n",
            "[2 1 0 ... 2 0 2]\n"
          ]
        }
      ]
    },
    {
      "cell_type": "code",
      "source": [
        "# in case of their complete mismatch, use the permutation of labels with the assessment of mismatches:\n",
        "\n",
        "mapping = {2: 1, 1: 2, 0: 0}\n",
        "mapped_preds = [mapping[pred] for pred in kmeans.labels_]\n",
        "print(float(sum(mapped_preds != newsgroups_train.target)) / len(newsgroups_train.target))\n",
        "\n",
        "# it is necessary to go through the permutation options and achieve the minimum number of mismatched labels"
      ],
      "metadata": {
        "colab": {
          "base_uri": "https://localhost:8080/"
        },
        "id": "uN4xmH-iNvng",
        "outputId": "0be6bd01-916d-4bb7-95f1-3ce405efeda7"
      },
      "execution_count": null,
      "outputs": [
        {
          "output_type": "stream",
          "name": "stdout",
          "text": [
            "0.6440387906446092\n"
          ]
        }
      ]
    },
    {
      "cell_type": "markdown",
      "source": [
        "---\n",
        "\n",
        "7. Обучите алгоритм `AffinityPropagation`."
      ],
      "metadata": {
        "id": "qcVwaau8a4Xc"
      }
    },
    {
      "cell_type": "code",
      "source": [
        "# train the AffinityPropagation algorithm\n",
        "\n",
        "from sklearn.cluster import AffinityPropagation\n",
        "\n",
        "af = AffinityPropagation().fit(vectors.toarray())\n",
        "print(af.labels_)"
      ],
      "metadata": {
        "id": "cY1vQfA_a6py",
        "colab": {
          "base_uri": "https://localhost:8080/"
        },
        "outputId": "89e4c088-edd3-494d-edee-8e8cd6e9a152"
      },
      "execution_count": null,
      "outputs": [
        {
          "output_type": "stream",
          "name": "stdout",
          "text": [
            "[282 151  78 ... 157 378 345]\n"
          ]
        }
      ]
    },
    {
      "cell_type": "markdown",
      "source": [
        "---\n",
        "\n",
        "8. Оцените результаты кластеризации при помощи метрик, сравните методы."
      ],
      "metadata": {
        "id": "-oJ-EIJPa63M"
      }
    },
    {
      "cell_type": "code",
      "source": [
        "# evaluate the results of clustering using metrics, compare methods\n",
        "\n",
        "from sklearn import metrics\n",
        "\n",
        "print(\"K-means:\\n\")\n",
        "print(\"homogeneity_score: \\t\\t\", \"{:.5f}\".format(metrics.homogeneity_score(newsgroups_train.target, kmeans.labels_)))\n",
        "print(\"completeness_score: \\t\\t\", \"{:.5f}\".format(metrics.completeness_score(newsgroups_train.target, kmeans.labels_)))\n",
        "print(\"v_measure_score: \\t\\t\", \"{:.5f}\".format(metrics.v_measure_score(newsgroups_train.target, kmeans.labels_)))\n",
        "print(\"adjusted_rand_score: \\t\\t\", \"{:.5f}\".format(metrics.adjusted_rand_score(newsgroups_train.target, kmeans.labels_)))\n",
        "print(\"adjusted_mutual_info_score: \\t\", \"{:.5f}\".format(metrics.adjusted_mutual_info_score(newsgroups_train.target, kmeans.labels_)))\n",
        "print(\"silhouette_score: \\t\\t\", \"{:.5f}\".format(metrics.silhouette_score(vectors.toarray(), kmeans.labels_)))\n",
        "\n",
        "print('\\n', '*' * 37, '\\n')\n",
        "\n",
        "print(\"Affinity Propagation:\\n\")\n",
        "print(\"homogeneity_score: \\t\\t\", \"{:.5f}\".format(metrics.homogeneity_score(newsgroups_train.target, af.labels_)))\n",
        "print(\"completeness_score: \\t\\t\", \"{:.5f}\".format(metrics.completeness_score(newsgroups_train.target, af.labels_)))\n",
        "print(\"v_measure_score: \\t\\t\", \"{:.5f}\".format(metrics.v_measure_score(newsgroups_train.target, af.labels_)))\n",
        "print(\"adjusted_rand_score: \\t\\t\", \"{:.5f}\".format(metrics.adjusted_rand_score(newsgroups_train.target, af.labels_)))\n",
        "print(\"adjusted_mutual_info_score: \\t\", \"{:.5f}\".format(metrics.adjusted_mutual_info_score(newsgroups_train.target, af.labels_)))\n",
        "print(\"silhouette_score: \\t\\t\", \"{:.5f}\".format(metrics.silhouette_score(vectors.toarray(), af.labels_)))\n",
        "\n",
        "print('\\n', '*' * 37, '\\n')\n",
        "\n",
        "print(\"Agglomerative Clustering:\\n\")\n",
        "print(\"homogeneity_score: \\t\\t\", \"{:.5f}\".format(metrics.homogeneity_score(newsgroups_train.target, clustering.labels_)))\n",
        "print(\"completeness_score: \\t\\t\", \"{:.5f}\".format(metrics.completeness_score(newsgroups_train.target, clustering.labels_)))\n",
        "print(\"v_measure_score: \\t\\t\", \"{:.5f}\".format(metrics.v_measure_score(newsgroups_train.target, clustering.labels_)))\n",
        "print(\"adjusted_rand_score: \\t\\t\", \"{:.5f}\".format(metrics.adjusted_rand_score(newsgroups_train.target, clustering.labels_)))\n",
        "print(\"adjusted_mutual_info_score: \\t\", \"{:.5f}\".format(metrics.adjusted_mutual_info_score(newsgroups_train.target, clustering.labels_)))\n",
        "print(\"silhouette_score: \\t\\t\", \"{:.5f}\".format(metrics.silhouette_score(vectors.toarray(), clustering.labels_)))"
      ],
      "metadata": {
        "id": "26Cp9TKca77f",
        "colab": {
          "base_uri": "https://localhost:8080/"
        },
        "outputId": "5bc055fd-a717-473b-8210-bcaf446d2d78"
      },
      "execution_count": null,
      "outputs": [
        {
          "output_type": "stream",
          "name": "stdout",
          "text": [
            "K-means:\n",
            "\n",
            "homogeneity_score: \t\t 0.01803\n",
            "completeness_score: \t\t 0.02248\n",
            "v_measure_score: \t\t 0.02001\n",
            "adjusted_rand_score: \t\t 0.01607\n",
            "adjusted_mutual_info_score: \t 0.01887\n",
            "silhouette_score: \t\t 0.00485\n",
            "\n",
            " ************************************* \n",
            "\n",
            "Affinity Propagation:\n",
            "\n",
            "homogeneity_score: \t\t 0.73576\n",
            "completeness_score: \t\t 0.13990\n",
            "v_measure_score: \t\t 0.23510\n",
            "adjusted_rand_score: \t\t 0.00809\n",
            "adjusted_mutual_info_score: \t 0.17049\n",
            "silhouette_score: \t\t 0.12726\n",
            "\n",
            " ************************************* \n",
            "\n",
            "Agglomerative Clustering:\n",
            "\n",
            "homogeneity_score: \t\t 0.01325\n",
            "completeness_score: \t\t 0.03099\n",
            "v_measure_score: \t\t 0.01857\n",
            "adjusted_rand_score: \t\t 0.00146\n",
            "adjusted_mutual_info_score: \t 0.01711\n",
            "silhouette_score: \t\t 0.00623\n"
          ]
        }
      ]
    }
  ]
}