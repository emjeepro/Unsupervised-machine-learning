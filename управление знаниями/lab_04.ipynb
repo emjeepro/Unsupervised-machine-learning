{
  "cells": [
    {
      "cell_type": "markdown",
      "metadata": {
        "id": "HklrhrhrvueY"
      },
      "source": [
        "## Лаб.04\n",
        "\n",
        "### Реализация свертки\n",
        "\n",
        "---\n",
        "\n",
        "#### Задание:\n",
        "Написать функцию, реализующую применение свертки.\n",
        "\n",
        "Входные параметры:\n",
        "* матрица изображения (числовые значения пикселей),\n",
        "* ядро свертки.\n",
        "\n",
        "Обе матрицы не обязательно являются квадратными.\n",
        "\n",
        "Результат: матрица, полученная после применения свертки.\n",
        "\n",
        "Протестировать функцию, используя следующие входные данные.\n",
        "Матрица изображения:<br><br>\n",
        "`[[170, 36, 2, 95, 70, 207, 176, 153, 142],`<br>\n",
        "`[169, 37, 112, 41, 231, 15, 209, 19, 175],`<br>\n",
        "`[86, 103, 215, 4, 15, 234, 130, 23, 252],`<br>\n",
        "`[242, 28, 108, 34, 80, 159, 41, 178, 13],`<br>\n",
        "`[43, 208, 102, 107, 152, 122, 98, 7, 185],`<br>\n",
        "`[247, 249, 169, 91, 92, 176, 172, 29, 60],`<br>\n",
        "`[93, 130, 207, 128, 7, 210, 110, 132, 56],`<br>\n",
        "`[109, 99, 197, 26, 140, 45, 178, 9, 70]]`<br><br>\n",
        "\n",
        "Ядро свертки:<br><br>\n",
        "`[[-0.3, 0.3, -0.9],`<br>\n",
        "`[-0.1, -0.6, -0.5],`<br>\n",
        "`[0.0, 1.0, 0.0]]`<br><br>\n",
        "\n",
        "Результаты округлять до 1 знака после запятой.\n",
        "\n",
        "---"
      ]
    },
    {
      "cell_type": "code",
      "execution_count": 1,
      "metadata": {
        "id": "CbzZqqJ6v-L_"
      },
      "outputs": [],
      "source": [
        "import numpy as np\n",
        "import matplotlib.pyplot as plt"
      ]
    },
    {
      "cell_type": "code",
      "execution_count": 2,
      "metadata": {
        "id": "-I2Q34kKwi1O"
      },
      "outputs": [],
      "source": [
        "# define image\n",
        "\n",
        "image = np.array([\n",
        "    [170, 36, 2, 95, 70, 207, 176, 153, 142],\n",
        "    [169, 37, 112, 41, 231, 15, 209, 19, 175],\n",
        "    [86, 103, 215, 4, 15, 234, 130, 23, 252],\n",
        "    [242, 28, 108, 34, 80, 159, 41, 178, 13],\n",
        "    [43, 208, 102, 107, 152, 122, 98, 7, 185],\n",
        "    [247, 249, 169, 91, 92, 176, 172, 29, 60],\n",
        "    [93, 130, 207, 128, 7, 210, 110, 132, 56],\n",
        "    [109, 99, 197, 26, 140, 45, 178, 9, 70]\n",
        "])"
      ]
    },
    {
      "cell_type": "code",
      "execution_count": 3,
      "metadata": {
        "id": "ds8BLLRNwmJL"
      },
      "outputs": [],
      "source": [
        "# define kernel\n",
        "\n",
        "kernel = np.array([\n",
        "    [-0.3, 0.3, -0.9],\n",
        "    [-0.1, -0.6, -0.5],\n",
        "    [0.0, 1.0, 0.0]\n",
        "])"
      ]
    },
    {
      "cell_type": "code",
      "execution_count": 4,
      "metadata": {
        "id": "bOhbtkjlwdrR"
      },
      "outputs": [],
      "source": [
        "# get dimensions of image and kernel\n",
        "image_height, image_width = image.shape\n",
        "kernel_height, kernel_width = kernel.shape\n",
        "\n",
        "# calculate output height and width\n",
        "output_height = image_height - kernel_height + 1\n",
        "output_width = image_width - kernel_width + 1\n",
        "\n",
        "# initialize output\n",
        "output = np.zeros((output_height, output_width))\n",
        "\n",
        "# loop through output\n",
        "for y in range(output_height):\n",
        "    for x in range(output_width):\n",
        "        # apply kernel at each position of the output\n",
        "        output[y, x] = (kernel * image[y:y + kernel_height, x:x + kernel_width]).sum()"
      ]
    },
    {
      "cell_type": "code",
      "execution_count": 5,
      "metadata": {
        "colab": {
          "base_uri": "https://localhost:8080/"
        },
        "id": "skVtNMPDwrvM",
        "outputId": "6de649f1-868b-4255-9143-e157668df1f2"
      },
      "outputs": [
        {
          "output_type": "stream",
          "name": "stdout",
          "text": [
            "[[ -34.1   27.9 -182.4 -329.   -19.9 -153.4 -231.5]\n",
            " [-290.3  -47.7 -226.6   -2.9 -300.8  -30.8 -189.3]\n",
            " [ -75.4   47.4  -41.  -186.2  -53.2  -83.4 -369.3]\n",
            " [ -92.5   26.9 -153.6 -200.2   25.4  -98.1  -48.1]\n",
            " [-170.9  -92.9 -124.8 -241.6  -88.   -38.8 -126.4]\n",
            " [-243.3 -110.1 -181.2 -140.1 -266.3   -2.3 -206.1]]\n"
          ]
        }
      ],
      "source": [
        "# print output\n",
        "\n",
        "print(output)"
      ]
    },
    {
      "cell_type": "code",
      "execution_count": 6,
      "metadata": {
        "colab": {
          "base_uri": "https://localhost:8080/",
          "height": 265
        },
        "id": "Zj3DXowqwwkJ",
        "outputId": "602f83fd-ad30-4563-8652-b7109e3714a4"
      },
      "outputs": [
        {
          "output_type": "display_data",
          "data": {
            "text/plain": [
              "<Figure size 432x288 with 1 Axes>"
            ],
            "image/png": "[encoded data removed]"
          },
          "metadata": {
            "needs_background": "light"
          }
        }
      ],
      "source": [
        "# plot image\n",
        "\n",
        "plt.imshow(image, cmap='bone')\n",
        "plt.show()"
      ]
    },
    {
      "cell_type": "code",
      "execution_count": 7,
      "metadata": {
        "colab": {
          "base_uri": "https://localhost:8080/",
          "height": 265
        },
        "id": "mSd2rFYHw0py",
        "outputId": "a488b534-968f-4d44-cb87-446de1eef34c"
      },
      "outputs": [
        {
          "output_type": "display_data",
          "data": {
            "text/plain": [
              "<Figure size 432x288 with 1 Axes>"
            ],
            "image/png": "[encoded data removed]"
          },
          "metadata": {
            "needs_background": "light"
          }
        }
      ],
      "source": [
        "# plot output\n",
        "\n",
        "plt.imshow(output, cmap='bone')\n",
        "plt.show()"
      ]
    }
  ],
  "metadata": {
    "colab": {
      "provenance": []
    },
    "kernelspec": {
      "display_name": "Python 3",
      "name": "python3"
    },
    "language_info": {
      "name": "python"
    }
  },
  "nbformat": 4,
  "nbformat_minor": 0
}