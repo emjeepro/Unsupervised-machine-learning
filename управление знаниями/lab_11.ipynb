{
  "nbformat": 4,
  "nbformat_minor": 0,
  "metadata": {
    "colab": {
      "provenance": []
    },
    "kernelspec": {
      "name": "python3",
      "display_name": "Python 3"
    },
    "language_info": {
      "name": "python"
    },
    "accelerator": "GPU",
    "gpuClass": "standard"
  },
  "cells": [
    {
      "cell_type": "markdown",
      "source": [
        "## Лаб.11\n",
        "\n",
        "### Применение рекуррентных сетей для обработки естественного языка\n",
        "\n",
        "---\n",
        "\n",
        "#### Задание:\n",
        "Познакомиться с приемами применения рекуррентных сетей для решения задачи определения тональности текста. Исходные данные – набор отзывов `Yelp`. Документация набора данных [здесь](https://www.yelp.com/dataset).\n",
        "\n",
        "Отличие от задания лабораторной работы 10: вместо одномерных `CNN` используются `RNN` (архитектуры `LSTM` и `GRU`).\n",
        "\n",
        "**Порядок выполнения работы:**\n",
        "1. Повторите действия из пп. 1 – 8 лабораторной работы 10 (импорт и подготовка обучающего набора отзывов).\n",
        "2. Создайте модель `Sequential` и добавьте следующие слои:\n",
        "  * `Embedding(num_words, 64, input_length=max_len)`\n",
        "  * `LSTM(64)`\n",
        "  * `Dense(1, activation='sigmoid')`\n",
        "3. Скомпилируйте ИНС, задав алгоритм обучения `adam`, функцию потерь `binary_crossentropy` и метрику качества `accuracy`. Выведите информацию об архитектуре и количестве параметров созданной ИНС.\n",
        "4. Обучите ИНС, определив 5 эпох обучения, `batch_size=128`, `validation_split=0.1`, сохранив историю процесса обучения.\n",
        "5. Постройте график изменения метрики `accuracy` на обучающем и проверочном наборах. \n",
        "6. Оцените качество обученной модели на тестовом наборе данных:\n",
        "  * импортируйте содержимое файла `test.csv` в DataFrame;\n",
        "  * получите числовые представления отзывов тестового набора, применив к обученному на обучающем наборе токенизатору метод `texts_to_sequences()`;\n",
        "  * приведите числовые представления всех отзывов к одной длине с помощью функции `pad_sequences()`;\n",
        "  * сформируйте набор меток классов `y_test`;\n",
        "  * выполните оценку качества обученной модели на подготовленных тестовых данных.\n",
        "7. Примените обученную модель для оценки тональности произвольного текста.\n",
        "8. Поэкспериментируйте с гиперпараметрами моделей для получения наилучших результатов. Можно менять\n",
        "  * длину векторного представления в слое `Embedding`;\n",
        "  * количество нейронов на рекуррентном слое;\n",
        "  * количество рекуррентных слоев;\n",
        "  * тип оптимизатора;\n",
        "  * параметр `batch_size`;\n",
        "  * количество эпох обучения.\n",
        "9. Повторите действия из пп. 2 – 8 для `RNN` с архитектурой `GRU` (заменить слой `LSTM` на слой `GRU`).\n",
        "10. Сопоставьте результаты, полученные в решении задачи определения тональности отзывов с помощью ИНС различных архитектур: одномерных `CNN`, `LSTM` и `GRU`. Сравните также время, которое понадобилось для обучения ИНС разных архитектур.\n",
        "\n",
        "---"
      ],
      "metadata": {
        "id": "KFVY_eh-ATCc"
      }
    },
    {
      "cell_type": "markdown",
      "source": [
        "1. Повторите действия из пп. 1 – 8 лабораторной работы 10 (импорт и подготовка обучающего набора отзывов)."
      ],
      "metadata": {
        "id": "UoeyIsYtCMjz"
      }
    },
    {
      "cell_type": "code",
      "source": [
        "# download the archive with reviews using the !wget command\n",
        "\n",
        "!wget https://www.dropbox.com/s/fjexugghuawc9rw/yelp_review_polarity_csv.tgz?dl=0"
      ],
      "metadata": {
        "id": "XcSusyZyCOqc",
        "colab": {
          "base_uri": "https://localhost:8080/"
        },
        "outputId": "73d0f633-7907-4210-9a68-91c258ab51eb"
      },
      "execution_count": null,
      "outputs": [
        {
          "output_type": "stream",
          "name": "stdout",
          "text": [
            "--2022-12-14 12:50:55--  https://www.dropbox.com/s/fjexugghuawc9rw/yelp_review_polarity_csv.tgz?dl=0\n",
            "Resolving www.dropbox.com (www.dropbox.com)... 162.125.1.18, 2620:100:6016:18::a27d:112\n",
            "Connecting to www.dropbox.com (www.dropbox.com)|162.125.1.18|:443... connected.\n",
            "HTTP request sent, awaiting response... 302 Found\n",
            "Location: /s/raw/fjexugghuawc9rw/yelp_review_polarity_csv.tgz [following]\n",
            "--2022-12-14 12:50:55--  https://www.dropbox.com/s/raw/fjexugghuawc9rw/yelp_review_polarity_csv.tgz\n",
            "Reusing existing connection to www.dropbox.com:443.\n",
            "HTTP request sent, awaiting response... 302 Found\n",
            "Location: https://ucf8566660190a5a61eec1ba0a96.dl.dropboxusercontent.com/cd/0/inline/Bynu_w_yMWfyoQBcS-TwBOMWr7r1W94xjL0qm8Xobr9V0n2VRsN-lcvVFNiRkro6O_Xq8kd_5RCdaALQnZcmj43hp92ebJK0y3bQ6kihkjW4eeKZE4g0Ce5AsWu9Vm_E7aeF6ulVAEbuQQkGJoukwuiy-DcYHU8_Y99fsGSCfqW_ww/file# [following]\n",
            "--2022-12-14 12:50:55--  https://ucf8566660190a5a61eec1ba0a96.dl.dropboxusercontent.com/cd/0/inline/Bynu_w_yMWfyoQBcS-TwBOMWr7r1W94xjL0qm8Xobr9V0n2VRsN-lcvVFNiRkro6O_Xq8kd_5RCdaALQnZcmj43hp92ebJK0y3bQ6kihkjW4eeKZE4g0Ce5AsWu9Vm_E7aeF6ulVAEbuQQkGJoukwuiy-DcYHU8_Y99fsGSCfqW_ww/file\n",
            "Resolving ucf8566660190a5a61eec1ba0a96.dl.dropboxusercontent.com (ucf8566660190a5a61eec1ba0a96.dl.dropboxusercontent.com)... 162.125.1.15, 2620:100:6016:15::a27d:10f\n",
            "Connecting to ucf8566660190a5a61eec1ba0a96.dl.dropboxusercontent.com (ucf8566660190a5a61eec1ba0a96.dl.dropboxusercontent.com)|162.125.1.15|:443... connected.\n",
            "HTTP request sent, awaiting response... 302 Found\n",
            "Location: /cd/0/inline2/BynQ_lYSQVFh-KA-SGUlF8qpFZ33Ot23LBjMde8C9woMJ6BE62RtgNm7S-v6z4tQQcZ3ey4ih9gFHOdMA7zkC28mC4_R7AYiM9GJtJx52T_gdlgpCYZ3bmwz8bhIvgMasURaByjGs3D7iexjlz8mtc5ZtONxL7o2a0MG_e4xOI6MjAA77KN6qKf1e3nKvqGKOsDq2OGfRUldSwJfvxPx7GY-xUQj0lTmQwOOlz3Io3blBBpcISeBisqT4OJn5JujE3ObQaO7TbcLp7a2KHAOEeAPNoK-MtxdZFIVXi9Tikq-oGrcloGXCe3ZBg-GfdNNDIyxJMD0KKjm_KU4W0bwBTAwQm4V03Ofa9WkoMS5QtHJkWJoXMcWcpYTfp1UpXuu68p90JQ2l-E5MdNFaWKiFE9zY__eMp47mQ56TLSnqr275Q/file [following]\n",
            "--2022-12-14 12:50:56--  https://ucf8566660190a5a61eec1ba0a96.dl.dropboxusercontent.com/cd/0/inline2/BynQ_lYSQVFh-KA-SGUlF8qpFZ33Ot23LBjMde8C9woMJ6BE62RtgNm7S-v6z4tQQcZ3ey4ih9gFHOdMA7zkC28mC4_R7AYiM9GJtJx52T_gdlgpCYZ3bmwz8bhIvgMasURaByjGs3D7iexjlz8mtc5ZtONxL7o2a0MG_e4xOI6MjAA77KN6qKf1e3nKvqGKOsDq2OGfRUldSwJfvxPx7GY-xUQj0lTmQwOOlz3Io3blBBpcISeBisqT4OJn5JujE3ObQaO7TbcLp7a2KHAOEeAPNoK-MtxdZFIVXi9Tikq-oGrcloGXCe3ZBg-GfdNNDIyxJMD0KKjm_KU4W0bwBTAwQm4V03Ofa9WkoMS5QtHJkWJoXMcWcpYTfp1UpXuu68p90JQ2l-E5MdNFaWKiFE9zY__eMp47mQ56TLSnqr275Q/file\n",
            "Reusing existing connection to ucf8566660190a5a61eec1ba0a96.dl.dropboxusercontent.com:443.\n",
            "HTTP request sent, awaiting response... 200 OK\n",
            "Length: 166373201 (159M) [application/x-gtar]\n",
            "Saving to: ‘yelp_review_polarity_csv.tgz?dl=0’\n",
            "\n",
            "yelp_review_polarit 100%[===================>] 158.67M   165MB/s    in 1.0s    \n",
            "\n",
            "2022-12-14 12:50:58 (165 MB/s) - ‘yelp_review_polarity_csv.tgz?dl=0’ saved [166373201/166373201]\n",
            "\n"
          ]
        }
      ]
    },
    {
      "cell_type": "code",
      "source": [
        "!mv yelp_review_polarity_csv.tgz?dl=0 yelp_review_polarity_csv.tgz"
      ],
      "metadata": {
        "id": "gy8ywhd-b5ao"
      },
      "execution_count": null,
      "outputs": []
    },
    {
      "cell_type": "code",
      "source": [
        "# unzip the archive with the command !tar\n",
        "\n",
        "!tar -xvf yelp_review_polarity_csv.tgz"
      ],
      "metadata": {
        "id": "7SEcKoQHb8Fb",
        "colab": {
          "base_uri": "https://localhost:8080/"
        },
        "outputId": "1ece7445-5dba-46ec-a367-2aa786fd0f50"
      },
      "execution_count": null,
      "outputs": [
        {
          "output_type": "stream",
          "name": "stdout",
          "text": [
            "yelp_review_polarity_csv/\n",
            "yelp_review_polarity_csv/train.csv\n",
            "yelp_review_polarity_csv/readme.txt\n",
            "yelp_review_polarity_csv/test.csv\n"
          ]
        }
      ]
    },
    {
      "cell_type": "code",
      "source": [
        "# output and examine the contents of the received files\n",
        "\n",
        "# display the contents of the file in full - the !cat command (for the readme.txt file)\n",
        "!cat yelp_review_polarity_csv/readme.txt"
      ],
      "metadata": {
        "id": "sAeQnFdVb8fv",
        "colab": {
          "base_uri": "https://localhost:8080/"
        },
        "outputId": "0d46fb2e-275a-4d9f-87dc-9d96f6c36e11"
      },
      "execution_count": null,
      "outputs": [
        {
          "output_type": "stream",
          "name": "stdout",
          "text": [
            "Yelp Review Polarity Dataset\n",
            "\n",
            "Version 1, Updated 09/09/2015\n",
            "\n",
            "ORIGIN\n",
            "\n",
            "The Yelp reviews dataset consists of reviews from Yelp. It is extracted from the Yelp Dataset Challenge 2015 data. For more information, please refer to http://www.yelp.com/dataset_challenge\n",
            "\n",
            "The Yelp reviews polarity dataset is constructed by Xiang Zhang (xiang.zhang@nyu.edu) from the above dataset. It is first used as a text classification benchmark in the following paper: Xiang Zhang, Junbo Zhao, Yann LeCun. Character-level Convolutional Networks for Text Classification. Advances in Neural Information Processing Systems 28 (NIPS 2015).\n",
            "\n",
            "\n",
            "DESCRIPTION\n",
            "\n",
            "The Yelp reviews polarity dataset is constructed by considering stars 1 and 2 negative, and 3 and 4 positive. For each polarity 280,000 training samples and 19,000 testing samples are take randomly. In total there are 560,000 trainig samples and 38,000 testing samples. Negative polarity is class 1, and positive class 2.\n",
            "\n",
            "The files train.csv and test.csv contain all the training samples as comma-sparated values. There are 2 columns in them, corresponding to class index (1 and 2) and review text. The review texts are escaped using double quotes (\"), and any internal double quote is escaped by 2 double quotes (\"\"). New lines are escaped by a backslash followed with an \"n\" character, that is \"\\n\".\n"
          ]
        }
      ]
    },
    {
      "cell_type": "code",
      "source": [
        "# output first 10 lines (with default setting) - !head command (for train.csv)\n",
        "!head yelp_review_polarity_csv/train.csv\n",
        "\n",
        "# pay attention to the class labels used in the set (first column): 1 - negative, 2 - positive"
      ],
      "metadata": {
        "id": "gO4GbrBob-BC",
        "colab": {
          "base_uri": "https://localhost:8080/"
        },
        "outputId": "0c3da978-1bc8-481f-8236-dcc4758c71e5"
      },
      "execution_count": null,
      "outputs": [
        {
          "output_type": "stream",
          "name": "stdout",
          "text": [
            "\"1\",\"Unfortunately, the frustration of being Dr. Goldberg's patient is a repeat of the experience I've had with so many other doctors in NYC -- good doctor, terrible staff.  It seems that his staff simply never answers the phone.  It usually takes 2 hours of repeated calling to get an answer.  Who has time for that or wants to deal with it?  I have run into this problem with many other doctors and I just don't get it.  You have office workers, you have patients with medical needs, why isn't anyone answering the phone?  It's incomprehensible and not work the aggravation.  It's with regret that I feel that I have to give Dr. Goldberg 2 stars.\"\n",
            "\"2\",\"Been going to Dr. Goldberg for over 10 years. I think I was one of his 1st patients when he started at MHMG. He's been great over the years and is really all about the big picture. It is because of him, not my now former gyn Dr. Markoff, that I found out I have fibroids. He explores all options with you and is very patient and understanding. He doesn't judge and asks all the right questions. Very thorough and wants to be kept in the loop on every aspect of your medical health and your life.\"\n",
            "\"1\",\"I don't know what Dr. Goldberg was like before  moving to Arizona, but let me tell you, STAY AWAY from this doctor and this office. I was going to Dr. Johnson before he left and Goldberg took over when Johnson left. He is not a caring doctor. He is only interested in the co-pay and having you come in for medication refills every month. He will not give refills and could less about patients's financial situations. Trying to get your 90 days mail away pharmacy prescriptions through this guy is a joke. And to make matters even worse, his office staff is incompetent. 90% of the time when you call the office, they'll put you through to a voice mail, that NO ONE ever answers or returns your call. Both my adult children and husband have decided to leave this practice after experiencing such frustration. The entire office has an attitude like they are doing you a favor. Give me a break! Stay away from this doc and the practice. You deserve better and they will not be there when you really need them. I have never felt compelled to write a bad review about anyone until I met this pathetic excuse for a doctor who is all about the money.\"\n",
            "\"1\",\"I'm writing this review to give you a heads up before you see this Doctor. The office staff and administration are very unprofessional. I left a message with multiple people regarding my bill, and no one ever called me back. I had to hound them to get an answer about my bill. \\n\\nSecond, and most important, make sure your insurance is going to cover Dr. Goldberg's visits and blood work. He recommended to me that I get a physical, and he knew I was a student because I told him. I got the physical done. Later, I found out my health insurance doesn't pay for preventative visits. I received an $800.00 bill for the blood work. I can't pay for my bill because I'm a student and don't have any cash flow at this current time. I can't believe the Doctor wouldn't give me a heads up to make sure my insurance would cover work that wasn't necessary and was strictly preventative. The office can't do anything to help me cover the bill. In addition, the office staff said the onus is on me to make sure my insurance covers visits. Frustrating situation!\"\n",
            "\"2\",\"All the food is great here. But the best thing they have is their wings. Their wings are simply fantastic!!  The \\\"\"Wet Cajun\\\"\" are by the best & most popular.  I also like the seasoned salt wings.  Wing Night is Monday & Wednesday night, $0.75 whole wings!\\n\\nThe dining area is nice. Very family friendly! The bar is very nice is well.  This place is truly a Yinzer's dream!!  \\\"\"Pittsburgh Dad\\\"\" would love this place n'at!!\"\n",
            "\"1\",\"Wing sauce is like water. Pretty much a lot of butter and some hot sauce (franks red hot maybe).  The whole wings are good size and crispy, but for $1 a wing the sauce could be better. The hot and extra hot are about the same flavor/heat.  The fish sandwich is good and is a large portion, sides are decent.\"\n",
            "\"1\",\"Owning a driving range inside the city limits is like a license to print money.  I don't think I ask much out of a driving range.  Decent mats, clean balls and accessible hours.  Hell you need even less people now with the advent of the machine that doles out the balls.  This place has none of them.  It is april and there are no grass tees yet.  BTW they opened for the season this week although it has been golfing weather for a month.  The mats look like the carpet at my 107 year old aunt Irene's house.  Worn and thread bare.  Let's talk about the hours.  This place is equipped with lights yet they only sell buckets of balls until 730.  It is still light out.  Finally lets you have the pit to hit into.  When I arrived I wasn't sure if this was a driving range or an excavation site for a mastodon or a strip mining operation.  There is no grass on the range. Just mud.  Makes it a good tool to figure out how far you actually are hitting the ball.  Oh, they are cash only also.\\n\\nBottom line, this place sucks.  The best hope is that the owner sells it to someone that actually wants to make money and service golfers in Pittsburgh.\"\n",
            "\"1\",\"This place is absolute garbage...  Half of the tees are not available, including all the grass tees.  It is cash only, and they sell the last bucket at 8, despite having lights.  And if you finish even a minute after 8, don't plan on getting a drink.  The vending machines are sold out (of course) and they sell drinks inside, but close the drawers at 8 on the dot.  There are weeds grown all over the place.  I noticed some sort of batting cage, but it looks like those are out of order as well.  Someone should buy this place and turn it into what it should be.\"\n",
            "\"2\",\"Before I finally made it over to this range I heard the same thing from most people - it's just fine to go work on your swing. I had such a low expectation I was pleasantly surprised. \\n\\nIt's a fairly big range - if you are familiar with Scally's in Moon, it seems like it has almost as many tees, though its not nearly as nice a facility. \\n\\nThe guys in the pro shop were two of the friendlier guys I've come across at ranges or at courses. Yards were indeed marked and there are some targets to aim for, and even some hazards to aim away from. \\n\\nA big red flag to me was the extra charge ($3) to hit off the grass. I am no range expert, but this is the 4th one I've been to and the first I've seen of that sort of nickel and diming....\\n\\nPrice for the golf balls was reasonable and I do plan to be back every week until they close up in October for the season. Hopefully, since its for sale, it will reopen as a golf facility again.\"\n",
            "\"2\",\"I drove by yesterday to get a sneak peak.  It re-opens on July 14th and I can't wait to take my kids.  The new range looks amazing.  The entire range appears to be turf, which may or many not help your game, but it looks really nice.  The tee boxes look state of the art and the club house looks like something you'll see on a newer course.  Can't wait to experience it!\"\n"
          ]
        }
      ]
    },
    {
      "cell_type": "code",
      "source": [
        "# output first 10 lines (with default setting) - !head command (for test.csv)\n",
        "!head yelp_review_polarity_csv/test.csv\n",
        "\n",
        "# pay attention to the class labels used in the set (first column): 1 - negative, 2 - positive"
      ],
      "metadata": {
        "id": "FkDsJAx3cAwh",
        "colab": {
          "base_uri": "https://localhost:8080/"
        },
        "outputId": "8b398019-8806-4641-9043-f828005d7fe5"
      },
      "execution_count": null,
      "outputs": [
        {
          "output_type": "stream",
          "name": "stdout",
          "text": [
            "\"2\",\"Contrary to other reviews, I have zero complaints about the service or the prices. I have been getting tire service here for the past 5 years now, and compared to my experience with places like Pep Boys, these guys are experienced and know what they're doing. \\nAlso, this is one place that I do not feel like I am being taken advantage of, just because of my gender. Other auto mechanics have been notorious for capitalizing on my ignorance of cars, and have sucked my bank account dry. But here, my service and road coverage has all been well explained - and let up to me to decide. \\nAnd they just renovated the waiting room. It looks a lot better than it did in previous years.\"\n",
            "\"1\",\"Last summer I had an appointment to get new tires and had to wait a super long time. I also went in this week for them to fix a minor problem with a tire they put on. They \\\"\"fixed\\\"\" it for free, and the very next morning I had the same issue. I called to complain, and the \\\"\"manager\\\"\" didn't even apologize!!! So frustrated. Never going back.  They seem overpriced, too.\"\n",
            "\"2\",\"Friendly staff, same starbucks fair you get anywhere else.  Sometimes the lines can get long.\"\n",
            "\"1\",\"The food is good. Unfortunately the service is very hit or miss. The main issue seems to be with the kitchen, the waiters and waitresses are often very apologetic for the long waits and it's pretty obvious that some of them avoid the tables after taking the initial order to avoid hearing complaints.\"\n",
            "\"2\",\"Even when we didn't have a car Filene's Basement was worth the bus trip to the Waterfront. I always find something (usually I find 3-4 things and spend about $60) and better still, I am always still wearing the clothes and shoes 3 months later. \\n\\nI kind of suspect this is the best shopping in Pittsburgh; it's much better than the usual department stores, better than Marshall's and TJ Maxx and better than the Saks downtown, even when it has a sale. Selection, bargains AND quality.\\n\\nI like this Filene's better than Gabriel Brothers, which are harder to get to. Gabriel Brothers are a real discount shopper's challenge and I'm afraid I didn't live in Pittsburgh long enough to develop the necessary skills . . . Filene's was still up and running in June 2007 when I left town.\"\n",
            "\"2\",\"Picture Billy Joel's \\\"\"Piano Man\\\"\" DOUBLED mixed with beer, a rowdy crowd, and comedy - Welcome to Sing Sing!  A unique musical experience found in Homestead.\\n\\nIf you're looking to grab a bite to eat or a beer, come on in!  Serving food and brews from Rock Bottom Brewery, Sing Sing keeps your tummy full while you listen to two (or more) amazingly talented pianists take your musical requests.  They'll play anything you'd like, for tips of course.  Wanting to hear Britney Spears?  Toto?  Duran Duran?  Yep, they play that... new or old.\\n\\nThe crowd makes the show, so make sure you come ready for a good time.  If the crowd is dead, it's harder for the Guys to get a reaction.  If you're wanting to have some fun, it can be a GREAT time!  It's the perfect place for Birthday parties - especially if you want to embarrass a friend.  The guys will bring them up to the pianos and perform a little ditty.  For being a good sport, you get the coveted Sing Sing bumper sticker.  Now who wouldn't want that?\\n\\nDueling Pianos and brews... time to Shut Up & Sing Sing!\"\n",
            "\"1\",\"Mediocre service. COLD food! Our food waited so long the lettuce & pickles wilted. Bland food. Crazy overpriced. Long waits in the arcade. 1 beer per hour maximum.  Avoid at all costs. Fair manager.\"\n",
            "\"1\",\"Ok! Let me tell you about my bad experience first. I went to D&B last night for a post wedding party - which, side note, is a great idea!\\n\\nIt was around midnight and the bar wasn't really populated. There were three bartenders and only one was actually making rounds to see if anyone needed anything. The two other bartenders were chatting on the far side of the bar that no one was sitting at. Kind of counter productive if you ask me. \\n\\nI stood there for about 5 minutes, which for a busy bar is fine but when I am the only one with my card out then, it just seems a little ridiculous. I made eye contact with the one girl twice and gave her a smile and she literally turned away. I finally had to walk to them to get their attention.  I was standing right in front of them smiling and they didn't ask if i need anything. I finally said, \\\"\"Are you working?\\\"\" and they gave each other a weird look. I felt like i was the crazy one. I asked for a beer/got the beer.\\n\\nIn between that time, the other bartender brought food over and set it down. She took a fry from the plate (right in front of me) and then served it to someone on the other side of the bar. What the hell! I felt like i was in some grimy bar in out in the sticks - not an established D&B. \\n\\nI was just really turned off from that experience. \\n\\nThe good is that D&B provides a different type of entertainment when you want to mix things up. I remember going here with my grandparents when I was a kid and it was the best treat ever! We would eat at the restaurant and then spend hours playing games. This place holds some really good memories for me. \\n\\nIt's a shame that my experience last night has spoiled the high standards I held for it.\"\n",
            "\"1\",\"I used to love D&B when it first opened in the Waterfront, but it has gone down hill over the years. The games are not as fun and do not give you as many tickets and the prizes have gotten cheaper in quality. It takes a whole heck of a lot of tickets for you to even get a pencil! The atmosphere is okay but it used to be so much better with the funnest games and diverse groups of people! Now, it is run down and many of the games are app related games (Fruit Ninja) and 3D Experience rides. With such \\\"\"games\\\"\", you can't even earn tickets and they take a lot of tokens! Last time I went, back in the winter, many of the games were broken, which made for a negative player experience. I would go to D&B to play some games again in the future, but it is no longer one of my favorite places to go due to the decline of fun games where you can earn tickets.\"\n",
            "\"2\",\"Like any Barnes & Noble, it has a nice comfy cafe, and a large selection of books.  The staff is very friendly and helpful.  They stock a decent selection, and the prices are pretty reasonable.  Obviously it's hard for them to compete with Amazon.  However since all the small shop bookstores are gone, it's nice to walk into one every once in a while.\"\n"
          ]
        }
      ]
    },
    {
      "cell_type": "code",
      "source": [
        "# print the total number of records (reviews) in the train.csv using the !wc -l command\n",
        "\n",
        "!wc -l yelp_review_polarity_csv/train.csv"
      ],
      "metadata": {
        "id": "bj17U3NgcC5V",
        "colab": {
          "base_uri": "https://localhost:8080/"
        },
        "outputId": "f1ddf3fd-ec24-4f5e-9fc4-d941952d2555"
      },
      "execution_count": null,
      "outputs": [
        {
          "output_type": "stream",
          "name": "stdout",
          "text": [
            "560000 yelp_review_polarity_csv/train.csv\n"
          ]
        }
      ]
    },
    {
      "cell_type": "code",
      "source": [
        "# print the total number of records (reviews) in the test.csv using the !wc -l command\n",
        "\n",
        "!wc -l yelp_review_polarity_csv/test.csv"
      ],
      "metadata": {
        "id": "kNuOnROncEsZ",
        "colab": {
          "base_uri": "https://localhost:8080/"
        },
        "outputId": "7d12e5aa-e25a-47e2-b3d8-f72a86e8f5ad"
      },
      "execution_count": null,
      "outputs": [
        {
          "output_type": "stream",
          "name": "stdout",
          "text": [
            "38000 yelp_review_polarity_csv/test.csv\n"
          ]
        }
      ]
    },
    {
      "cell_type": "code",
      "source": [
        "# import the contents of the train.csv file into a DataFrame (pd.read_csv command)\n",
        "# specify in the import settings that no column headings are present in the file, and give the heading names as you wish\n",
        "\n",
        "import pandas as pd\n",
        "from pprint import pprint\n",
        "\n",
        "df = pd.read_csv('yelp_review_polarity_csv/train.csv', header=None, names=['label', 'text'])\n",
        "df.head()"
      ],
      "metadata": {
        "id": "9snMNAfqcGDR",
        "colab": {
          "base_uri": "https://localhost:8080/",
          "height": 206
        },
        "outputId": "5655dcfa-511a-4fc0-cee6-07c8e96f891d"
      },
      "execution_count": null,
      "outputs": [
        {
          "output_type": "execute_result",
          "data": {
            "text/plain": [
              "   label                                               text\n",
              "0      1  Unfortunately, the frustration of being Dr. Go...\n",
              "1      2  Been going to Dr. Goldberg for over 10 years. ...\n",
              "2      1  I don't know what Dr. Goldberg was like before...\n",
              "3      1  I'm writing this review to give you a heads up...\n",
              "4      2  All the food is great here. But the best thing..."
            ],
            "text/html": [
              "\n",
              "  <div id=\"df-c8c046e4-6620-4189-af06-d8000e0415c6\">\n",
              "    <div class=\"colab-df-container\">\n",
              "      <div>\n",
              "<style scoped>\n",
              "    .dataframe tbody tr th:only-of-type {\n",
              "        vertical-align: middle;\n",
              "    }\n",
              "\n",
              "    .dataframe tbody tr th {\n",
              "        vertical-align: top;\n",
              "    }\n",
              "\n",
              "    .dataframe thead th {\n",
              "        text-align: right;\n",
              "    }\n",
              "</style>\n",
              "<table border=\"1\" class=\"dataframe\">\n",
              "  <thead>\n",
              "    <tr style=\"text-align: right;\">\n",
              "      <th></th>\n",
              "      <th>label</th>\n",
              "      <th>text</th>\n",
              "    </tr>\n",
              "  </thead>\n",
              "  <tbody>\n",
              "    <tr>\n",
              "      <th>0</th>\n",
              "      <td>1</td>\n",
              "      <td>Unfortunately, the frustration of being Dr. Go...</td>\n",
              "    </tr>\n",
              "    <tr>\n",
              "      <th>1</th>\n",
              "      <td>2</td>\n",
              "      <td>Been going to Dr. Goldberg for over 10 years. ...</td>\n",
              "    </tr>\n",
              "    <tr>\n",
              "      <th>2</th>\n",
              "      <td>1</td>\n",
              "      <td>I don't know what Dr. Goldberg was like before...</td>\n",
              "    </tr>\n",
              "    <tr>\n",
              "      <th>3</th>\n",
              "      <td>1</td>\n",
              "      <td>I'm writing this review to give you a heads up...</td>\n",
              "    </tr>\n",
              "    <tr>\n",
              "      <th>4</th>\n",
              "      <td>2</td>\n",
              "      <td>All the food is great here. But the best thing...</td>\n",
              "    </tr>\n",
              "  </tbody>\n",
              "</table>\n",
              "</div>\n",
              "      <button class=\"colab-df-convert\" onclick=\"convertToInteractive('df-c8c046e4-6620-4189-af06-d8000e0415c6')\"\n",
              "              title=\"Convert this dataframe to an interactive table.\"\n",
              "              style=\"display:none;\">\n",
              "        \n",
              "  <svg xmlns=\"http://www.w3.org/2000/svg\" height=\"24px\"viewBox=\"0 0 24 24\"\n",
              "       width=\"24px\">\n",
              "    <path d=\"M0 0h24v24H0V0z\" fill=\"none\"/>\n",
              "    <path d=\"M18.56 5.44l.94 2.06.94-2.06 2.06-.94-2.06-.94-.94-2.06-.94 2.06-2.06.94zm-11 1L8.5 8.5l.94-2.06 2.06-.94-2.06-.94L8.5 2.5l-.94 2.06-2.06.94zm10 10l.94 2.06.94-2.06 2.06-.94-2.06-.94-.94-2.06-.94 2.06-2.06.94z\"/><path d=\"M17.41 7.96l-1.37-1.37c-.4-.4-.92-.59-1.43-.59-.52 0-1.04.2-1.43.59L10.3 9.45l-7.72 7.72c-.78.78-.78 2.05 0 2.83L4 21.41c.39.39.9.59 1.41.59.51 0 1.02-.2 1.41-.59l7.78-7.78 2.81-2.81c.8-.78.8-2.07 0-2.86zM5.41 20L4 18.59l7.72-7.72 1.47 1.35L5.41 20z\"/>\n",
              "  </svg>\n",
              "      </button>\n",
              "      \n",
              "  <style>\n",
              "    .colab-df-container {\n",
              "      display:flex;\n",
              "      flex-wrap:wrap;\n",
              "      gap: 12px;\n",
              "    }\n",
              "\n",
              "    .colab-df-convert {\n",
              "      background-color: #E8F0FE;\n",
              "      border: none;\n",
              "      border-radius: 50%;\n",
              "      cursor: pointer;\n",
              "      display: none;\n",
              "      fill: #1967D2;\n",
              "      height: 32px;\n",
              "      padding: 0 0 0 0;\n",
              "      width: 32px;\n",
              "    }\n",
              "\n",
              "    .colab-df-convert:hover {\n",
              "      background-color: #E2EBFA;\n",
              "      box-shadow: 0px 1px 2px rgba(60, 64, 67, 0.3), 0px 1px 3px 1px rgba(60, 64, 67, 0.15);\n",
              "      fill: #174EA6;\n",
              "    }\n",
              "\n",
              "    [theme=dark] .colab-df-convert {\n",
              "      background-color: #3B4455;\n",
              "      fill: #D2E3FC;\n",
              "    }\n",
              "\n",
              "    [theme=dark] .colab-df-convert:hover {\n",
              "      background-color: #434B5C;\n",
              "      box-shadow: 0px 1px 3px 1px rgba(0, 0, 0, 0.15);\n",
              "      filter: drop-shadow(0px 1px 2px rgba(0, 0, 0, 0.3));\n",
              "      fill: #FFFFFF;\n",
              "    }\n",
              "  </style>\n",
              "\n",
              "      <script>\n",
              "        const buttonEl =\n",
              "          document.querySelector('#df-c8c046e4-6620-4189-af06-d8000e0415c6 button.colab-df-convert');\n",
              "        buttonEl.style.display =\n",
              "          google.colab.kernel.accessAllowed ? 'block' : 'none';\n",
              "\n",
              "        async function convertToInteractive(key) {\n",
              "          const element = document.querySelector('#df-c8c046e4-6620-4189-af06-d8000e0415c6');\n",
              "          const dataTable =\n",
              "            await google.colab.kernel.invokeFunction('convertToInteractive',\n",
              "                                                     [key], {});\n",
              "          if (!dataTable) return;\n",
              "\n",
              "          const docLinkHtml = 'Like what you see? Visit the ' +\n",
              "            '<a target=\"_blank\" href=https://colab.research.google.com/notebooks/data_table.ipynb>data table notebook</a>'\n",
              "            + ' to learn more about interactive tables.';\n",
              "          element.innerHTML = '';\n",
              "          dataTable['output_type'] = 'display_data';\n",
              "          await google.colab.output.renderOutput(dataTable, element);\n",
              "          const docLink = document.createElement('div');\n",
              "          docLink.innerHTML = docLinkHtml;\n",
              "          element.appendChild(docLink);\n",
              "        }\n",
              "      </script>\n",
              "    </div>\n",
              "  </div>\n",
              "  "
            ]
          },
          "metadata": {},
          "execution_count": 9
        }
      ]
    },
    {
      "cell_type": "code",
      "source": [
        "# save the reviews texts and class labels as separate reviews and y_train objects, respectively. use labels 0 and 1 to label classes\n",
        "\n",
        "reviews = df['text'].values\n",
        "y_train = df['label'].values - 1  # use labels 0 and 1 to label classes"
      ],
      "metadata": {
        "id": "wb5rmHUUcHrt"
      },
      "execution_count": null,
      "outputs": []
    },
    {
      "cell_type": "code",
      "source": [
        "# set the constants num_words = 10000 (the maximum number of words to be processed - the dimension of the dictionary)\n",
        "# and max_len = 100 (the maximum number of words to be processed for each review)\n",
        "\n",
        "num_words = 10000\n",
        "max_len = 100"
      ],
      "metadata": {
        "id": "1wmuCMU6cJQ_"
      },
      "execution_count": null,
      "outputs": []
    },
    {
      "cell_type": "code",
      "source": [
        "# perform text tokenization by splitting text into tokens and creating their numerical representation, in this case, tokens are separate words\n",
        "\n",
        "# create a tokenizer (an instance of the Tokenizer class), specifying the maximum number of words to parse equal to num_words\n",
        "from tensorflow.keras.preprocessing.text import Tokenizer\n",
        "tokenizer = Tokenizer(num_words=num_words)\n",
        "\n",
        "# train the tokenizer on texts from reviews using the fit_on_texts() method\n",
        "tokenizer.fit_on_texts(reviews)\n",
        "\n",
        "# display and examine the frequency dictionary created by the tokenizer (for this, use the word_index attribute of the tokenizer)\n",
        "# pprint(tokenizer.word_index)\n",
        "\n",
        "# using the trained tokenizer, get numerical representations of the texts of reviews: sequences = <tokenizer name>.texts_to_sequences(reviews)\n",
        "sequences = tokenizer.texts_to_sequences(reviews)\n",
        "\n",
        "# pprint(sequences[0])"
      ],
      "metadata": {
        "id": "JDa1BZAZcK7L"
      },
      "execution_count": null,
      "outputs": []
    },
    {
      "cell_type": "code",
      "source": [
        "# implement coercion of all numeric representations to the same length using the pad_sequences() function:\n",
        "# from tensorflow.keras.preprocessing.sequence import pad_sequences\n",
        "# x_train = pad_sequences(sequences, maxlen=max_len)\n",
        "\n",
        "from tensorflow.keras.preprocessing.sequence import pad_sequences\n",
        "\n",
        "x_train = pad_sequences(sequences, maxlen=max_len)\n",
        "pprint(x_train.shape)\n",
        "pprint(x_train[0])"
      ],
      "metadata": {
        "colab": {
          "base_uri": "https://localhost:8080/"
        },
        "id": "9Rn3jbgB5TvY",
        "outputId": "da8235bf-ae24-4e8b-caf6-f7c9b5d8ac2b"
      },
      "execution_count": null,
      "outputs": [
        {
          "output_type": "stream",
          "name": "stdout",
          "text": [
            "(560000, 100)\n",
            "array([   7,    1,  137,  112,   24,   18,   27,  189,   80, 3128,   10,\n",
            "       2636,   34, 1416,  462,  129,    8,  519,   13,  177,  129,  803,\n",
            "         88, 3812,    1,  446,    8,  392,  841,  115,  360,    7, 4136,\n",
            "       1438,    4,   43,   59, 1266,  118,   95,   46,    9,   13,   49,\n",
            "       1687,    4,  418,   18,    8,    3,   23,  563,  178,   16,  460,\n",
            "         18,  189,   80, 3128,    2,    3,   40,   78,   43,    8,   20,\n",
            "         23,  644, 1343,   20,   23, 3252,   18, 2921,  637,  227,  430,\n",
            "        476, 4312,    1,  446,   63,    2,   22,  215,    1,   63,   18,\n",
            "       2269,   13,    3,  249,   13,    3,   23,    4,  163,  939,  115,\n",
            "        237], dtype=int32)\n"
          ]
        }
      ]
    },
    {
      "cell_type": "markdown",
      "source": [
        "---\n",
        "\n",
        "2. Создайте модель `Sequential` и добавьте следующие слои:\n",
        "  * `Embedding(num_words, 64, input_length=max_len)`\n",
        "  * `LSTM(64)`\n",
        "  * `Dense(1, activation='sigmoid')`"
      ],
      "metadata": {
        "id": "NADdCLJRCPpT"
      }
    },
    {
      "cell_type": "code",
      "source": [
        "# create a Sequential model and add the following layers\n",
        "\n",
        "from tensorflow.keras.models import Sequential\n",
        "from tensorflow.keras.layers import Embedding, LSTM, Dense\n",
        "\n",
        "model = Sequential()\n",
        "model.add(Embedding(num_words, 64, input_length=max_len))\n",
        "model.add(LSTM(64))\n",
        "model.add(Dense(1, activation='sigmoid'))"
      ],
      "metadata": {
        "id": "__vj_HrRCR_1"
      },
      "execution_count": null,
      "outputs": []
    },
    {
      "cell_type": "markdown",
      "source": [
        "---\n",
        "\n",
        "3. Скомпилируйте ИНС, задав алгоритм обучения `adam`, функцию потерь `binary_crossentropy` и метрику качества `accuracy`. Выведите информацию об архитектуре и количестве параметров созданной ИНС."
      ],
      "metadata": {
        "id": "GqdM_KkSCTAa"
      }
    },
    {
      "cell_type": "code",
      "source": [
        "# compile the ANN by specifying the learning algorithm adam, the loss function binary_crossentropy, and the quality\n",
        "# metric accuracy. then output information about the architecture and the number of parameters of the created ANN\n",
        "\n",
        "model.compile(optimizer='adam', loss='binary_crossentropy', metrics=['accuracy'])\n",
        "model.summary()"
      ],
      "metadata": {
        "id": "FW_lKiCeCVbF",
        "colab": {
          "base_uri": "https://localhost:8080/"
        },
        "outputId": "c86936c8-77e3-4fe2-d5e1-6cb828ad4070"
      },
      "execution_count": null,
      "outputs": [
        {
          "output_type": "stream",
          "name": "stdout",
          "text": [
            "Model: \"sequential\"\n",
            "_________________________________________________________________\n",
            " Layer (type)                Output Shape              Param #   \n",
            "=================================================================\n",
            " embedding (Embedding)       (None, 100, 64)           640000    \n",
            "                                                                 \n",
            " lstm (LSTM)                 (None, 64)                33024     \n",
            "                                                                 \n",
            " dense (Dense)               (None, 1)                 65        \n",
            "                                                                 \n",
            "=================================================================\n",
            "Total params: 673,089\n",
            "Trainable params: 673,089\n",
            "Non-trainable params: 0\n",
            "_________________________________________________________________\n"
          ]
        }
      ]
    },
    {
      "cell_type": "code",
      "source": [
        "len(y_train)"
      ],
      "metadata": {
        "colab": {
          "base_uri": "https://localhost:8080/"
        },
        "id": "kywDQinG5mYj",
        "outputId": "8ea041f5-505a-4190-b1f1-83b712a5b558"
      },
      "execution_count": null,
      "outputs": [
        {
          "output_type": "execute_result",
          "data": {
            "text/plain": [
              "560000"
            ]
          },
          "metadata": {},
          "execution_count": 16
        }
      ]
    },
    {
      "cell_type": "markdown",
      "source": [
        "---\n",
        "\n",
        "4. Обучите ИНС, определив 5 эпох обучения, `batch_size=128`, `validation_split=0.1`, сохранив историю процесса обучения."
      ],
      "metadata": {
        "id": "_on-Rr49CWMr"
      }
    },
    {
      "cell_type": "code",
      "source": [
        "# train the ANN by defining 5 training epochs, batch_size=128, validation_split=0.1, keeping the history of the training process\n",
        "\n",
        "history = model.fit(x_train, y_train, epochs=5, batch_size=128, validation_split=0.1)"
      ],
      "metadata": {
        "id": "Bx48n-cKCYq9",
        "colab": {
          "base_uri": "https://localhost:8080/"
        },
        "outputId": "327ec49c-d6c7-4689-a809-10cb0ff3f469"
      },
      "execution_count": null,
      "outputs": [
        {
          "output_type": "stream",
          "name": "stdout",
          "text": [
            "Epoch 1/5\n",
            "3938/3938 [==============================] - 46s 10ms/step - loss: 0.2052 - accuracy: 0.9178 - val_loss: 0.1315 - val_accuracy: 0.9513\n",
            "Epoch 2/5\n",
            "3938/3938 [==============================] - 38s 10ms/step - loss: 0.1444 - accuracy: 0.9446 - val_loss: 0.1142 - val_accuracy: 0.9566\n",
            "Epoch 3/5\n",
            "3938/3938 [==============================] - 39s 10ms/step - loss: 0.1228 - accuracy: 0.9533 - val_loss: 0.1135 - val_accuracy: 0.9561\n",
            "Epoch 4/5\n",
            "3938/3938 [==============================] - 40s 10ms/step - loss: 0.1055 - accuracy: 0.9601 - val_loss: 0.1159 - val_accuracy: 0.9568\n",
            "Epoch 5/5\n",
            "3938/3938 [==============================] - 44s 11ms/step - loss: 0.0895 - accuracy: 0.9668 - val_loss: 0.1195 - val_accuracy: 0.9576\n"
          ]
        }
      ]
    },
    {
      "cell_type": "markdown",
      "source": [
        "---\n",
        "\n",
        "5. Постройте график изменения метрики `accuracy` на обучающем и проверочном наборах."
      ],
      "metadata": {
        "id": "_tvLs6HTCZdL"
      }
    },
    {
      "cell_type": "code",
      "source": [
        "# plot the change in the accuracy metric on the training and testing sets\n",
        "\n",
        "import matplotlib.pyplot as plt\n",
        "\n",
        "plt.plot(history.history['accuracy'], label='accuracy')\n",
        "plt.plot(history.history['val_accuracy'], label='val_accuracy')\n",
        "plt.xlabel('Epoch')\n",
        "plt.ylabel('Accuracy')\n",
        "plt.ylim([0.9, 1])\n",
        "plt.legend(loc='lower right');"
      ],
      "metadata": {
        "id": "vI8KEtr3CcAF",
        "colab": {
          "base_uri": "https://localhost:8080/",
          "height": 283
        },
        "outputId": "be0be3c8-96e0-4e13-defa-ce2a692ddefa"
      },
      "execution_count": null,
      "outputs": [
        {
          "output_type": "display_data",
          "data": {
            "text/plain": [
              "<Figure size 432x288 with 1 Axes>"
            ],
            "image/png": "[encoded data removed]"
          },
          "metadata": {
            "needs_background": "light"
          }
        }
      ]
    },
    {
      "cell_type": "markdown",
      "source": [
        "---\n",
        "\n",
        "6. Оцените качество обученной модели на тестовом наборе данных:\n",
        "  * импортируйте содержимое файла `test.csv` в DataFrame;\n",
        "  * получите числовые представления отзывов тестового набора, применив к обученному на обучающем наборе токенизатору метод `texts_to_sequences()`;\n",
        "  * приведите числовые представления всех отзывов к одной длине с помощью функции `pad_sequences()`;\n",
        "  * сформируйте набор меток классов `y_test`;\n",
        "  * выполните оценку качества обученной модели на подготовленных тестовых данных."
      ],
      "metadata": {
        "id": "phFCRUEVCcux"
      }
    },
    {
      "cell_type": "code",
      "source": [
        "# evaluate the quality of the trained model on the test dataset\n",
        "\n",
        "# import the contents of the test.csv file into a DataFrame\n",
        "df_test = pd.read_csv('yelp_review_polarity_csv/test.csv', header=None, names=['label', 'text'])\n",
        "y_test = df_test['label'].values - 1  # use labels 0 and 1 to label classes\n",
        "\n",
        "# obtain numerical representations of test set reviews by applying the texts_to_sequences() method to the tokenizer trained on the training set\n",
        "sequences_test = tokenizer.texts_to_sequences(df_test['text'].values)\n",
        "\n",
        "# bring the numerical representations of all responses to the same length using the pad_sequences() function\n",
        "from tensorflow.keras.preprocessing.sequence import pad_sequences\n",
        "sequences_test = pad_sequences(sequences_test, maxlen=max_len)\n",
        "\n",
        "# evaluate the quality of the trained model on the prepared test data\n",
        "model.evaluate(sequences_test, y_test)"
      ],
      "metadata": {
        "id": "xoAbjuIhCe93",
        "colab": {
          "base_uri": "https://localhost:8080/"
        },
        "outputId": "2b09bcc4-823f-4113-de9f-1b12a43a4871"
      },
      "execution_count": null,
      "outputs": [
        {
          "output_type": "stream",
          "name": "stdout",
          "text": [
            "1188/1188 [==============================] - 5s 4ms/step - loss: 0.1465 - accuracy: 0.9470\n"
          ]
        },
        {
          "output_type": "execute_result",
          "data": {
            "text/plain": [
              "[0.14646407961845398, 0.9470263123512268]"
            ]
          },
          "metadata": {},
          "execution_count": 19
        }
      ]
    },
    {
      "cell_type": "markdown",
      "source": [
        "---\n",
        "\n",
        "7. Примените обученную модель для оценки тональности произвольного текста."
      ],
      "metadata": {
        "id": "JIeFZgtKCf84"
      }
    },
    {
      "cell_type": "code",
      "source": [
        "# apply the trained model to evaluate the sentiment of arbitrary text\n",
        "\n",
        "text = ['I love this movie. It\\'s wonderful']\n",
        "sequences = tokenizer.texts_to_sequences(text)\n",
        "sequences = pad_sequences(sequences, maxlen=max_len)\n",
        "print(text, model.predict(sequences)) # 1 means good review\n",
        "\n",
        "text = ['I hate this movie. It\\'s horrible']\n",
        "sequences = tokenizer.texts_to_sequences(text)\n",
        "sequences = pad_sequences(sequences, maxlen=max_len)\n",
        "print(text, model.predict(sequences)) # 0 means bad review"
      ],
      "metadata": {
        "id": "PpFUWVHjCiJo",
        "colab": {
          "base_uri": "https://localhost:8080/"
        },
        "outputId": "48215f80-fe4c-490e-9f87-31a3fc9830eb"
      },
      "execution_count": null,
      "outputs": [
        {
          "output_type": "stream",
          "name": "stdout",
          "text": [
            "1/1 [==============================] - 1s 912ms/step\n",
            "[\"I love this movie. It's wonderful\"] [[0.9995277]]\n",
            "1/1 [==============================] - 0s 17ms/step\n",
            "[\"I hate this movie. It's horrible\"] [[0.00167523]]\n"
          ]
        }
      ]
    },
    {
      "cell_type": "markdown",
      "source": [
        "---\n",
        "\n",
        "9. Повторите действия из пп. 2 – 8 для `RNN` с архитектурой `GRU` (заменить слой `LSTM` на слой `GRU`)."
      ],
      "metadata": {
        "id": "T1plPvAPClfX"
      }
    },
    {
      "cell_type": "code",
      "source": [
        "# repeat the steps from paragraphs. 2 - 8 for RNN with GRU architecture (replace LSTM layer with GRU layer)\n",
        "\n",
        "from keras.layers import GRU\n",
        "\n",
        "model = Sequential()\n",
        "model.add(Embedding(num_words, 64, input_length=max_len))\n",
        "model.add(GRU(64))\n",
        "model.add(Dense(1, activation='sigmoid'))\n",
        "\n",
        "model.compile(optimizer='adam', loss='binary_crossentropy', metrics=['accuracy'])\n",
        "model.summary()\n",
        "\n",
        "history = model.fit(x_train, y_train, epochs=5, batch_size=128, validation_split=0.1)"
      ],
      "metadata": {
        "id": "u4IIVHbKCnfw",
        "colab": {
          "base_uri": "https://localhost:8080/"
        },
        "outputId": "dcd6c01b-8cc6-42fe-da6d-c19059150a21"
      },
      "execution_count": null,
      "outputs": [
        {
          "output_type": "stream",
          "name": "stdout",
          "text": [
            "Model: \"sequential_1\"\n",
            "_________________________________________________________________\n",
            " Layer (type)                Output Shape              Param #   \n",
            "=================================================================\n",
            " embedding_1 (Embedding)     (None, 100, 64)           640000    \n",
            "                                                                 \n",
            " gru (GRU)                   (None, 64)                24960     \n",
            "                                                                 \n",
            " dense_1 (Dense)             (None, 1)                 65        \n",
            "                                                                 \n",
            "=================================================================\n",
            "Total params: 665,025\n",
            "Trainable params: 665,025\n",
            "Non-trainable params: 0\n",
            "_________________________________________________________________\n",
            "Epoch 1/5\n",
            "3938/3938 [==============================] - 34s 8ms/step - loss: 0.2018 - accuracy: 0.9182 - val_loss: 0.1247 - val_accuracy: 0.9514\n",
            "Epoch 2/5\n",
            "3938/3938 [==============================] - 32s 8ms/step - loss: 0.1394 - accuracy: 0.9457 - val_loss: 0.1149 - val_accuracy: 0.9555\n",
            "Epoch 3/5\n",
            "3938/3938 [==============================] - 31s 8ms/step - loss: 0.1160 - accuracy: 0.9558 - val_loss: 0.1072 - val_accuracy: 0.9588\n",
            "Epoch 4/5\n",
            "3938/3938 [==============================] - 33s 8ms/step - loss: 0.0992 - accuracy: 0.9628 - val_loss: 0.1113 - val_accuracy: 0.9586\n",
            "Epoch 5/5\n",
            "3938/3938 [==============================] - 33s 8ms/step - loss: 0.0832 - accuracy: 0.9693 - val_loss: 0.1179 - val_accuracy: 0.9565\n"
          ]
        }
      ]
    },
    {
      "cell_type": "code",
      "source": [
        "plt.plot(history.history['accuracy'], label='accuracy')\n",
        "plt.plot(history.history['val_accuracy'], label='val_accuracy')\n",
        "plt.xlabel('Epoch')\n",
        "plt.ylabel('Accuracy')\n",
        "plt.ylim([0.9, 1])\n",
        "plt.legend(loc='lower right');"
      ],
      "metadata": {
        "colab": {
          "base_uri": "https://localhost:8080/",
          "height": 283
        },
        "id": "y9Iz06-16EM5",
        "outputId": "0a405d78-022e-419f-bd98-805c02a0608c"
      },
      "execution_count": null,
      "outputs": [
        {
          "output_type": "display_data",
          "data": {
            "text/plain": [
              "<Figure size 432x288 with 1 Axes>"
            ],
            "image/png": "[encoded data removed]"
          },
          "metadata": {
            "needs_background": "light"
          }
        }
      ]
    },
    {
      "cell_type": "code",
      "source": [
        "model.evaluate(sequences_test, y_test)\n",
        "\n",
        "text = ['I love this movie. It\\'s wonderful']\n",
        "sequences = tokenizer.texts_to_sequences(text)\n",
        "sequences = pad_sequences(sequences, maxlen=max_len)\n",
        "print(text, model.predict(sequences)) # 1 means good review\n",
        "\n",
        "text = ['I hate this movie. It\\'s horrible']\n",
        "sequences = tokenizer.texts_to_sequences(text)\n",
        "sequences = pad_sequences(sequences, maxlen=max_len)\n",
        "print(text, model.predict(sequences)) # 0 means bad review"
      ],
      "metadata": {
        "colab": {
          "base_uri": "https://localhost:8080/"
        },
        "id": "pi-pxp3C6E4D",
        "outputId": "afb962a9-2067-49ee-8988-22d8e77ceab4"
      },
      "execution_count": null,
      "outputs": [
        {
          "output_type": "stream",
          "name": "stdout",
          "text": [
            "1188/1188 [==============================] - 5s 4ms/step - loss: 0.1488 - accuracy: 0.9452\n",
            "1/1 [==============================] - 0s 302ms/step\n",
            "[\"I love this movie. It's wonderful\"] [[0.9996933]]\n",
            "1/1 [==============================] - 0s 15ms/step\n",
            "[\"I hate this movie. It's horrible\"] [[0.00219372]]\n"
          ]
        }
      ]
    }
  ]
}