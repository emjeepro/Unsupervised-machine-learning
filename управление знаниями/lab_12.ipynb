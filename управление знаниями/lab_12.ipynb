{
  "nbformat": 4,
  "nbformat_minor": 0,
  "metadata": {
    "colab": {
      "provenance": []
    },
    "kernelspec": {
      "name": "python3",
      "display_name": "Python 3"
    },
    "language_info": {
      "name": "python"
    }
  },
  "cells": [
    {
      "cell_type": "markdown",
      "source": [
        "## Лаб.12\n",
        "\n",
        "### Hugging Face\n",
        "\n",
        "---\n",
        "\n",
        "#### Задание:\n",
        "Поэкспериментируйте с библиотекой `Transformers` от [Hugging Face](https://huggingface.co/), созданной для приложений обработки естественного языка, и ее платформой, позволяющей пользователям обмениваться моделями машинного обучения и наборами данных.\n",
        "\n",
        "<img src=\"lab_12_huggingface.svg\">\n",
        "\n",
        "---"
      ],
      "metadata": {
        "id": "4ahwwATCC7J9"
      }
    },
    {
      "cell_type": "markdown",
      "source": [
        "## Анализ эмоциональной окраски статьи о введении санкций\n",
        "## (оригинальный текст и перевод на другие языки)\n",
        "### Сохраняются ли эмоции при автоматическом переводе?\n",
        "Исходный текст:   https://www.gov.uk/government/news/uk-sanctions-the-shady-network-funding-putins-lavish-lifestyle"
      ],
      "metadata": {
        "id": "RsmBUltFFRCz"
      }
    },
    {
      "cell_type": "code",
      "source": [
        "!pip install transformers sentencepiece"
      ],
      "metadata": {
        "id": "sFUlUjyyDw-i"
      },
      "execution_count": null,
      "outputs": []
    },
    {
      "cell_type": "code",
      "source": [
        "from transformers import pipeline"
      ],
      "metadata": {
        "id": "tBmc4H77FV-L"
      },
      "execution_count": null,
      "outputs": []
    },
    {
      "cell_type": "markdown",
      "source": [
        "## Анализ эмоциональной окраски исходного текста (на английском языке)"
      ],
      "metadata": {
        "id": "-m3Wn702FYVE"
      }
    },
    {
      "cell_type": "markdown",
      "source": [
        "### Подготовка классификатора для текста на английском языке"
      ],
      "metadata": {
        "id": "olJxp6yUFZOU"
      }
    },
    {
      "cell_type": "code",
      "source": [
        "classifier_eng = pipeline(\"text-classification\", model=\"cardiffnlp/twitter-roberta-base-emotion\")"
      ],
      "metadata": {
        "id": "e7ydxAxe-XkK"
      },
      "execution_count": null,
      "outputs": []
    },
    {
      "cell_type": "markdown",
      "source": [
        "### Подготовка текста для анализа"
      ],
      "metadata": {
        "id": "E0sQiAZLLB9_"
      }
    },
    {
      "cell_type": "markdown",
      "source": [
        "Текст, взятый из указанного выше источника, сокращен, чтобы избежать ошибки \"превышение максимальной длины строки\". Из исходного текста удален список конкретных лиц, на которых наложены санкции"
      ],
      "metadata": {
        "id": "_J9vOIWuSbmh"
      }
    },
    {
      "cell_type": "code",
      "source": [
        "text_eng = \"Foreign Secretary Liz Truss is today (Friday 13 May) announcing fresh sanctions on Putin’s ‘wallet’ of family and friends– those whom he rewards with state positions and wealth in return for their undying loyalty. Official records list modest assets for President Putin including: a small flat in St Petersburg, 2 Soviet-era cars from the 1950s, a trailer, and a small garage. In reality, Putin relies on his network of family, childhood friends, and selected elite who have benefited from his rule and in turn support his lifestyle. Their reward is influence over the affairs of the Russian state that goes far beyond their formal positions. Today’s sanctions will hit this cabal who owe Putin their wealth and power, and in turn support Putin and his war machine. Foreign Secretary Liz Truss said: We are exposing and targeting the shady network propping up Putin’s luxury lifestyle and tightening the vice on his inner circle. We will keep going with sanctions on all those aiding and abetting Putin’s aggression until Ukraine prevails. Putin’s lavish lifestyle has regularly been on display, with reports exposing links to a £566 million yacht and the $1 billion ‘Putin’s Palace’ – officially owned by close associate, Arkady Rotenberg, who was sanctioned in December 2020. His family members form a core contingent of his inner circle – receiving positions of power due to their affiliation to the regime. Today’s sanctions isolate the family members and financiers deep within Putin’s inner circle, compounding the pressure on Putin as he continues his senseless invasion into Ukraine. Since the invasion, the UK has sanctioned over 1,000 individuals and 100 entities, including hitting oligarchs with a net global worth of over £117 billion.\""
      ],
      "metadata": {
        "id": "NwBZ71QL-ZgZ"
      },
      "execution_count": null,
      "outputs": []
    },
    {
      "cell_type": "markdown",
      "source": [
        "### Применение классификатора"
      ],
      "metadata": {
        "id": "3dwzzc_PTNni"
      }
    },
    {
      "cell_type": "code",
      "source": [
        "results = classifier_eng(text_eng)"
      ],
      "metadata": {
        "id": "JwF1Ogtu-Zm4"
      },
      "execution_count": null,
      "outputs": []
    },
    {
      "cell_type": "code",
      "source": [
        "results"
      ],
      "metadata": {
        "colab": {
          "base_uri": "https://localhost:8080/"
        },
        "id": "eZivxEhPFoEd",
        "outputId": "8026298d-c0d4-4104-a2a5-1c6b290e2cf4"
      },
      "execution_count": null,
      "outputs": [
        {
          "output_type": "execute_result",
          "data": {
            "text/plain": [
              "[{'label': 'joy', 'score': 0.8248132467269897}]"
            ]
          },
          "metadata": {},
          "execution_count": 6
        }
      ]
    },
    {
      "cell_type": "code",
      "source": [
        "classifier_eng(text_eng, return_all_scores=True)"
      ],
      "metadata": {
        "colab": {
          "base_uri": "https://localhost:8080/"
        },
        "id": "dCsXBYt0F2cC",
        "outputId": "1486d3d0-8542-4d91-d619-4bc1a2765a3e"
      },
      "execution_count": null,
      "outputs": [
        {
          "output_type": "stream",
          "name": "stderr",
          "text": [
            "/usr/local/lib/python3.8/dist-packages/transformers/pipelines/text_classification.py:104: UserWarning: `return_all_scores` is now deprecated,  if want a similar funcionality use `top_k=None` instead of `return_all_scores=True` or `top_k=1` instead of `return_all_scores=False`.\n",
            "  warnings.warn(\n"
          ]
        },
        {
          "output_type": "execute_result",
          "data": {
            "text/plain": [
              "[[{'label': 'joy', 'score': 0.8248132467269897},\n",
              "  {'label': 'optimism', 'score': 0.03913231939077377},\n",
              "  {'label': 'anger', 'score': 0.0645996630191803},\n",
              "  {'label': 'sadness', 'score': 0.07145477086305618}]]"
            ]
          },
          "metadata": {},
          "execution_count": 7
        }
      ]
    },
    {
      "cell_type": "markdown",
      "source": [
        "Как ни странно, основная эмоция - радость"
      ],
      "metadata": {
        "id": "M1zUd459SKXg"
      }
    },
    {
      "cell_type": "markdown",
      "source": [
        "## Анализ эмоциональной окраски текста, полученного с помощью автоматического перевода в браузере (Google Crome)"
      ],
      "metadata": {
        "id": "MiClNshvQX2_"
      }
    },
    {
      "cell_type": "code",
      "source": [
        "text_rus_google = \"Министр иностранных дел Лиз Трасс сегодня (пятница, 13 мая) объявляет о новых санкциях в отношении путинского «кошелька» в виде семьи и друзей — тех, кого он награждает государственными должностями и богатством в обмен на их бессмертную лояльность. В официальных документах перечислены скромные активы президента Путина, в том числе: небольшая квартира в Санкт-Петербурге, 2 машины советских времен 1950-х годов, трейлер и небольшой гараж. На самом деле Путин полагается на свою семью, друзей детства и избранную элиту, которые извлекли выгоду из его правления и, в свою очередь, поддерживают его образ жизни. Их награда — влияние на дела Российского государства, выходящее далеко за рамки их формальных позиций. Сегодняшние санкции ударят по клике, которая обязана Путину своим богатством и властью и, в свою очередь, поддерживает Путина и его военную машину. Министр иностранных дел Лиз Трасс сказала: Мы разоблачаем и нацеливаемся на теневую сеть, поддерживающую роскошный образ жизни Путина и затягивающую пороки в его ближайшем окружении. Мы будем продолжать вводить санкции против всех, кто помогает и подстрекает путинскую агрессию, пока Украина не победит. Роскошный образ жизни Путина регулярно демонстрировался в отчетах, раскрывающих связи с яхтой стоимостью 566 миллионов фунтов стерлингов и «Дворцом Путина» стоимостью 1 миллиард долларов, которые официально принадлежат близкому соратнику Аркадию Ротенбергу, который попал под санкции в декабре 2020 года. Сегодняшние санкции изолируют членов семьи и финансистов из ближайшего окружения Путина, усугубляя давление на Путина, поскольку он продолжает свое бессмысленное вторжение в Украину. После вторжения Великобритания ввела санкции в отношении более 1000 физических и 100 юридических лиц, в том числе олигархов с чистым мировым капиталом более 117 миллиардов фунтов стерлингов.\""
      ],
      "metadata": {
        "id": "585bRFStF-5s"
      },
      "execution_count": null,
      "outputs": []
    },
    {
      "cell_type": "markdown",
      "source": [
        "### Подготовка классификатора для текста на русском языке"
      ],
      "metadata": {
        "id": "OUiTmbnJTj3w"
      }
    },
    {
      "cell_type": "code",
      "source": [
        "classifier_rus = pipeline(\"text-classification\", model=\"cointegrated/rubert-tiny2-cedr-emotion-detection\")"
      ],
      "metadata": {
        "id": "LV5sMwsO-Vyb"
      },
      "execution_count": null,
      "outputs": []
    },
    {
      "cell_type": "markdown",
      "source": [
        "### Применение классификатора"
      ],
      "metadata": {
        "id": "07Hy8JqwT8d2"
      }
    },
    {
      "cell_type": "code",
      "source": [
        "results = classifier_rus(text_rus_google)"
      ],
      "metadata": {
        "id": "riS-q2IiJTyI"
      },
      "execution_count": null,
      "outputs": []
    },
    {
      "cell_type": "code",
      "source": [
        "results"
      ],
      "metadata": {
        "colab": {
          "base_uri": "https://localhost:8080/"
        },
        "id": "_DvnqusxJZc8",
        "outputId": "21b9a08e-19fc-4ec1-cfd5-f70eba29268c"
      },
      "execution_count": null,
      "outputs": [
        {
          "output_type": "execute_result",
          "data": {
            "text/plain": [
              "[{'label': 'no_emotion', 'score': 0.990021288394928}]"
            ]
          },
          "metadata": {},
          "execution_count": 11
        }
      ]
    },
    {
      "cell_type": "code",
      "source": [
        "classifier_rus(text_rus_google, return_all_scores=True)"
      ],
      "metadata": {
        "colab": {
          "base_uri": "https://localhost:8080/"
        },
        "id": "4fGqCsB8J0m6",
        "outputId": "2083387e-a2f9-417f-d428-a5ce2e16b735"
      },
      "execution_count": null,
      "outputs": [
        {
          "output_type": "execute_result",
          "data": {
            "text/plain": [
              "[[{'label': 'no_emotion', 'score': 0.990021288394928},\n",
              "  {'label': 'joy', 'score': 0.00508832698687911},\n",
              "  {'label': 'sadness', 'score': 0.005151413381099701},\n",
              "  {'label': 'surprise', 'score': 0.004561194684356451},\n",
              "  {'label': 'fear', 'score': 0.005040038377046585},\n",
              "  {'label': 'anger', 'score': 0.005326025653630495}]]"
            ]
          },
          "metadata": {},
          "execution_count": 12
        }
      ]
    },
    {
      "cell_type": "markdown",
      "source": [
        "Текст, полученный с помощью автоматического перевода, оказался лишенным эмоциональной окраски. Следует отметить, что у англоязычного классификатора не было варианта 'no_emotion', но даже без учета этого варианта эмоция радости в русскоязычном тексте не на первом месте. \n",
        "\n",
        "По всей видимости, это связано с качеством перевода."
      ],
      "metadata": {
        "id": "ni97UHoLUCq3"
      }
    },
    {
      "cell_type": "markdown",
      "source": [
        "Попробуем использовать переводчик из библиотеки Hugging Face."
      ],
      "metadata": {
        "id": "M_lQZxZHUXIg"
      }
    },
    {
      "cell_type": "markdown",
      "source": [
        "### Создание переводчика с английского на русский язык"
      ],
      "metadata": {
        "id": "-gcMIxlnUkcT"
      }
    },
    {
      "cell_type": "code",
      "source": [
        "!pip install sacremoses"
      ],
      "metadata": {
        "id": "l6URiklJqfBw"
      },
      "execution_count": null,
      "outputs": []
    },
    {
      "cell_type": "code",
      "source": [
        "translator_en_ru = pipeline(\"translation_en_to_ru\", model=\"facebook/wmt19-en-ru\", max_length=450)"
      ],
      "metadata": {
        "id": "j-EqzxFQQTad"
      },
      "execution_count": null,
      "outputs": []
    },
    {
      "cell_type": "markdown",
      "source": [
        "### Получение перевода"
      ],
      "metadata": {
        "id": "a9EFywFntU1m"
      }
    },
    {
      "cell_type": "code",
      "source": [
        "text_rus_HF = translator_en_ru(text_eng)"
      ],
      "metadata": {
        "id": "7xgBG_6AoFrf"
      },
      "execution_count": null,
      "outputs": []
    },
    {
      "cell_type": "code",
      "source": [
        "text_rus_HF"
      ],
      "metadata": {
        "colab": {
          "base_uri": "https://localhost:8080/"
        },
        "id": "x1o-MEjpta9x",
        "outputId": "a2e23489-0c71-4f9f-9d48-9260ca6ccd8b"
      },
      "execution_count": null,
      "outputs": [
        {
          "output_type": "execute_result",
          "data": {
            "text/plain": [
              "[{'translation_text': 'Министр иностранных дел Лиз Трасс сегодня (в пятницу, 13 мая) объявляет о новых санкциях в отношении \"кошелька\" семьи и друзей Путина - тех, кого он награждает государственными должностями и богатством в обмен на их неизменную лояльность. В официальных отчетах перечисляются скромные активы президента Путина, в том числе: небольшая квартира в Санкт-Петербурге, 2 автомобиля советской эпохи 1950-х годов, трейлер и небольшой гараж. На самом деле, Путин избавляется от своей сети семьи, друзей детства и избранной элиты, которые извлекли выгоду из его правления и, в свою очередь, поддерживают его образ жизни. Их наградой является влияние на дела российского государства, которое выходит далеко за рамки их формального положения. Сегодняшние санкции ударят по этой клике, которая поддерживает Путина своим богатством и властью, и, в свою очередь, поддерживает Путина и его военную машину. Министр иностранных дел Лиз Трасс сказала: Мы расширяем и нацеливаем теневую сеть, поддерживающую роскошный образ жизни Путина и наведение порядка в его ближайшем окружении. Мы будем продолжать применять санкции в отношении всех тех, кто помогает и поддерживает агрессию Путина, пока не восторжествует Украина. Сегодняшние санкции ударят по этой клике, которая поддерживает Путина своим богатством и властью, и, в свою очередь, поддерживает Путина и его военную машину.'}]"
            ]
          },
          "metadata": {},
          "execution_count": 16
        }
      ]
    },
    {
      "cell_type": "markdown",
      "source": [
        "Выделение собственно текста"
      ],
      "metadata": {
        "id": "MxHdVo8Ftjk9"
      }
    },
    {
      "cell_type": "code",
      "source": [
        "text_rus_HF[0]['translation_text']"
      ],
      "metadata": {
        "colab": {
          "base_uri": "https://localhost:8080/",
          "height": 140
        },
        "id": "PyYxGtSFpDwO",
        "outputId": "2d3d7ed7-e339-43a2-beae-2f9c5b1f1265"
      },
      "execution_count": null,
      "outputs": [
        {
          "output_type": "execute_result",
          "data": {
            "text/plain": [
              "'Министр иностранных дел Лиз Трасс сегодня (в пятницу, 13 мая) объявляет о новых санкциях в отношении \"кошелька\" семьи и друзей Путина - тех, кого он награждает государственными должностями и богатством в обмен на их неизменную лояльность. В официальных отчетах перечисляются скромные активы президента Путина, в том числе: небольшая квартира в Санкт-Петербурге, 2 автомобиля советской эпохи 1950-х годов, трейлер и небольшой гараж. На самом деле, Путин избавляется от своей сети семьи, друзей детства и избранной элиты, которые извлекли выгоду из его правления и, в свою очередь, поддерживают его образ жизни. Их наградой является влияние на дела российского государства, которое выходит далеко за рамки их формального положения. Сегодняшние санкции ударят по этой клике, которая поддерживает Путина своим богатством и властью, и, в свою очередь, поддерживает Путина и его военную машину. Министр иностранных дел Лиз Трасс сказала: Мы расширяем и нацеливаем теневую сеть, поддерживающую роскошный образ жизни Путина и наведение порядка в его ближайшем окружении. Мы будем продолжать применять санкции в отношении всех тех, кто помогает и поддерживает агрессию Путина, пока не восторжествует Украина. Сегодняшние санкции ударят по этой клике, которая поддерживает Путина своим богатством и властью, и, в свою очередь, поддерживает Путина и его военную машину.'"
            ],
            "application/vnd.google.colaboratory.intrinsic+json": {
              "type": "string"
            }
          },
          "metadata": {},
          "execution_count": 17
        }
      ]
    },
    {
      "cell_type": "markdown",
      "source": [
        "### Применение созданного ранее классификатора к полученному тексту"
      ],
      "metadata": {
        "id": "0EqDP_tPseik"
      }
    },
    {
      "cell_type": "code",
      "source": [
        "results = classifier_rus(text_rus_HF[0]['translation_text'])"
      ],
      "metadata": {
        "id": "RcqCXp8dscm0"
      },
      "execution_count": null,
      "outputs": []
    },
    {
      "cell_type": "code",
      "source": [
        "results"
      ],
      "metadata": {
        "colab": {
          "base_uri": "https://localhost:8080/"
        },
        "id": "rg20zLXitJg6",
        "outputId": "bfdcf2f3-a92c-416f-ff4a-32fa936e2c52"
      },
      "execution_count": null,
      "outputs": [
        {
          "output_type": "execute_result",
          "data": {
            "text/plain": [
              "[{'label': 'no_emotion', 'score': 0.9883435964584351}]"
            ]
          },
          "metadata": {},
          "execution_count": 19
        }
      ]
    },
    {
      "cell_type": "code",
      "source": [
        "classifier_rus(text_rus_HF[0]['translation_text'], return_all_scores=True)"
      ],
      "metadata": {
        "colab": {
          "base_uri": "https://localhost:8080/"
        },
        "id": "pv-eCwqTtvdY",
        "outputId": "90be6c78-f5a9-4a6d-ca11-1a035326359b"
      },
      "execution_count": null,
      "outputs": [
        {
          "output_type": "execute_result",
          "data": {
            "text/plain": [
              "[[{'label': 'no_emotion', 'score': 0.9883435964584351},\n",
              "  {'label': 'joy', 'score': 0.006324269808828831},\n",
              "  {'label': 'sadness', 'score': 0.0044560241512954235},\n",
              "  {'label': 'surprise', 'score': 0.004343254026025534},\n",
              "  {'label': 'fear', 'score': 0.0045758443884551525},\n",
              "  {'label': 'anger', 'score': 0.005853788927197456}]]"
            ]
          },
          "metadata": {},
          "execution_count": 20
        }
      ]
    },
    {
      "cell_type": "markdown",
      "source": [
        "Опять безэмоциональный текст. Но сейчас после отбрасывания варианта 'no_emotion' эмоция радости будет на первом месте. Хотя и не столь уверенно, как в англоязычном варианте"
      ],
      "metadata": {
        "id": "0NjG4QZHuDtJ"
      }
    },
    {
      "cell_type": "markdown",
      "source": [
        "Можно сделать вывод, что при автоматическом переводе (по крайней мере, с английского языка на русский) эмоциональная окраска текста минимизируется"
      ],
      "metadata": {
        "id": "0oAxMl1hunK1"
      }
    },
    {
      "cell_type": "markdown",
      "source": [
        "## Анализ эмоциональной окраски текста, переведенного на итальянский язык"
      ],
      "metadata": {
        "id": "csVdNeXRwUje"
      }
    },
    {
      "cell_type": "markdown",
      "source": [
        "### Создание переводчика с английского на итальянский"
      ],
      "metadata": {
        "id": "jF4F3QOUwfqj"
      }
    },
    {
      "cell_type": "code",
      "source": [
        "translator_en_it = pipeline(\"translation_en_to_it\", model=\"Helsinki-NLP/opus-mt-en-it\", max_length=450)"
      ],
      "metadata": {
        "id": "VkkSHRS2ubU1"
      },
      "execution_count": null,
      "outputs": []
    },
    {
      "cell_type": "code",
      "source": [
        "text_it_HF = translator_en_it(text_eng)"
      ],
      "metadata": {
        "id": "4H6ULCLDxJGn"
      },
      "execution_count": null,
      "outputs": []
    },
    {
      "cell_type": "code",
      "source": [
        "text_it_HF[0]['translation_text']"
      ],
      "metadata": {
        "colab": {
          "base_uri": "https://localhost:8080/",
          "height": 122
        },
        "id": "RPZ7lF9jw-Og",
        "outputId": "4137fee9-f3d1-4948-e25a-3813ebf465f0"
      },
      "execution_count": null,
      "outputs": [
        {
          "output_type": "execute_result",
          "data": {
            "text/plain": [
              "\"Il segretario per gli affari esteri Liz Truss è oggi (venerdì 13 maggio) annunciando nuove sanzioni su Putin e sui suoi amici, tra cui: un piccolo appartamento a San Pietroburgo, 2 auto dell'era sovietica degli anni '50, un rimorchio e un piccolo garage. In realtà, Putin si affida alla sua rete di amici di famiglia, amici d'infanzia, e ha selezionato un'élite che ha beneficiato del suo governo e a sua volta sostiene il suo stile di vita. La loro ricompensa è stata l'influenza sugli affari dello stato russo che va ben oltre le loro posizioni formali. Oggi le sanzioni colpiranno questa cabala che deve a Putin la loro ricchezza e il suo potere, e a sua volta il segretario per gli affari esteri Liz Truss ha messo in atto i suoi legami con i membri della sua famiglia.\""
            ],
            "application/vnd.google.colaboratory.intrinsic+json": {
              "type": "string"
            }
          },
          "metadata": {},
          "execution_count": 23
        }
      ]
    },
    {
      "cell_type": "markdown",
      "source": [
        "### Создание классификатора для итальянского текста"
      ],
      "metadata": {
        "id": "j4yYR-Y4xnp5"
      }
    },
    {
      "cell_type": "code",
      "source": [
        "classifier_it = pipeline(\"text-classification\", model=\"MilaNLProc/feel-it-italian-emotion\")"
      ],
      "metadata": {
        "id": "u1A7IYSTxvtL"
      },
      "execution_count": null,
      "outputs": []
    },
    {
      "cell_type": "markdown",
      "source": [
        "### Применение класиификатора"
      ],
      "metadata": {
        "id": "__oLzG3dAxp_"
      }
    },
    {
      "cell_type": "code",
      "source": [
        "results = classifier_it(text_it_HF[0]['translation_text'])"
      ],
      "metadata": {
        "id": "vo4dbXPR16G5"
      },
      "execution_count": null,
      "outputs": []
    },
    {
      "cell_type": "code",
      "source": [
        "results"
      ],
      "metadata": {
        "colab": {
          "base_uri": "https://localhost:8080/"
        },
        "id": "Lln6qNC92EXD",
        "outputId": "530b21bb-d4a5-4913-f728-b2a3aedf4504"
      },
      "execution_count": null,
      "outputs": [
        {
          "output_type": "execute_result",
          "data": {
            "text/plain": [
              "[{'label': 'anger', 'score': 0.9976606369018555}]"
            ]
          },
          "metadata": {},
          "execution_count": 26
        }
      ]
    },
    {
      "cell_type": "code",
      "source": [
        "classifier_it(text_it_HF[0]['translation_text'], return_all_scores=True)"
      ],
      "metadata": {
        "colab": {
          "base_uri": "https://localhost:8080/"
        },
        "id": "2K6L4T0L8-PP",
        "outputId": "82c51d65-6c87-4135-95ef-5f5a637d86dc"
      },
      "execution_count": null,
      "outputs": [
        {
          "output_type": "execute_result",
          "data": {
            "text/plain": [
              "[[{'label': 'anger', 'score': 0.9976606369018555},\n",
              "  {'label': 'fear', 'score': 0.0015425633173435926},\n",
              "  {'label': 'joy', 'score': 0.00026535510551184416},\n",
              "  {'label': 'sadness', 'score': 0.0005315368180163205}]]"
            ]
          },
          "metadata": {},
          "execution_count": 27
        }
      ]
    },
    {
      "cell_type": "markdown",
      "source": [
        "Просто поразительный результат!!!"
      ],
      "metadata": {
        "id": "zATru95m88Bl"
      }
    },
    {
      "cell_type": "markdown",
      "source": [
        "---\n",
        "\n",
        "## Пример №1: Автоматическое распознавание речи с Hugging Face"
      ],
      "metadata": {
        "id": "aHTmKVATIbeN"
      }
    },
    {
      "cell_type": "code",
      "source": [
        "from google.colab import drive \n",
        "drive.mount('/content/gdrive')"
      ],
      "metadata": {
        "id": "vdzKV9P8Kpvh"
      },
      "execution_count": null,
      "outputs": []
    },
    {
      "cell_type": "code",
      "source": [
        "# Automatic Speech Recognition with Hugging Face\n",
        "# model: https://huggingface.co/tasks/automatic-speech-recognition\n",
        "# audio: https://www.elllo.org/english/0001/050-David-Travel.htm \n",
        "\n",
        "from transformers import pipeline\n",
        "cls = pipeline(\"automatic-speech-recognition\", \"facebook/wav2vec2-base-960h\")\n",
        "res = cls(\"gdrive/My Drive/Colab Notebooks/data/test1.mp3\")\n",
        "print(res)"
      ],
      "metadata": {
        "colab": {
          "base_uri": "https://localhost:8080/"
        },
        "id": "5VcXACfeI9RT",
        "outputId": "240ea6d7-9d8d-4e50-a85f-605f0bd1409f"
      },
      "execution_count": null,
      "outputs": [
        {
          "output_type": "stream",
          "name": "stderr",
          "text": [
            "Some weights of Wav2Vec2ForCTC were not initialized from the model checkpoint at facebook/wav2vec2-base-960h and are newly initialized: ['wav2vec2.masked_spec_embed']\n",
            "You should probably TRAIN this model on a down-stream task to be able to use it for predictions and inference.\n"
          ]
        },
        {
          "output_type": "stream",
          "name": "stdout",
          "text": [
            "{'text': \"E A TENT SE YES IE WER NOTHING ABOUT SPORTS OEM I'M NOT BIG ON SPORTS BUT OKE WHAT'S THAT'S AKE ASA YOU AT YOU NOT LIKE SPORTS OWHA ID LIKE SWOT BI WAS NOT A AVIDA SPORTS WATCHER I USELY WOUD RATHER WATCH A MOOVY OR SOMGANE HIS HISTORY PROGRAMME O KAS HIERE IN TE HISTORY O YES OKE WHAT CAN A HISTORY A MU CANDIFFICULT QUESTION ND I WOULD SAY I'M INTERESTED PRIMARELY I'M INTERESTED IN ANCIENT AND MEDIEVAL BUT I ALSO LIKE STUDYING THE HISTORY OF THE COUNTRIES THAT I VISIT AND MAKES IT MORE A INTERESTING WHEN I GO SIGHT SEEN OKE WHAT COUNTERYES AVE YOU VISITED IVE BEEN TO TWENTY SIX CENTURIES  REALLY I O KE  E CAN'T LAME Y IS I THE BIG ONES I WOULD SAY I'VE BEEN OVER A GOOD BIT OF EUROPE A MEXICO PERU I SPENT ALMOST A YEAR IN EGYPT ND WHEN TO ISRAEL JORDAN AND NA I'M HERE IN JAPAN I'VE BEEN HERE IN JAPAN A YEAR AND A HALF AND WHILE I'VE BEEN HERE I I VISITED CREER FOR ABOUT A WEEK OKE WAT'S WHAT SU DID YOU SHUT A PYRAMIDS AND O YES I SA I CLIMBED THE PYRAMIDS A REALLY VE WHAT'S AE LIKE ON THE TAP  VERY VERY INTERESTING A YOU SEE AWEL IT WAS DURING THE SUMMER SO THE VISIBILITY WAS RATHER LOW OC BUT I TO SEE WE WERE ON THE GREAT PYRAMID AND THE SECOND PYRIMENT KAFERIN WAS WRIGHT NEAR BY AND THAT WAS A VERY DIFFERENT PERSPECTIVE TO SEE IF FROM VERY INTERESTING TO ME I LEVEL I TO BE ON THE SAME LEVEL AS THE TOP OF THAT SECOND PYRAMID OKE WATS S YOUARE IN PARY RIGT YES KERE WHAT'S THE BAK A THING THE PEOPLE THANK PER MUCH A PICTUR MUCH A TITTUR OKE SWHAT I'S MUCH A PICTURE MUCH BI TWU IS THE RUINS A OF A CITY THAT WAS BUILT BY THE INKA PEOPLE OKATOVER MAY BE A SIX HUNDRED YEARS AGO AND WAS LOST NO ONE KNEW WHAT HAPPENED TO IT TO HIS RECENTLY DISCOVERED ABOUT MY HUNDRED YEARS AGO OE NES RI TICS LIT DAVID CER  A TENNISSY\"}\n"
          ]
        }
      ]
    },
    {
      "cell_type": "markdown",
      "source": [
        "---\n",
        "\n",
        "## Пример №2: Языковой перевод с Hugging Face"
      ],
      "metadata": {
        "id": "DCe25taNOVEu"
      }
    },
    {
      "cell_type": "code",
      "source": [
        "# Language Translation using  with Hugging Face\n",
        "# model: https://huggingface.co/tasks/text2text-generation\n",
        "\n",
        "from transformers import pipeline\n",
        "tans = pipeline(task=\"text2text-generation\", model=\"facebook/m2m100_418M\")\n",
        "mean = tans(\"That is a flower\", forced_bos_token_id=tans.tokenizer.get_lang_id(lang=\"zh\"))\n",
        "print(mean)"
      ],
      "metadata": {
        "colab": {
          "base_uri": "https://localhost:8080/"
        },
        "id": "U6tyVFASOgbR",
        "outputId": "1cae65f9-055c-434d-de72-e86bf069b82b"
      },
      "execution_count": null,
      "outputs": [
        {
          "output_type": "stream",
          "name": "stdout",
          "text": [
            "[{'generated_text': '这就是一朵花'}]\n"
          ]
        }
      ]
    },
    {
      "cell_type": "markdown",
      "source": [
        "---\n",
        "\n",
        "## Пример №3: Классификация текста по категориям/тегам"
      ],
      "metadata": {
        "id": "_o8VN_4xvdEC"
      }
    },
    {
      "cell_type": "code",
      "source": [
        "!pip install transformers sentencepiece sacremoses"
      ],
      "metadata": {
        "id": "L5PS1QEGwiSR"
      },
      "execution_count": null,
      "outputs": []
    },
    {
      "cell_type": "code",
      "source": [
        "from transformers import pipeline\n",
        "from pprint import pprint\n",
        "\n",
        "# define the model\n",
        "classifier = pipeline('zero-shot-classification', model='facebook/bart-large-mnli')\n",
        "\n",
        "# define the candidate labels\n",
        "candidate_labels = ['politics', 'sports', 'business', 'technology', 'entertainment']\n",
        "\n",
        "# define the premise\n",
        "premise = 'The President of Russia is Vladimir Putin'\n",
        "\n",
        "# use the model to predict the labels\n",
        "result = classifier(premise, candidate_labels)\n",
        "\n",
        "pprint(result)"
      ],
      "metadata": {
        "colab": {
          "base_uri": "https://localhost:8080/"
        },
        "id": "eegJ7tqhvcg6",
        "outputId": "838ae3dc-d9a7-4b78-8d70-a5d7a29263f9"
      },
      "execution_count": null,
      "outputs": [
        {
          "output_type": "stream",
          "name": "stdout",
          "text": [
            "{'labels': ['politics', 'entertainment', 'business', 'technology', 'sports'],\n",
            " 'scores': [0.9144734144210815,\n",
            "            0.03190632164478302,\n",
            "            0.023787936195731163,\n",
            "            0.017552971839904785,\n",
            "            0.012279282324016094],\n",
            " 'sequence': 'The President of Russia is Vladimir Putin'}\n"
          ]
        }
      ]
    },
    {
      "cell_type": "code",
      "source": [
        "# visualize the labels\n",
        "import matplotlib.pyplot as plt\n",
        "\n",
        "# define the labels\n",
        "labels = [label for label in result['labels']]\n",
        "scores = [label for label in result['scores']]\n",
        "colors = ['red', 'green', 'blue', 'yellow', 'orange']\n",
        "\n",
        "# plot the labels\n",
        "plt.bar(labels, scores, color=colors)\n",
        "plt.show();"
      ],
      "metadata": {
        "colab": {
          "base_uri": "https://localhost:8080/",
          "height": 265
        },
        "id": "LgXXRqxNv4gs",
        "outputId": "93a32bf9-a53d-43db-a4a8-c519af705327"
      },
      "execution_count": null,
      "outputs": [
        {
          "output_type": "display_data",
          "data": {
            "text/plain": [
              "<Figure size 432x288 with 1 Axes>"
            ],
            "image/png": "[encoded data removed]"
          },
          "metadata": {
            "needs_background": "light"
          }
        }
      ]
    }
  ]
}