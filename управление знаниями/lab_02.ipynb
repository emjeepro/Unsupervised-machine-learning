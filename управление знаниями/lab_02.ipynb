{
  "cells": [
    {
      "cell_type": "markdown",
      "metadata": {
        "id": "3r1WfOEs2Gnk"
      },
      "source": [
        "## Лаб.02\n",
        "\n",
        "### Инструментарий анализа качества работы ИНС\n",
        "\n",
        "---\n",
        "\n",
        "#### Задание:\n",
        "Познакомиться с простейшими приемами анализа качества работы ИНС на примере задачи распознавания предметов одежды (рассмотрена в предыдущем задании).\n",
        "\n",
        "**Порядок выполнения работы:**\n",
        "1.\tПодготовьте обучающие и тестовые данные; создайте и подготовьте к работе ИНС с архитектурой, аналогичной построенной при выполнении лабораторной работы 1.\n",
        "2.\tВыполните обучение ИНС с использованием проверочного набора данных; результаты обучения сохраните в переменной history.\n",
        "3.\tИзучите атрибут history объекта, сохраненного в п. 2. Выведите тип, структуру (ключи) и значения.\n",
        "4.\tВыведите на одном графике значения метрики качества модели на обучающих данных и проверочном наборе в зависимости от эпохи обучения:<br><img src=\"lab_02_img_01.jpg\"><br>\n",
        "5.\tПроанализируйте историю обучения по эпохам. Сделайте выводы.\n",
        "6.\tПостарайтесь улучшить модель путем изменения гиперпараметров:\n",
        "    * количество нейронов в полносвязном слое: 400, 600, 800, 1200;\n",
        "    * добавьте в ИНС один или несколько скрытых слоев с количеством нейронов 200, 300, 400, 600, 800;\n",
        "    * используйте разное количество эпох (ориентируясь на результаты процесса обучения);\n",
        "    * используйте разные размеры мини-выборки (batch_size): 10, 50, 100, 200, 500.\n",
        "7.\tПроверьте качество лучшей из полученных моделей на тестовых данных.\n",
        "8.\tСохраните лучшую модель в файле."
      ]
    },
    {
      "cell_type": "markdown",
      "metadata": {
        "id": "TLWcyubE2mEj"
      },
      "source": [
        "---\n",
        "\n",
        "1.\tПодготовьте обучающие и тестовые данные; создайте и подготовьте к работе ИНС с архитектурой, аналогичной построенной при выполнении лабораторной работы 1."
      ]
    },
    {
      "cell_type": "code",
      "execution_count": null,
      "metadata": {
        "id": "ksT1xkCd2nkG"
      },
      "outputs": [],
      "source": [
        "import matplotlib.pyplot as plt\n",
        "from keras import Sequential, layers\n",
        "from tensorflow.keras.datasets import mnist"
      ]
    },
    {
      "cell_type": "code",
      "execution_count": null,
      "metadata": {
        "colab": {
          "base_uri": "https://localhost:8080/"
        },
        "id": "6zHtFSem2s-e",
        "outputId": "74afc4cd-9819-4c97-8024-67ab44105a92"
      },
      "outputs": [
        {
          "name": "stdout",
          "output_type": "stream",
          "text": [
            "Downloading data from https://storage.googleapis.com/tensorflow/tf-keras-datasets/mnist.npz\n",
            "11493376/11490434 [==============================] - 0s 0us/step\n",
            "11501568/11490434 [==============================] - 0s 0us/step\n"
          ]
        }
      ],
      "source": [
        "(images, labels), (test_images, test_labels) = mnist.load_data()\n",
        "images = images.reshape((60000, 28 * 28)).astype(\"float32\") / 255\n",
        "test_images = test_images.reshape((10000, 28 * 28)).astype(\"float32\") / 255\n",
        "train_images, val_images = images[10000:], images[:10000]\n",
        "train_labels, val_labels = labels[10000:], labels[:10000]"
      ]
    },
    {
      "cell_type": "code",
      "execution_count": null,
      "metadata": {
        "colab": {
          "base_uri": "https://localhost:8080/"
        },
        "id": "8mjBnXAt2u6B",
        "outputId": "020944f7-db41-47ae-8744-f68ac74ecbf1"
      },
      "outputs": [
        {
          "data": {
            "text/plain": [
              "(60000, 784)"
            ]
          },
          "execution_count": 3,
          "metadata": {},
          "output_type": "execute_result"
        }
      ],
      "source": [
        "images.shape"
      ]
    },
    {
      "cell_type": "code",
      "execution_count": null,
      "metadata": {
        "colab": {
          "base_uri": "https://localhost:8080/"
        },
        "id": "FT2WU6hL2wkl",
        "outputId": "974242b2-6d6b-4b18-d175-cfa828c23c23"
      },
      "outputs": [
        {
          "data": {
            "text/plain": [
              "(60000,)"
            ]
          },
          "execution_count": 4,
          "metadata": {},
          "output_type": "execute_result"
        }
      ],
      "source": [
        "labels.shape"
      ]
    },
    {
      "cell_type": "code",
      "execution_count": null,
      "metadata": {
        "colab": {
          "base_uri": "https://localhost:8080/",
          "height": 248
        },
        "id": "pezhkF-f2x93",
        "outputId": "8f13d91d-a11e-4026-c453-d026cdf85c30"
      },
      "outputs": [
        {
          "data": {
            "image/png": "[encoded data removed]",
            "text/plain": [
              "<Figure size 432x288 with 1 Axes>"
            ]
          },
          "metadata": {
            "needs_background": "light"
          },
          "output_type": "display_data"
        }
      ],
      "source": [
        "some_digit = images[7]\n",
        "some_digit_image = some_digit.reshape(28, 28)\n",
        "plt.imshow(some_digit_image, cmap=\"binary\")\n",
        "plt.axis(\"off\")\n",
        "plt.show()"
      ]
    },
    {
      "cell_type": "code",
      "execution_count": null,
      "metadata": {
        "colab": {
          "base_uri": "https://localhost:8080/"
        },
        "id": "rYbAU8Wq208r",
        "outputId": "f05ffc11-8d33-4b12-82de-306d82d7d234"
      },
      "outputs": [
        {
          "data": {
            "text/plain": [
              "3"
            ]
          },
          "execution_count": 6,
          "metadata": {},
          "output_type": "execute_result"
        }
      ],
      "source": [
        "labels[7]"
      ]
    },
    {
      "cell_type": "code",
      "execution_count": null,
      "metadata": {
        "colab": {
          "base_uri": "https://localhost:8080/"
        },
        "id": "s9b21wRW21YG",
        "outputId": "ee9c25ca-c57c-4ba2-863c-5f1eff84f111"
      },
      "outputs": [
        {
          "data": {
            "text/plain": [
              "(50000,)"
            ]
          },
          "execution_count": 7,
          "metadata": {},
          "output_type": "execute_result"
        }
      ],
      "source": [
        "train_labels.shape"
      ]
    },
    {
      "cell_type": "markdown",
      "metadata": {
        "id": "uwMYlbPU226L"
      },
      "source": [
        "---\n",
        "\n",
        "2.\tВыполните обучение ИНС с использованием проверочного набора данных; результаты обучения сохраните в переменной history."
      ]
    },
    {
      "cell_type": "code",
      "execution_count": null,
      "metadata": {
        "colab": {
          "base_uri": "https://localhost:8080/"
        },
        "id": "uBQHZLtJ2HYz",
        "outputId": "b9a1b662-7048-4456-dd8a-27e8ef063dd6"
      },
      "outputs": [
        {
          "name": "stdout",
          "output_type": "stream",
          "text": [
            "Model: \"sequential\"\n",
            "_________________________________________________________________\n",
            " Layer (type)                Output Shape              Param #   \n",
            "=================================================================\n",
            " dense (Dense)               (None, 512)               401920    \n",
            "                                                                 \n",
            " dense_1 (Dense)             (None, 10)                5130      \n",
            "                                                                 \n",
            "=================================================================\n",
            "Total params: 407,050\n",
            "Trainable params: 407,050\n",
            "Non-trainable params: 0\n",
            "_________________________________________________________________\n"
          ]
        }
      ],
      "source": [
        "model = Sequential()\n",
        "model.add(layers.Dense(512, activation='relu', input_shape=(28 * 28,)))\n",
        "model.add(layers.Dense(10, activation='softmax'))\n",
        "\n",
        "model.compile(optimizer='rmsprop', loss='sparse_categorical_crossentropy', metrics=['accuracy'])\n",
        "\n",
        "model.summary()"
      ]
    },
    {
      "cell_type": "code",
      "execution_count": null,
      "metadata": {
        "colab": {
          "base_uri": "https://localhost:8080/"
        },
        "id": "YiNOiNx93Fvy",
        "outputId": "f310e2fb-6183-4327-98c6-da8f44550d0c"
      },
      "outputs": [
        {
          "name": "stdout",
          "output_type": "stream",
          "text": [
            "Epoch 1/5\n",
            "391/391 [==============================] - 5s 12ms/step - loss: 0.2819 - accuracy: 0.9189 - val_loss: 0.1547 - val_accuracy: 0.9540\n",
            "Epoch 2/5\n",
            "391/391 [==============================] - 4s 11ms/step - loss: 0.1146 - accuracy: 0.9669 - val_loss: 0.0971 - val_accuracy: 0.9724\n",
            "Epoch 3/5\n",
            "391/391 [==============================] - 4s 11ms/step - loss: 0.0748 - accuracy: 0.9775 - val_loss: 0.0997 - val_accuracy: 0.9713\n",
            "Epoch 4/5\n",
            "391/391 [==============================] - 4s 11ms/step - loss: 0.0537 - accuracy: 0.9839 - val_loss: 0.0876 - val_accuracy: 0.9733\n",
            "Epoch 5/5\n",
            "391/391 [==============================] - 5s 12ms/step - loss: 0.0400 - accuracy: 0.9882 - val_loss: 0.0859 - val_accuracy: 0.9741\n"
          ]
        }
      ],
      "source": [
        "# perform ANN training using the validation dataset; save the learning results in the history variable\n",
        "\n",
        "history = model.fit(train_images, train_labels, epochs=5, batch_size=128, validation_data=(val_images, val_labels))"
      ]
    },
    {
      "cell_type": "markdown",
      "metadata": {
        "id": "rEtf73lY3JxZ"
      },
      "source": [
        "---\n",
        "\n",
        "3.\tИзучите атрибут history объекта, сохраненного в п. 2. Выведите тип, структуру (ключи) и значения."
      ]
    },
    {
      "cell_type": "code",
      "execution_count": null,
      "metadata": {
        "colab": {
          "base_uri": "https://localhost:8080/"
        },
        "id": "TSCIgWof3LTt",
        "outputId": "d2175246-1c43-4e28-ff8a-b1f5b4538640"
      },
      "outputs": [
        {
          "data": {
            "text/plain": [
              "<keras.callbacks.History at 0x7fd30faa0190>"
            ]
          },
          "execution_count": 10,
          "metadata": {},
          "output_type": "execute_result"
        }
      ],
      "source": [
        "history"
      ]
    },
    {
      "cell_type": "code",
      "execution_count": null,
      "metadata": {
        "colab": {
          "base_uri": "https://localhost:8080/"
        },
        "id": "vT4_nLMT3NDL",
        "outputId": "92db7eb3-409c-47aa-bc4c-eeed628445f9"
      },
      "outputs": [
        {
          "name": "stdout",
          "output_type": "stream",
          "text": [
            "dict_keys(['loss', 'accuracy', 'val_loss', 'val_accuracy'])\n"
          ]
        }
      ],
      "source": [
        "print(history.history.keys())"
      ]
    },
    {
      "cell_type": "markdown",
      "metadata": {
        "id": "phJs7f883O4R"
      },
      "source": [
        "4.\tВыведите на одном графике значения метрики качества модели на обучающих данных и проверочном наборе в зависимости от эпохи обучения:<br><img src=\"lab_02_img_01.jpg\"><br>"
      ]
    },
    {
      "cell_type": "code",
      "execution_count": null,
      "metadata": {
        "colab": {
          "base_uri": "https://localhost:8080/",
          "height": 295
        },
        "id": "34I1Xl1e3VGK",
        "outputId": "ae8584ac-7634-4dcd-b187-1b9dd9cc8038"
      },
      "outputs": [
        {
          "data": {
            "image/png": "[encoded data removed]",
            "text/plain": [
              "<Figure size 432x288 with 1 Axes>"
            ]
          },
          "metadata": {
            "needs_background": "light"
          },
          "output_type": "display_data"
        }
      ],
      "source": [
        "# plot the learning results\n",
        "\n",
        "plt.plot(history.history['accuracy'])\n",
        "plt.plot(history.history['val_accuracy'])\n",
        "plt.title('Model accuracy')\n",
        "plt.ylabel('Accuracy')\n",
        "plt.xlabel('Epoch')\n",
        "plt.legend(['Train', 'Test'], loc='upper left')\n",
        "plt.show()"
      ]
    },
    {
      "cell_type": "code",
      "execution_count": null,
      "metadata": {
        "colab": {
          "base_uri": "https://localhost:8080/",
          "height": 295
        },
        "id": "uujNMEb-3b_2",
        "outputId": "0d763160-8313-4d4a-ce90-9732ddb447dc"
      },
      "outputs": [
        {
          "data": {
            "image/png": "[encoded data removed]",
            "text/plain": [
              "<Figure size 432x288 with 1 Axes>"
            ]
          },
          "metadata": {
            "needs_background": "light"
          },
          "output_type": "display_data"
        }
      ],
      "source": [
        "# plot the values of the model quality metric on the training data and the test set depending on the training epoch on the same graph\n",
        "\n",
        "plt.plot(history.history['loss'])\n",
        "plt.plot(history.history['val_loss'])\n",
        "plt.title('Model loss')\n",
        "plt.ylabel('Loss')\n",
        "plt.xlabel('Epoch')\n",
        "plt.legend(['Train', 'Test'], loc='upper left')\n",
        "plt.show()"
      ]
    },
    {
      "cell_type": "markdown",
      "metadata": {
        "id": "ylKS_ixU4Pgf"
      },
      "source": [
        "---\n",
        "\n",
        "5.\tПроанализируйте историю обучения по эпохам. Сделайте выводы."
      ]
    },
    {
      "cell_type": "code",
      "execution_count": null,
      "metadata": {
        "id": "HHxj2xpp4QwG"
      },
      "outputs": [],
      "source": [
        "# code"
      ]
    },
    {
      "cell_type": "markdown",
      "metadata": {
        "id": "xKDxxyS-3pIU"
      },
      "source": [
        "---\n",
        "\n",
        "6.\tПостарайтесь улучшить модель путем изменения гиперпараметров:\n",
        "    * количество нейронов в полносвязном слое: 400, 600, 800, 1200;\n",
        "    * добавьте в ИНС один или несколько скрытых слоев с количеством нейронов 200, 300, 400, 600, 800;\n",
        "    * используйте разное количество эпох (ориентируясь на результаты процесса обучения);\n",
        "    * используйте разные размеры мини-выборки (batch_size): 10, 50, 100, 200, 500."
      ]
    },
    {
      "cell_type": "code",
      "execution_count": null,
      "metadata": {
        "id": "n27aXfxI3qrB"
      },
      "outputs": [],
      "source": [
        "def ann_model(neurons):\n",
        "    model = Sequential()\n",
        "    model.add(layers.Dense(neurons, input_shape=(28 * 28,)))\n",
        "    model.add(layers.Dense(200, activation='relu'))\n",
        "    model.add(layers.Dense(800, activation='relu'))\n",
        "    model.add(layers.Dense(10, activation='softmax'))\n",
        "    model.compile(optimizer='rmsprop', loss='sparse_categorical_crossentropy', metrics=['accuracy'])\n",
        "    model.summary()"
      ]
    },
    {
      "cell_type": "code",
      "execution_count": null,
      "metadata": {
        "id": "s4zvufkV3sYY"
      },
      "outputs": [],
      "source": [
        "def fit_model(epochs, batch_sizes):\n",
        "    for epoch in epochs:\n",
        "        for batch_size in batch_sizes:\n",
        "            history = model.fit(train_images, train_labels, epochs=epoch, batch_size=batch_size,\n",
        "                                validation_data=(val_images, val_labels))\n",
        "\n",
        "            # plot the learning results\n",
        "            plt.plot(history.history['accuracy'])\n",
        "            plt.plot(history.history['val_accuracy'])\n",
        "            plt.title('Model accuracy')\n",
        "            plt.ylabel('Accuracy')\n",
        "            plt.xlabel('Epoch')\n",
        "            plt.legend(['Train', 'Validation'], loc='upper left')\n",
        "            plt.show()\n",
        "\n",
        "            plt.plot(history.history['loss'])\n",
        "            plt.plot(history.history['val_loss'])\n",
        "            plt.title('Model loss')\n",
        "            plt.ylabel('Loss')\n",
        "            plt.xlabel('Epoch')\n",
        "            plt.legend(['Train', 'Validation'], loc='upper left')\n",
        "            plt.show()\n",
        "    return"
      ]
    },
    {
      "cell_type": "code",
      "execution_count": null,
      "metadata": {
        "colab": {
          "base_uri": "https://localhost:8080/",
          "height": 1000
        },
        "id": "vHRHmvbA3vDJ",
        "outputId": "9b46c183-3934-4481-adba-d28eb4086abc"
      },
      "outputs": [
        {
          "name": "stdout",
          "output_type": "stream",
          "text": [
            "Epoch 1/50\n",
            "5000/5000 [==============================] - 35s 7ms/step - loss: 0.0683 - accuracy: 0.9806 - val_loss: 0.1170 - val_accuracy: 0.9751\n",
            "Epoch 2/50\n",
            "5000/5000 [==============================] - 35s 7ms/step - loss: 0.0641 - accuracy: 0.9842 - val_loss: 0.1210 - val_accuracy: 0.9780\n",
            "Epoch 3/50\n",
            "5000/5000 [==============================] - 34s 7ms/step - loss: 0.0572 - accuracy: 0.9875 - val_loss: 0.1350 - val_accuracy: 0.9774\n",
            "Epoch 4/50\n",
            "5000/5000 [==============================] - 35s 7ms/step - loss: 0.0484 - accuracy: 0.9897 - val_loss: 0.1375 - val_accuracy: 0.9781\n",
            "Epoch 5/50\n",
            "5000/5000 [==============================] - 35s 7ms/step - loss: 0.0438 - accuracy: 0.9908 - val_loss: 0.1361 - val_accuracy: 0.9776\n",
            "Epoch 6/50\n",
            "5000/5000 [==============================] - 35s 7ms/step - loss: 0.0383 - accuracy: 0.9925 - val_loss: 0.1635 - val_accuracy: 0.9774\n",
            "Epoch 7/50\n",
            "5000/5000 [==============================] - 36s 7ms/step - loss: 0.0325 - accuracy: 0.9928 - val_loss: 0.2168 - val_accuracy: 0.9701\n",
            "Epoch 8/50\n",
            "5000/5000 [==============================] - 35s 7ms/step - loss: 0.0289 - accuracy: 0.9942 - val_loss: 0.1752 - val_accuracy: 0.9773\n",
            "Epoch 9/50\n",
            "5000/5000 [==============================] - 35s 7ms/step - loss: 0.0285 - accuracy: 0.9945 - val_loss: 0.2155 - val_accuracy: 0.9756\n",
            "Epoch 10/50\n",
            "5000/5000 [==============================] - 35s 7ms/step - loss: 0.0239 - accuracy: 0.9951 - val_loss: 0.1874 - val_accuracy: 0.9768\n",
            "Epoch 11/50\n",
            "5000/5000 [==============================] - 35s 7ms/step - loss: 0.0193 - accuracy: 0.9958 - val_loss: 0.2065 - val_accuracy: 0.9764\n",
            "Epoch 12/50\n",
            "5000/5000 [==============================] - 35s 7ms/step - loss: 0.0167 - accuracy: 0.9964 - val_loss: 0.2064 - val_accuracy: 0.9771\n",
            "Epoch 13/50\n",
            "5000/5000 [==============================] - 37s 7ms/step - loss: 0.0137 - accuracy: 0.9970 - val_loss: 0.2008 - val_accuracy: 0.9781\n",
            "Epoch 14/50\n",
            "5000/5000 [==============================] - 36s 7ms/step - loss: 0.0133 - accuracy: 0.9972 - val_loss: 0.2407 - val_accuracy: 0.9765\n",
            "Epoch 15/50\n",
            "5000/5000 [==============================] - 35s 7ms/step - loss: 0.0102 - accuracy: 0.9977 - val_loss: 0.2099 - val_accuracy: 0.9793\n",
            "Epoch 16/50\n",
            "5000/5000 [==============================] - 36s 7ms/step - loss: 0.0102 - accuracy: 0.9977 - val_loss: 0.2363 - val_accuracy: 0.9796\n",
            "Epoch 17/50\n",
            "5000/5000 [==============================] - 35s 7ms/step - loss: 0.0086 - accuracy: 0.9982 - val_loss: 0.2313 - val_accuracy: 0.9802\n",
            "Epoch 18/50\n",
            "5000/5000 [==============================] - 35s 7ms/step - loss: 0.0082 - accuracy: 0.9984 - val_loss: 0.2473 - val_accuracy: 0.9765\n",
            "Epoch 19/50\n",
            "5000/5000 [==============================] - 36s 7ms/step - loss: 0.0069 - accuracy: 0.9986 - val_loss: 0.2654 - val_accuracy: 0.9781\n",
            "Epoch 20/50\n",
            "5000/5000 [==============================] - 35s 7ms/step - loss: 0.0047 - accuracy: 0.9990 - val_loss: 0.2494 - val_accuracy: 0.9771\n",
            "Epoch 21/50\n",
            "5000/5000 [==============================] - 36s 7ms/step - loss: 0.0052 - accuracy: 0.9990 - val_loss: 0.2547 - val_accuracy: 0.9801\n",
            "Epoch 22/50\n",
            "5000/5000 [==============================] - 35s 7ms/step - loss: 0.0035 - accuracy: 0.9990 - val_loss: 0.2640 - val_accuracy: 0.9790\n",
            "Epoch 23/50\n",
            "5000/5000 [==============================] - 36s 7ms/step - loss: 0.0035 - accuracy: 0.9993 - val_loss: 0.2462 - val_accuracy: 0.9801\n",
            "Epoch 24/50\n",
            "5000/5000 [==============================] - 36s 7ms/step - loss: 0.0026 - accuracy: 0.9993 - val_loss: 0.2720 - val_accuracy: 0.9788\n",
            "Epoch 25/50\n",
            "5000/5000 [==============================] - 36s 7ms/step - loss: 0.0018 - accuracy: 0.9995 - val_loss: 0.2510 - val_accuracy: 0.9798\n",
            "Epoch 26/50\n",
            "5000/5000 [==============================] - 36s 7ms/step - loss: 0.0017 - accuracy: 0.9996 - val_loss: 0.2982 - val_accuracy: 0.9792\n",
            "Epoch 27/50\n",
            "5000/5000 [==============================] - 35s 7ms/step - loss: 0.0019 - accuracy: 0.9995 - val_loss: 0.2567 - val_accuracy: 0.9806\n",
            "Epoch 28/50\n",
            "5000/5000 [==============================] - 34s 7ms/step - loss: 0.0012 - accuracy: 0.9997 - val_loss: 0.2679 - val_accuracy: 0.9794\n",
            "Epoch 29/50\n",
            "5000/5000 [==============================] - 35s 7ms/step - loss: 0.0015 - accuracy: 0.9996 - val_loss: 0.2643 - val_accuracy: 0.9798\n",
            "Epoch 30/50\n",
            "5000/5000 [==============================] - 35s 7ms/step - loss: 7.2465e-04 - accuracy: 0.9998 - val_loss: 0.2831 - val_accuracy: 0.9800\n",
            "Epoch 31/50\n",
            "5000/5000 [==============================] - 36s 7ms/step - loss: 5.3804e-04 - accuracy: 0.9999 - val_loss: 0.3186 - val_accuracy: 0.9783\n",
            "Epoch 32/50\n",
            "5000/5000 [==============================] - 35s 7ms/step - loss: 3.5122e-04 - accuracy: 0.9998 - val_loss: 0.2869 - val_accuracy: 0.9794\n",
            "Epoch 33/50\n",
            "5000/5000 [==============================] - 35s 7ms/step - loss: 4.8987e-04 - accuracy: 0.9999 - val_loss: 0.2828 - val_accuracy: 0.9806\n",
            "Epoch 34/50\n",
            "5000/5000 [==============================] - 35s 7ms/step - loss: 3.1124e-04 - accuracy: 0.9999 - val_loss: 0.3030 - val_accuracy: 0.9795\n",
            "Epoch 35/50\n",
            "5000/5000 [==============================] - 35s 7ms/step - loss: 2.5330e-04 - accuracy: 1.0000 - val_loss: 0.2959 - val_accuracy: 0.9802\n",
            "Epoch 36/50\n",
            "5000/5000 [==============================] - 35s 7ms/step - loss: 4.5971e-05 - accuracy: 1.0000 - val_loss: 0.2969 - val_accuracy: 0.9795\n",
            "Epoch 37/50\n",
            "5000/5000 [==============================] - 35s 7ms/step - loss: 5.7803e-06 - accuracy: 1.0000 - val_loss: 0.3029 - val_accuracy: 0.9803\n",
            "Epoch 38/50\n",
            "5000/5000 [==============================] - 35s 7ms/step - loss: 3.6908e-05 - accuracy: 1.0000 - val_loss: 0.3077 - val_accuracy: 0.9793\n",
            "Epoch 39/50\n",
            "5000/5000 [==============================] - 36s 7ms/step - loss: 1.5948e-06 - accuracy: 1.0000 - val_loss: 0.2945 - val_accuracy: 0.9807\n",
            "Epoch 40/50\n",
            "5000/5000 [==============================] - 35s 7ms/step - loss: 2.6686e-07 - accuracy: 1.0000 - val_loss: 0.2927 - val_accuracy: 0.9805\n",
            "Epoch 41/50\n",
            "5000/5000 [==============================] - 34s 7ms/step - loss: 5.5575e-08 - accuracy: 1.0000 - val_loss: 0.3187 - val_accuracy: 0.9797\n",
            "Epoch 42/50\n",
            "5000/5000 [==============================] - 35s 7ms/step - loss: 7.5987e-08 - accuracy: 1.0000 - val_loss: 0.3067 - val_accuracy: 0.9801\n",
            "Epoch 43/50\n",
            "5000/5000 [==============================] - 36s 7ms/step - loss: 3.3388e-06 - accuracy: 1.0000 - val_loss: 0.3155 - val_accuracy: 0.9800\n",
            "Epoch 44/50\n",
            "5000/5000 [==============================] - 35s 7ms/step - loss: 1.4692e-05 - accuracy: 1.0000 - val_loss: 0.3110 - val_accuracy: 0.9805\n",
            "Epoch 45/50\n",
            "5000/5000 [==============================] - 35s 7ms/step - loss: 1.6213e-06 - accuracy: 1.0000 - val_loss: 0.3267 - val_accuracy: 0.9792\n",
            "Epoch 46/50\n",
            "5000/5000 [==============================] - 34s 7ms/step - loss: 2.9605e-07 - accuracy: 1.0000 - val_loss: 0.3140 - val_accuracy: 0.9800\n",
            "Epoch 47/50\n",
            "5000/5000 [==============================] - 34s 7ms/step - loss: 3.9315e-06 - accuracy: 1.0000 - val_loss: 0.3296 - val_accuracy: 0.9787\n",
            "Epoch 48/50\n",
            "5000/5000 [==============================] - 35s 7ms/step - loss: 1.7749e-04 - accuracy: 1.0000 - val_loss: 0.3244 - val_accuracy: 0.9788\n",
            "Epoch 49/50\n",
            "5000/5000 [==============================] - 35s 7ms/step - loss: 4.0081e-06 - accuracy: 1.0000 - val_loss: 0.3055 - val_accuracy: 0.9809\n",
            "Epoch 50/50\n",
            "5000/5000 [==============================] - 34s 7ms/step - loss: 6.7132e-08 - accuracy: 1.0000 - val_loss: 0.3143 - val_accuracy: 0.9801\n"
          ]
        },
        {
          "data": {
            "image/png": "[encoded data removed]",
            "text/plain": [
              "<Figure size 432x288 with 1 Axes>"
            ]
          },
          "metadata": {
            "needs_background": "light"
          },
          "output_type": "display_data"
        },
        {
          "data": {
            "image/png": "[encoded data removed]",
            "text/plain": [
              "<Figure size 432x288 with 1 Axes>"
            ]
          },
          "metadata": {
            "needs_background": "light"
          },
          "output_type": "display_data"
        },
        {
          "name": "stdout",
          "output_type": "stream",
          "text": [
            "Epoch 1/50\n",
            "1000/1000 [==============================] - 10s 10ms/step - loss: 1.9526e-09 - accuracy: 1.0000 - val_loss: 0.3127 - val_accuracy: 0.9804\n",
            "Epoch 2/50\n",
            "1000/1000 [==============================] - 10s 10ms/step - loss: 4.4823e-10 - accuracy: 1.0000 - val_loss: 0.3111 - val_accuracy: 0.9807\n",
            "Epoch 3/50\n",
            "1000/1000 [==============================] - 9s 9ms/step - loss: 3.8385e-10 - accuracy: 1.0000 - val_loss: 0.3126 - val_accuracy: 0.9805\n",
            "Epoch 4/50\n",
            "1000/1000 [==============================] - 9s 9ms/step - loss: 3.5524e-10 - accuracy: 1.0000 - val_loss: 0.3145 - val_accuracy: 0.9807\n",
            "Epoch 5/50\n",
            "1000/1000 [==============================] - 9s 9ms/step - loss: 3.7432e-10 - accuracy: 1.0000 - val_loss: 0.3155 - val_accuracy: 0.9807\n",
            "Epoch 6/50\n",
            "1000/1000 [==============================] - 9s 9ms/step - loss: 4.1485e-10 - accuracy: 1.0000 - val_loss: 0.3167 - val_accuracy: 0.9807\n",
            "Epoch 7/50\n",
            "1000/1000 [==============================] - 9s 9ms/step - loss: 4.3869e-10 - accuracy: 1.0000 - val_loss: 0.3176 - val_accuracy: 0.9803\n",
            "Epoch 8/50\n",
            "1000/1000 [==============================] - 9s 9ms/step - loss: 4.6968e-10 - accuracy: 1.0000 - val_loss: 0.3197 - val_accuracy: 0.9803\n",
            "Epoch 9/50\n",
            "1000/1000 [==============================] - 9s 9ms/step - loss: 5.5552e-10 - accuracy: 1.0000 - val_loss: 0.3208 - val_accuracy: 0.9807\n",
            "Epoch 10/50\n",
            "1000/1000 [==============================] - 9s 9ms/step - loss: 5.4121e-10 - accuracy: 1.0000 - val_loss: 0.3211 - val_accuracy: 0.9806\n",
            "Epoch 11/50\n",
            "1000/1000 [==============================] - 9s 9ms/step - loss: 5.7459e-10 - accuracy: 1.0000 - val_loss: 0.3226 - val_accuracy: 0.9803\n",
            "Epoch 12/50\n",
            "1000/1000 [==============================] - 9s 9ms/step - loss: 6.6996e-10 - accuracy: 1.0000 - val_loss: 0.3243 - val_accuracy: 0.9806\n",
            "Epoch 13/50\n",
            "1000/1000 [==============================] - 9s 9ms/step - loss: 7.0572e-10 - accuracy: 1.0000 - val_loss: 0.3240 - val_accuracy: 0.9801\n",
            "Epoch 14/50\n",
            "1000/1000 [==============================] - 9s 9ms/step - loss: 7.3910e-10 - accuracy: 1.0000 - val_loss: 0.3257 - val_accuracy: 0.9801\n",
            "Epoch 15/50\n",
            "1000/1000 [==============================] - 9s 9ms/step - loss: 7.9632e-10 - accuracy: 1.0000 - val_loss: 0.3268 - val_accuracy: 0.9802\n",
            "Epoch 16/50\n",
            "1000/1000 [==============================] - 9s 9ms/step - loss: 8.8692e-10 - accuracy: 1.0000 - val_loss: 0.3273 - val_accuracy: 0.9802\n",
            "Epoch 17/50\n",
            "1000/1000 [==============================] - 10s 10ms/step - loss: 9.4175e-10 - accuracy: 1.0000 - val_loss: 0.3287 - val_accuracy: 0.9799\n",
            "Epoch 18/50\n",
            "1000/1000 [==============================] - 9s 9ms/step - loss: 1.1444e-09 - accuracy: 1.0000 - val_loss: 0.3312 - val_accuracy: 0.9799\n",
            "Epoch 19/50\n",
            "1000/1000 [==============================] - 9s 9ms/step - loss: 1.1706e-09 - accuracy: 1.0000 - val_loss: 0.3322 - val_accuracy: 0.9796\n",
            "Epoch 20/50\n",
            "1000/1000 [==============================] - 9s 9ms/step - loss: 1.2279e-09 - accuracy: 1.0000 - val_loss: 0.3318 - val_accuracy: 0.9797\n",
            "Epoch 21/50\n",
            "1000/1000 [==============================] - 9s 9ms/step - loss: 1.2851e-09 - accuracy: 1.0000 - val_loss: 0.3316 - val_accuracy: 0.9800\n",
            "Epoch 22/50\n",
            "1000/1000 [==============================] - 9s 9ms/step - loss: 1.4353e-09 - accuracy: 1.0000 - val_loss: 0.3327 - val_accuracy: 0.9796\n",
            "Epoch 23/50\n",
            "1000/1000 [==============================] - 9s 9ms/step - loss: 1.6570e-09 - accuracy: 1.0000 - val_loss: 0.3354 - val_accuracy: 0.9793\n",
            "Epoch 24/50\n",
            "1000/1000 [==============================] - 9s 9ms/step - loss: 1.5020e-09 - accuracy: 1.0000 - val_loss: 0.3355 - val_accuracy: 0.9795\n",
            "Epoch 25/50\n",
            "1000/1000 [==============================] - 9s 9ms/step - loss: 1.6975e-09 - accuracy: 1.0000 - val_loss: 0.3349 - val_accuracy: 0.9793\n",
            "Epoch 26/50\n",
            "1000/1000 [==============================] - 9s 9ms/step - loss: 1.6522e-09 - accuracy: 1.0000 - val_loss: 0.3362 - val_accuracy: 0.9793\n",
            "Epoch 27/50\n",
            "1000/1000 [==============================] - 10s 10ms/step - loss: 1.8716e-09 - accuracy: 1.0000 - val_loss: 0.3376 - val_accuracy: 0.9794\n",
            "Epoch 28/50\n",
            "1000/1000 [==============================] - 9s 9ms/step - loss: 1.7953e-09 - accuracy: 1.0000 - val_loss: 0.3375 - val_accuracy: 0.9792\n",
            "Epoch 29/50\n",
            "1000/1000 [==============================] - 10s 10ms/step - loss: 2.0099e-09 - accuracy: 1.0000 - val_loss: 0.3368 - val_accuracy: 0.9793\n",
            "Epoch 30/50\n",
            "1000/1000 [==============================] - 9s 9ms/step - loss: 2.2149e-09 - accuracy: 1.0000 - val_loss: 0.3384 - val_accuracy: 0.9787\n",
            "Epoch 31/50\n",
            "1000/1000 [==============================] - 9s 9ms/step - loss: 2.1505e-09 - accuracy: 1.0000 - val_loss: 0.3385 - val_accuracy: 0.9792\n",
            "Epoch 32/50\n",
            "1000/1000 [==============================] - 9s 9ms/step - loss: 2.2793e-09 - accuracy: 1.0000 - val_loss: 0.3386 - val_accuracy: 0.9791\n",
            "Epoch 33/50\n",
            "1000/1000 [==============================] - 10s 10ms/step - loss: 2.8181e-09 - accuracy: 1.0000 - val_loss: 0.3384 - val_accuracy: 0.9792\n",
            "Epoch 34/50\n",
            "1000/1000 [==============================] - 10s 10ms/step - loss: 2.1195e-09 - accuracy: 1.0000 - val_loss: 0.3403 - val_accuracy: 0.9787\n",
            "Epoch 35/50\n",
            "1000/1000 [==============================] - 10s 10ms/step - loss: 2.4438e-09 - accuracy: 1.0000 - val_loss: 0.3400 - val_accuracy: 0.9789\n",
            "Epoch 36/50\n",
            "1000/1000 [==============================] - 10s 10ms/step - loss: 2.1791e-09 - accuracy: 1.0000 - val_loss: 0.3419 - val_accuracy: 0.9787\n",
            "Epoch 37/50\n",
            "1000/1000 [==============================] - 9s 9ms/step - loss: 2.6178e-09 - accuracy: 1.0000 - val_loss: 0.3409 - val_accuracy: 0.9791\n",
            "Epoch 38/50\n",
            "1000/1000 [==============================] - 10s 10ms/step - loss: 2.7037e-09 - accuracy: 1.0000 - val_loss: 0.3408 - val_accuracy: 0.9790\n",
            "Epoch 39/50\n",
            "1000/1000 [==============================] - 10s 10ms/step - loss: 2.7156e-09 - accuracy: 1.0000 - val_loss: 0.3431 - val_accuracy: 0.9790\n",
            "Epoch 40/50\n",
            "1000/1000 [==============================] - 10s 10ms/step - loss: 2.7537e-09 - accuracy: 1.0000 - val_loss: 0.3452 - val_accuracy: 0.9788\n",
            "Epoch 41/50\n",
            "1000/1000 [==============================] - 9s 9ms/step - loss: 4.0269e-09 - accuracy: 1.0000 - val_loss: 0.3404 - val_accuracy: 0.9786\n",
            "Epoch 42/50\n",
            "1000/1000 [==============================] - 9s 9ms/step - loss: 1.9179e-04 - accuracy: 0.9999 - val_loss: 0.3259 - val_accuracy: 0.9793\n",
            "Epoch 43/50\n",
            "1000/1000 [==============================] - 9s 9ms/step - loss: 1.8336e-04 - accuracy: 1.0000 - val_loss: 0.3154 - val_accuracy: 0.9797\n",
            "Epoch 44/50\n",
            "1000/1000 [==============================] - 9s 9ms/step - loss: 2.0055e-04 - accuracy: 0.9999 - val_loss: 0.3236 - val_accuracy: 0.9796\n",
            "Epoch 45/50\n",
            "1000/1000 [==============================] - 10s 10ms/step - loss: 5.3776e-06 - accuracy: 1.0000 - val_loss: 0.3096 - val_accuracy: 0.9798\n",
            "Epoch 46/50\n",
            "1000/1000 [==============================] - 9s 9ms/step - loss: 1.8650e-05 - accuracy: 1.0000 - val_loss: 0.3154 - val_accuracy: 0.9807\n",
            "Epoch 47/50\n",
            "1000/1000 [==============================] - 9s 9ms/step - loss: 1.2255e-09 - accuracy: 1.0000 - val_loss: 0.3158 - val_accuracy: 0.9802\n",
            "Epoch 48/50\n",
            "1000/1000 [==============================] - 9s 9ms/step - loss: 5.2452e-10 - accuracy: 1.0000 - val_loss: 0.3150 - val_accuracy: 0.9804\n",
            "Epoch 49/50\n",
            "1000/1000 [==============================] - 10s 10ms/step - loss: 4.8161e-10 - accuracy: 1.0000 - val_loss: 0.3169 - val_accuracy: 0.9802\n",
            "Epoch 50/50\n",
            "1000/1000 [==============================] - 9s 9ms/step - loss: 4.4107e-10 - accuracy: 1.0000 - val_loss: 0.3182 - val_accuracy: 0.9800\n"
          ]
        },
        {
          "data": {
            "image/png": "[encoded data removed]",
            "text/plain": [
              "<Figure size 432x288 with 1 Axes>"
            ]
          },
          "metadata": {
            "needs_background": "light"
          },
          "output_type": "display_data"
        },
        {
          "data": {
            "image/png": "[encoded data removed]",
            "text/plain": [
              "<Figure size 432x288 with 1 Axes>"
            ]
          },
          "metadata": {
            "needs_background": "light"
          },
          "output_type": "display_data"
        },
        {
          "name": "stdout",
          "output_type": "stream",
          "text": [
            "Epoch 1/50\n",
            "500/500 [==============================] - 5s 11ms/step - loss: 3.8624e-10 - accuracy: 1.0000 - val_loss: 0.3188 - val_accuracy: 0.9801\n",
            "Epoch 2/50\n",
            "500/500 [==============================] - 6s 11ms/step - loss: 4.2200e-10 - accuracy: 1.0000 - val_loss: 0.3193 - val_accuracy: 0.9801\n",
            "Epoch 3/50\n",
            "500/500 [==============================] - 6s 11ms/step - loss: 4.1246e-10 - accuracy: 1.0000 - val_loss: 0.3201 - val_accuracy: 0.9801\n",
            "Epoch 4/50\n",
            "500/500 [==============================] - 5s 11ms/step - loss: 4.5538e-10 - accuracy: 1.0000 - val_loss: 0.3210 - val_accuracy: 0.9801\n",
            "Epoch 5/50\n",
            "500/500 [==============================] - 6s 11ms/step - loss: 4.7684e-10 - accuracy: 1.0000 - val_loss: 0.3210 - val_accuracy: 0.9801\n",
            "Epoch 6/50\n",
            "500/500 [==============================] - 6s 11ms/step - loss: 5.1737e-10 - accuracy: 1.0000 - val_loss: 0.3222 - val_accuracy: 0.9803\n",
            "Epoch 7/50\n",
            "500/500 [==============================] - 6s 11ms/step - loss: 5.2214e-10 - accuracy: 1.0000 - val_loss: 0.3217 - val_accuracy: 0.9800\n",
            "Epoch 8/50\n",
            "500/500 [==============================] - 5s 11ms/step - loss: 5.6028e-10 - accuracy: 1.0000 - val_loss: 0.3224 - val_accuracy: 0.9799\n",
            "Epoch 9/50\n",
            "500/500 [==============================] - 5s 11ms/step - loss: 6.1750e-10 - accuracy: 1.0000 - val_loss: 0.3231 - val_accuracy: 0.9802\n",
            "Epoch 10/50\n",
            "500/500 [==============================] - 6s 11ms/step - loss: 6.2704e-10 - accuracy: 1.0000 - val_loss: 0.3241 - val_accuracy: 0.9798\n",
            "Epoch 11/50\n",
            "500/500 [==============================] - 6s 11ms/step - loss: 6.6042e-10 - accuracy: 1.0000 - val_loss: 0.3246 - val_accuracy: 0.9799\n",
            "Epoch 12/50\n",
            "500/500 [==============================] - 5s 11ms/step - loss: 7.1764e-10 - accuracy: 1.0000 - val_loss: 0.3251 - val_accuracy: 0.9799\n",
            "Epoch 13/50\n",
            "500/500 [==============================] - 6s 11ms/step - loss: 7.4863e-10 - accuracy: 1.0000 - val_loss: 0.3252 - val_accuracy: 0.9799\n",
            "Epoch 14/50\n",
            "500/500 [==============================] - 6s 11ms/step - loss: 7.9155e-10 - accuracy: 1.0000 - val_loss: 0.3254 - val_accuracy: 0.9798\n",
            "Epoch 15/50\n",
            "500/500 [==============================] - 6s 11ms/step - loss: 8.4400e-10 - accuracy: 1.0000 - val_loss: 0.3263 - val_accuracy: 0.9797\n",
            "Epoch 16/50\n",
            "500/500 [==============================] - 6s 11ms/step - loss: 8.7023e-10 - accuracy: 1.0000 - val_loss: 0.3263 - val_accuracy: 0.9797\n",
            "Epoch 17/50\n",
            "500/500 [==============================] - 6s 11ms/step - loss: 9.0599e-10 - accuracy: 1.0000 - val_loss: 0.3264 - val_accuracy: 0.9797\n",
            "Epoch 18/50\n",
            "500/500 [==============================] - 6s 11ms/step - loss: 9.8944e-10 - accuracy: 1.0000 - val_loss: 0.3270 - val_accuracy: 0.9797\n",
            "Epoch 19/50\n",
            "500/500 [==============================] - 5s 11ms/step - loss: 1.0085e-09 - accuracy: 1.0000 - val_loss: 0.3270 - val_accuracy: 0.9797\n",
            "Epoch 20/50\n",
            "500/500 [==============================] - 7s 13ms/step - loss: 1.0657e-09 - accuracy: 1.0000 - val_loss: 0.3273 - val_accuracy: 0.9795\n",
            "Epoch 21/50\n",
            "500/500 [==============================] - 5s 11ms/step - loss: 1.0896e-09 - accuracy: 1.0000 - val_loss: 0.3290 - val_accuracy: 0.9795\n",
            "Epoch 22/50\n",
            "500/500 [==============================] - 5s 11ms/step - loss: 1.1611e-09 - accuracy: 1.0000 - val_loss: 0.3292 - val_accuracy: 0.9796\n",
            "Epoch 23/50\n",
            "500/500 [==============================] - 6s 11ms/step - loss: 1.1611e-09 - accuracy: 1.0000 - val_loss: 0.3288 - val_accuracy: 0.9797\n",
            "Epoch 24/50\n",
            "500/500 [==============================] - 5s 11ms/step - loss: 1.2302e-09 - accuracy: 1.0000 - val_loss: 0.3307 - val_accuracy: 0.9796\n",
            "Epoch 25/50\n",
            "500/500 [==============================] - 6s 11ms/step - loss: 1.2207e-09 - accuracy: 1.0000 - val_loss: 0.3301 - val_accuracy: 0.9795\n",
            "Epoch 26/50\n",
            "500/500 [==============================] - 6s 11ms/step - loss: 1.3161e-09 - accuracy: 1.0000 - val_loss: 0.3306 - val_accuracy: 0.9794\n",
            "Epoch 27/50\n",
            "500/500 [==============================] - 6s 11ms/step - loss: 1.3518e-09 - accuracy: 1.0000 - val_loss: 0.3305 - val_accuracy: 0.9795\n",
            "Epoch 28/50\n",
            "500/500 [==============================] - 6s 11ms/step - loss: 1.3661e-09 - accuracy: 1.0000 - val_loss: 0.3312 - val_accuracy: 0.9793\n",
            "Epoch 29/50\n",
            "500/500 [==============================] - 6s 11ms/step - loss: 1.5044e-09 - accuracy: 1.0000 - val_loss: 0.3320 - val_accuracy: 0.9796\n",
            "Epoch 30/50\n",
            "500/500 [==============================] - 6s 11ms/step - loss: 1.5330e-09 - accuracy: 1.0000 - val_loss: 0.3328 - val_accuracy: 0.9795\n",
            "Epoch 31/50\n",
            "500/500 [==============================] - 6s 11ms/step - loss: 1.5783e-09 - accuracy: 1.0000 - val_loss: 0.3318 - val_accuracy: 0.9794\n",
            "Epoch 32/50\n",
            "500/500 [==============================] - 6s 12ms/step - loss: 1.5903e-09 - accuracy: 1.0000 - val_loss: 0.3322 - val_accuracy: 0.9795\n",
            "Epoch 33/50\n",
            "500/500 [==============================] - 6s 12ms/step - loss: 1.6165e-09 - accuracy: 1.0000 - val_loss: 0.3336 - val_accuracy: 0.9792\n",
            "Epoch 34/50\n",
            "500/500 [==============================] - 6s 13ms/step - loss: 1.6856e-09 - accuracy: 1.0000 - val_loss: 0.3350 - val_accuracy: 0.9793\n",
            "Epoch 35/50\n",
            "500/500 [==============================] - 6s 11ms/step - loss: 1.7500e-09 - accuracy: 1.0000 - val_loss: 0.3330 - val_accuracy: 0.9793\n",
            "Epoch 36/50\n",
            "500/500 [==============================] - 6s 12ms/step - loss: 1.7834e-09 - accuracy: 1.0000 - val_loss: 0.3348 - val_accuracy: 0.9791\n",
            "Epoch 37/50\n",
            "500/500 [==============================] - 6s 11ms/step - loss: 1.9765e-09 - accuracy: 1.0000 - val_loss: 0.3362 - val_accuracy: 0.9790\n",
            "Epoch 38/50\n",
            "500/500 [==============================] - 6s 12ms/step - loss: 1.9574e-09 - accuracy: 1.0000 - val_loss: 0.3378 - val_accuracy: 0.9788\n",
            "Epoch 39/50\n",
            "500/500 [==============================] - 6s 12ms/step - loss: 2.0981e-09 - accuracy: 1.0000 - val_loss: 0.3365 - val_accuracy: 0.9791\n",
            "Epoch 40/50\n",
            "500/500 [==============================] - 6s 11ms/step - loss: 2.0790e-09 - accuracy: 1.0000 - val_loss: 0.3364 - val_accuracy: 0.9790\n",
            "Epoch 41/50\n",
            "500/500 [==============================] - 6s 11ms/step - loss: 2.0885e-09 - accuracy: 1.0000 - val_loss: 0.3364 - val_accuracy: 0.9789\n",
            "Epoch 42/50\n",
            "500/500 [==============================] - 5s 11ms/step - loss: 2.1124e-09 - accuracy: 1.0000 - val_loss: 0.3363 - val_accuracy: 0.9788\n",
            "Epoch 43/50\n",
            "500/500 [==============================] - 6s 11ms/step - loss: 2.2578e-09 - accuracy: 1.0000 - val_loss: 0.3373 - val_accuracy: 0.9789\n",
            "Epoch 44/50\n",
            "500/500 [==============================] - 6s 11ms/step - loss: 2.2221e-09 - accuracy: 1.0000 - val_loss: 0.3377 - val_accuracy: 0.9789\n",
            "Epoch 45/50\n",
            "500/500 [==============================] - 6s 11ms/step - loss: 2.3222e-09 - accuracy: 1.0000 - val_loss: 0.3384 - val_accuracy: 0.9788\n",
            "Epoch 46/50\n",
            "500/500 [==============================] - 5s 11ms/step - loss: 2.2745e-09 - accuracy: 1.0000 - val_loss: 0.3381 - val_accuracy: 0.9786\n",
            "Epoch 47/50\n",
            "500/500 [==============================] - 6s 11ms/step - loss: 2.3270e-09 - accuracy: 1.0000 - val_loss: 0.3405 - val_accuracy: 0.9787\n",
            "Epoch 48/50\n",
            "500/500 [==============================] - 6s 11ms/step - loss: 2.3198e-09 - accuracy: 1.0000 - val_loss: 0.3405 - val_accuracy: 0.9784\n",
            "Epoch 49/50\n",
            "500/500 [==============================] - 5s 11ms/step - loss: 2.4891e-09 - accuracy: 1.0000 - val_loss: 0.3384 - val_accuracy: 0.9787\n",
            "Epoch 50/50\n",
            "500/500 [==============================] - 6s 11ms/step - loss: 2.3389e-09 - accuracy: 1.0000 - val_loss: 0.3388 - val_accuracy: 0.9784\n"
          ]
        },
        {
          "data": {
            "image/png": "[encoded data removed]",
            "text/plain": [
              "<Figure size 432x288 with 1 Axes>"
            ]
          },
          "metadata": {
            "needs_background": "light"
          },
          "output_type": "display_data"
        },
        {
          "data": {
            "image/png": "[encoded data removed]",
            "text/plain": [
              "<Figure size 432x288 with 1 Axes>"
            ]
          },
          "metadata": {
            "needs_background": "light"
          },
          "output_type": "display_data"
        },
        {
          "name": "stdout",
          "output_type": "stream",
          "text": [
            "Epoch 1/50\n",
            "250/250 [==============================] - 4s 15ms/step - loss: 2.1791e-09 - accuracy: 1.0000 - val_loss: 0.3400 - val_accuracy: 0.9784\n",
            "Epoch 2/50\n",
            "250/250 [==============================] - 4s 15ms/step - loss: 2.2316e-09 - accuracy: 1.0000 - val_loss: 0.3410 - val_accuracy: 0.9784\n",
            "Epoch 3/50\n",
            "250/250 [==============================] - 4s 15ms/step - loss: 2.3174e-09 - accuracy: 1.0000 - val_loss: 0.3413 - val_accuracy: 0.9784\n",
            "Epoch 4/50\n",
            "250/250 [==============================] - 4s 16ms/step - loss: 2.3866e-09 - accuracy: 1.0000 - val_loss: 0.3413 - val_accuracy: 0.9783\n",
            "Epoch 5/50\n",
            "250/250 [==============================] - 5s 18ms/step - loss: 2.3055e-09 - accuracy: 1.0000 - val_loss: 0.3416 - val_accuracy: 0.9784\n",
            "Epoch 6/50\n",
            "250/250 [==============================] - 4s 15ms/step - loss: 2.4867e-09 - accuracy: 1.0000 - val_loss: 0.3417 - val_accuracy: 0.9782\n",
            "Epoch 7/50\n",
            "250/250 [==============================] - 4s 15ms/step - loss: 2.4581e-09 - accuracy: 1.0000 - val_loss: 0.3419 - val_accuracy: 0.9784\n",
            "Epoch 8/50\n",
            "250/250 [==============================] - 4s 15ms/step - loss: 2.5344e-09 - accuracy: 1.0000 - val_loss: 0.3418 - val_accuracy: 0.9783\n",
            "Epoch 9/50\n",
            "250/250 [==============================] - 4s 15ms/step - loss: 2.5487e-09 - accuracy: 1.0000 - val_loss: 0.3430 - val_accuracy: 0.9784\n",
            "Epoch 10/50\n",
            "250/250 [==============================] - 4s 15ms/step - loss: 2.5988e-09 - accuracy: 1.0000 - val_loss: 0.3419 - val_accuracy: 0.9784\n",
            "Epoch 11/50\n",
            "250/250 [==============================] - 4s 15ms/step - loss: 2.6798e-09 - accuracy: 1.0000 - val_loss: 0.3432 - val_accuracy: 0.9781\n",
            "Epoch 12/50\n",
            "250/250 [==============================] - 4s 15ms/step - loss: 2.6155e-09 - accuracy: 1.0000 - val_loss: 0.3425 - val_accuracy: 0.9784\n",
            "Epoch 13/50\n",
            "250/250 [==============================] - 4s 15ms/step - loss: 2.6107e-09 - accuracy: 1.0000 - val_loss: 0.3439 - val_accuracy: 0.9780\n",
            "Epoch 14/50\n",
            "250/250 [==============================] - 4s 15ms/step - loss: 2.6941e-09 - accuracy: 1.0000 - val_loss: 0.3445 - val_accuracy: 0.9781\n",
            "Epoch 15/50\n",
            "250/250 [==============================] - 4s 15ms/step - loss: 2.6989e-09 - accuracy: 1.0000 - val_loss: 0.3450 - val_accuracy: 0.9780\n",
            "Epoch 16/50\n",
            "250/250 [==============================] - 4s 15ms/step - loss: 2.7680e-09 - accuracy: 1.0000 - val_loss: 0.3444 - val_accuracy: 0.9783\n",
            "Epoch 17/50\n",
            "250/250 [==============================] - 4s 15ms/step - loss: 2.7704e-09 - accuracy: 1.0000 - val_loss: 0.3448 - val_accuracy: 0.9784\n",
            "Epoch 18/50\n",
            "250/250 [==============================] - 4s 15ms/step - loss: 2.8348e-09 - accuracy: 1.0000 - val_loss: 0.3449 - val_accuracy: 0.9783\n",
            "Epoch 19/50\n",
            "250/250 [==============================] - 4s 15ms/step - loss: 2.9302e-09 - accuracy: 1.0000 - val_loss: 0.3455 - val_accuracy: 0.9782\n",
            "Epoch 20/50\n",
            "250/250 [==============================] - 4s 15ms/step - loss: 2.8801e-09 - accuracy: 1.0000 - val_loss: 0.3456 - val_accuracy: 0.9781\n",
            "Epoch 21/50\n",
            "250/250 [==============================] - 4s 15ms/step - loss: 2.8372e-09 - accuracy: 1.0000 - val_loss: 0.3455 - val_accuracy: 0.9782\n",
            "Epoch 22/50\n",
            "250/250 [==============================] - 4s 15ms/step - loss: 2.9111e-09 - accuracy: 1.0000 - val_loss: 0.3464 - val_accuracy: 0.9782\n",
            "Epoch 23/50\n",
            "250/250 [==============================] - 4s 15ms/step - loss: 2.9969e-09 - accuracy: 1.0000 - val_loss: 0.3476 - val_accuracy: 0.9781\n",
            "Epoch 24/50\n",
            "250/250 [==============================] - 5s 19ms/step - loss: 2.9802e-09 - accuracy: 1.0000 - val_loss: 0.3462 - val_accuracy: 0.9780\n",
            "Epoch 25/50\n",
            "250/250 [==============================] - 4s 15ms/step - loss: 3.0661e-09 - accuracy: 1.0000 - val_loss: 0.3459 - val_accuracy: 0.9780\n",
            "Epoch 26/50\n",
            "250/250 [==============================] - 4s 15ms/step - loss: 3.0398e-09 - accuracy: 1.0000 - val_loss: 0.3463 - val_accuracy: 0.9782\n",
            "Epoch 27/50\n",
            "250/250 [==============================] - 4s 15ms/step - loss: 2.9969e-09 - accuracy: 1.0000 - val_loss: 0.3474 - val_accuracy: 0.9780\n",
            "Epoch 28/50\n",
            "250/250 [==============================] - 4s 15ms/step - loss: 3.0470e-09 - accuracy: 1.0000 - val_loss: 0.3476 - val_accuracy: 0.9781\n",
            "Epoch 29/50\n",
            "250/250 [==============================] - 4s 15ms/step - loss: 3.1209e-09 - accuracy: 1.0000 - val_loss: 0.3484 - val_accuracy: 0.9780\n",
            "Epoch 30/50\n",
            "250/250 [==============================] - 4s 15ms/step - loss: 3.1137e-09 - accuracy: 1.0000 - val_loss: 0.3470 - val_accuracy: 0.9780\n",
            "Epoch 31/50\n",
            "250/250 [==============================] - 4s 15ms/step - loss: 3.1161e-09 - accuracy: 1.0000 - val_loss: 0.3487 - val_accuracy: 0.9780\n",
            "Epoch 32/50\n",
            "250/250 [==============================] - 4s 15ms/step - loss: 3.1114e-09 - accuracy: 1.0000 - val_loss: 0.3486 - val_accuracy: 0.9780\n",
            "Epoch 33/50\n",
            "250/250 [==============================] - 4s 15ms/step - loss: 3.1710e-09 - accuracy: 1.0000 - val_loss: 0.3489 - val_accuracy: 0.9780\n",
            "Epoch 34/50\n",
            "250/250 [==============================] - 4s 15ms/step - loss: 3.0732e-09 - accuracy: 1.0000 - val_loss: 0.3486 - val_accuracy: 0.9780\n",
            "Epoch 35/50\n",
            "250/250 [==============================] - 4s 15ms/step - loss: 3.2258e-09 - accuracy: 1.0000 - val_loss: 0.3487 - val_accuracy: 0.9779\n",
            "Epoch 36/50\n",
            "250/250 [==============================] - 4s 15ms/step - loss: 3.2258e-09 - accuracy: 1.0000 - val_loss: 0.3499 - val_accuracy: 0.9780\n",
            "Epoch 37/50\n",
            "250/250 [==============================] - 4s 15ms/step - loss: 3.2282e-09 - accuracy: 1.0000 - val_loss: 0.3489 - val_accuracy: 0.9780\n",
            "Epoch 38/50\n",
            "250/250 [==============================] - 4s 15ms/step - loss: 3.2449e-09 - accuracy: 1.0000 - val_loss: 0.3484 - val_accuracy: 0.9780\n",
            "Epoch 39/50\n",
            "250/250 [==============================] - 4s 15ms/step - loss: 3.2711e-09 - accuracy: 1.0000 - val_loss: 0.3500 - val_accuracy: 0.9779\n",
            "Epoch 40/50\n",
            "250/250 [==============================] - 4s 15ms/step - loss: 3.3021e-09 - accuracy: 1.0000 - val_loss: 0.3498 - val_accuracy: 0.9779\n",
            "Epoch 41/50\n",
            "250/250 [==============================] - 4s 15ms/step - loss: 3.3855e-09 - accuracy: 1.0000 - val_loss: 0.3500 - val_accuracy: 0.9779\n",
            "Epoch 42/50\n",
            "250/250 [==============================] - 4s 15ms/step - loss: 3.3402e-09 - accuracy: 1.0000 - val_loss: 0.3508 - val_accuracy: 0.9778\n",
            "Epoch 43/50\n",
            "250/250 [==============================] - 4s 15ms/step - loss: 3.2854e-09 - accuracy: 1.0000 - val_loss: 0.3498 - val_accuracy: 0.9780\n",
            "Epoch 44/50\n",
            "250/250 [==============================] - 4s 15ms/step - loss: 3.4237e-09 - accuracy: 1.0000 - val_loss: 0.3506 - val_accuracy: 0.9780\n",
            "Epoch 45/50\n",
            "250/250 [==============================] - 4s 15ms/step - loss: 3.3498e-09 - accuracy: 1.0000 - val_loss: 0.3512 - val_accuracy: 0.9779\n",
            "Epoch 46/50\n",
            "250/250 [==============================] - 4s 15ms/step - loss: 3.3092e-09 - accuracy: 1.0000 - val_loss: 0.3518 - val_accuracy: 0.9779\n",
            "Epoch 47/50\n",
            "250/250 [==============================] - 4s 15ms/step - loss: 3.5071e-09 - accuracy: 1.0000 - val_loss: 0.3504 - val_accuracy: 0.9778\n",
            "Epoch 48/50\n",
            "250/250 [==============================] - 4s 15ms/step - loss: 3.5596e-09 - accuracy: 1.0000 - val_loss: 0.3518 - val_accuracy: 0.9779\n",
            "Epoch 49/50\n",
            "250/250 [==============================] - 4s 15ms/step - loss: 3.4952e-09 - accuracy: 1.0000 - val_loss: 0.3516 - val_accuracy: 0.9779\n",
            "Epoch 50/50\n",
            "250/250 [==============================] - 4s 15ms/step - loss: 3.4595e-09 - accuracy: 1.0000 - val_loss: 0.3521 - val_accuracy: 0.9779\n"
          ]
        },
        {
          "data": {
            "image/png": "[encoded data removed]",
            "text/plain": [
              "<Figure size 432x288 with 1 Axes>"
            ]
          },
          "metadata": {
            "needs_background": "light"
          },
          "output_type": "display_data"
        },
        {
          "data": {
            "image/png": "[encoded data removed]",
            "text/plain": [
              "<Figure size 432x288 with 1 Axes>"
            ]
          },
          "metadata": {
            "needs_background": "light"
          },
          "output_type": "display_data"
        },
        {
          "name": "stdout",
          "output_type": "stream",
          "text": [
            "Epoch 1/50\n",
            "100/100 [==============================] - 3s 31ms/step - loss: 3.1996e-09 - accuracy: 1.0000 - val_loss: 0.3515 - val_accuracy: 0.9780\n",
            "Epoch 2/50\n",
            "100/100 [==============================] - 3s 33ms/step - loss: 3.2115e-09 - accuracy: 1.0000 - val_loss: 0.3513 - val_accuracy: 0.9778\n",
            "Epoch 3/50\n",
            "100/100 [==============================] - 3s 26ms/step - loss: 3.2258e-09 - accuracy: 1.0000 - val_loss: 0.3522 - val_accuracy: 0.9779\n",
            "Epoch 4/50\n",
            "100/100 [==============================] - 3s 26ms/step - loss: 3.2830e-09 - accuracy: 1.0000 - val_loss: 0.3520 - val_accuracy: 0.9779\n",
            "Epoch 5/50\n",
            "100/100 [==============================] - 3s 26ms/step - loss: 3.2878e-09 - accuracy: 1.0000 - val_loss: 0.3517 - val_accuracy: 0.9779\n",
            "Epoch 6/50\n",
            "100/100 [==============================] - 3s 26ms/step - loss: 3.2830e-09 - accuracy: 1.0000 - val_loss: 0.3523 - val_accuracy: 0.9779\n",
            "Epoch 7/50\n",
            "100/100 [==============================] - 3s 26ms/step - loss: 3.2425e-09 - accuracy: 1.0000 - val_loss: 0.3520 - val_accuracy: 0.9778\n",
            "Epoch 8/50\n",
            "100/100 [==============================] - 3s 26ms/step - loss: 3.3092e-09 - accuracy: 1.0000 - val_loss: 0.3522 - val_accuracy: 0.9778\n",
            "Epoch 9/50\n",
            "100/100 [==============================] - 3s 26ms/step - loss: 3.2878e-09 - accuracy: 1.0000 - val_loss: 0.3518 - val_accuracy: 0.9779\n",
            "Epoch 10/50\n",
            "100/100 [==============================] - 3s 26ms/step - loss: 3.2973e-09 - accuracy: 1.0000 - val_loss: 0.3524 - val_accuracy: 0.9778\n",
            "Epoch 11/50\n",
            "100/100 [==============================] - 3s 26ms/step - loss: 3.3021e-09 - accuracy: 1.0000 - val_loss: 0.3521 - val_accuracy: 0.9778\n",
            "Epoch 12/50\n",
            "100/100 [==============================] - 3s 26ms/step - loss: 3.3307e-09 - accuracy: 1.0000 - val_loss: 0.3524 - val_accuracy: 0.9779\n",
            "Epoch 13/50\n",
            "100/100 [==============================] - 3s 26ms/step - loss: 3.3879e-09 - accuracy: 1.0000 - val_loss: 0.3528 - val_accuracy: 0.9779\n",
            "Epoch 14/50\n",
            "100/100 [==============================] - 3s 26ms/step - loss: 3.3689e-09 - accuracy: 1.0000 - val_loss: 0.3529 - val_accuracy: 0.9778\n",
            "Epoch 15/50\n",
            "100/100 [==============================] - 3s 26ms/step - loss: 3.3879e-09 - accuracy: 1.0000 - val_loss: 0.3526 - val_accuracy: 0.9778\n",
            "Epoch 16/50\n",
            "100/100 [==============================] - 3s 26ms/step - loss: 3.3832e-09 - accuracy: 1.0000 - val_loss: 0.3520 - val_accuracy: 0.9778\n",
            "Epoch 17/50\n",
            "100/100 [==============================] - 3s 26ms/step - loss: 3.4308e-09 - accuracy: 1.0000 - val_loss: 0.3525 - val_accuracy: 0.9778\n",
            "Epoch 18/50\n",
            "100/100 [==============================] - 3s 26ms/step - loss: 3.3355e-09 - accuracy: 1.0000 - val_loss: 0.3531 - val_accuracy: 0.9778\n",
            "Epoch 19/50\n",
            "100/100 [==============================] - 3s 26ms/step - loss: 3.4142e-09 - accuracy: 1.0000 - val_loss: 0.3531 - val_accuracy: 0.9779\n",
            "Epoch 20/50\n",
            "100/100 [==============================] - 3s 26ms/step - loss: 3.4404e-09 - accuracy: 1.0000 - val_loss: 0.3534 - val_accuracy: 0.9778\n",
            "Epoch 21/50\n",
            "100/100 [==============================] - 3s 26ms/step - loss: 3.3998e-09 - accuracy: 1.0000 - val_loss: 0.3528 - val_accuracy: 0.9778\n",
            "Epoch 22/50\n",
            "100/100 [==============================] - 3s 26ms/step - loss: 3.4165e-09 - accuracy: 1.0000 - val_loss: 0.3535 - val_accuracy: 0.9779\n",
            "Epoch 23/50\n",
            "100/100 [==============================] - 3s 26ms/step - loss: 3.4714e-09 - accuracy: 1.0000 - val_loss: 0.3529 - val_accuracy: 0.9778\n",
            "Epoch 24/50\n",
            "100/100 [==============================] - 3s 26ms/step - loss: 3.4332e-09 - accuracy: 1.0000 - val_loss: 0.3537 - val_accuracy: 0.9777\n",
            "Epoch 25/50\n",
            "100/100 [==============================] - 3s 26ms/step - loss: 3.4189e-09 - accuracy: 1.0000 - val_loss: 0.3535 - val_accuracy: 0.9779\n",
            "Epoch 26/50\n",
            "100/100 [==============================] - 3s 26ms/step - loss: 3.3593e-09 - accuracy: 1.0000 - val_loss: 0.3530 - val_accuracy: 0.9778\n",
            "Epoch 27/50\n",
            "100/100 [==============================] - 3s 26ms/step - loss: 3.4618e-09 - accuracy: 1.0000 - val_loss: 0.3534 - val_accuracy: 0.9777\n",
            "Epoch 28/50\n",
            "100/100 [==============================] - 3s 26ms/step - loss: 3.4213e-09 - accuracy: 1.0000 - val_loss: 0.3532 - val_accuracy: 0.9777\n",
            "Epoch 29/50\n",
            "100/100 [==============================] - 3s 26ms/step - loss: 3.4761e-09 - accuracy: 1.0000 - val_loss: 0.3529 - val_accuracy: 0.9778\n",
            "Epoch 30/50\n",
            "100/100 [==============================] - 3s 28ms/step - loss: 3.4428e-09 - accuracy: 1.0000 - val_loss: 0.3531 - val_accuracy: 0.9778\n",
            "Epoch 31/50\n",
            "100/100 [==============================] - 4s 35ms/step - loss: 3.4475e-09 - accuracy: 1.0000 - val_loss: 0.3542 - val_accuracy: 0.9777\n",
            "Epoch 32/50\n",
            "100/100 [==============================] - 3s 26ms/step - loss: 3.4666e-09 - accuracy: 1.0000 - val_loss: 0.3532 - val_accuracy: 0.9777\n",
            "Epoch 33/50\n",
            "100/100 [==============================] - 3s 26ms/step - loss: 3.4857e-09 - accuracy: 1.0000 - val_loss: 0.3536 - val_accuracy: 0.9778\n",
            "Epoch 34/50\n",
            "100/100 [==============================] - 3s 26ms/step - loss: 3.4499e-09 - accuracy: 1.0000 - val_loss: 0.3542 - val_accuracy: 0.9779\n",
            "Epoch 35/50\n",
            "100/100 [==============================] - 3s 26ms/step - loss: 3.5214e-09 - accuracy: 1.0000 - val_loss: 0.3532 - val_accuracy: 0.9777\n",
            "Epoch 36/50\n",
            "100/100 [==============================] - 3s 26ms/step - loss: 3.5167e-09 - accuracy: 1.0000 - val_loss: 0.3538 - val_accuracy: 0.9778\n",
            "Epoch 37/50\n",
            "100/100 [==============================] - 3s 26ms/step - loss: 3.5143e-09 - accuracy: 1.0000 - val_loss: 0.3536 - val_accuracy: 0.9777\n",
            "Epoch 38/50\n",
            "100/100 [==============================] - 3s 26ms/step - loss: 3.4761e-09 - accuracy: 1.0000 - val_loss: 0.3540 - val_accuracy: 0.9777\n",
            "Epoch 39/50\n",
            "100/100 [==============================] - 3s 26ms/step - loss: 3.4881e-09 - accuracy: 1.0000 - val_loss: 0.3544 - val_accuracy: 0.9778\n",
            "Epoch 40/50\n",
            "100/100 [==============================] - 3s 26ms/step - loss: 3.5429e-09 - accuracy: 1.0000 - val_loss: 0.3541 - val_accuracy: 0.9777\n",
            "Epoch 41/50\n",
            "100/100 [==============================] - 3s 26ms/step - loss: 3.4738e-09 - accuracy: 1.0000 - val_loss: 0.3538 - val_accuracy: 0.9777\n",
            "Epoch 42/50\n",
            "100/100 [==============================] - 3s 27ms/step - loss: 3.5501e-09 - accuracy: 1.0000 - val_loss: 0.3536 - val_accuracy: 0.9777\n",
            "Epoch 43/50\n",
            "100/100 [==============================] - 3s 26ms/step - loss: 3.5024e-09 - accuracy: 1.0000 - val_loss: 0.3540 - val_accuracy: 0.9778\n",
            "Epoch 44/50\n",
            "100/100 [==============================] - 3s 26ms/step - loss: 3.5477e-09 - accuracy: 1.0000 - val_loss: 0.3544 - val_accuracy: 0.9778\n",
            "Epoch 45/50\n",
            "100/100 [==============================] - 3s 26ms/step - loss: 3.5334e-09 - accuracy: 1.0000 - val_loss: 0.3543 - val_accuracy: 0.9777\n",
            "Epoch 46/50\n",
            "100/100 [==============================] - 3s 27ms/step - loss: 3.5310e-09 - accuracy: 1.0000 - val_loss: 0.3547 - val_accuracy: 0.9777\n",
            "Epoch 47/50\n",
            "100/100 [==============================] - 3s 26ms/step - loss: 3.5691e-09 - accuracy: 1.0000 - val_loss: 0.3543 - val_accuracy: 0.9777\n",
            "Epoch 48/50\n",
            "100/100 [==============================] - 3s 26ms/step - loss: 3.5834e-09 - accuracy: 1.0000 - val_loss: 0.3548 - val_accuracy: 0.9778\n",
            "Epoch 49/50\n",
            "100/100 [==============================] - 3s 27ms/step - loss: 3.5977e-09 - accuracy: 1.0000 - val_loss: 0.3550 - val_accuracy: 0.9778\n",
            "Epoch 50/50\n",
            "100/100 [==============================] - 3s 27ms/step - loss: 3.5620e-09 - accuracy: 1.0000 - val_loss: 0.3546 - val_accuracy: 0.9777\n"
          ]
        },
        {
          "data": {
            "image/png": "[encoded data removed]",
            "text/plain": [
              "<Figure size 432x288 with 1 Axes>"
            ]
          },
          "metadata": {
            "needs_background": "light"
          },
          "output_type": "display_data"
        },
        {
          "data": {
            "image/png": "[encoded data removed]",
            "text/plain": [
              "<Figure size 432x288 with 1 Axes>"
            ]
          },
          "metadata": {
            "needs_background": "light"
          },
          "output_type": "display_data"
        }
      ],
      "source": [
        "# perform ANN training using the validation dataset; save the learning results in the history variable\n",
        "epochs = [50]\n",
        "batchs = [10, 50, 100, 200, 500]\n",
        "fit_model(epochs, batchs)"
      ]
    },
    {
      "cell_type": "markdown",
      "metadata": {
        "id": "D3D3AZGp32Rp"
      },
      "source": [
        "---\n",
        "\n",
        "7.\tПроверьте качество лучшей из полученных моделей на тестовых данных."
      ]
    },
    {
      "cell_type": "code",
      "execution_count": null,
      "metadata": {
        "id": "F6rRLcI-4Ccx"
      },
      "outputs": [],
      "source": [
        "# code"
      ]
    },
    {
      "cell_type": "markdown",
      "metadata": {
        "id": "NIZ2gKQA4EUU"
      },
      "source": [
        "---\n",
        "\n",
        "8.\tСохраните лучшую модель в файле."
      ]
    },
    {
      "cell_type": "code",
      "execution_count": null,
      "metadata": {
        "id": "P11IEYhy4Hhu"
      },
      "outputs": [],
      "source": [
        "model.save('model_lab_2')"
      ]
    },
    {
      "cell_type": "code",
      "execution_count": null,
      "metadata": {
        "id": "sFpj_QzFe9td"
      },
      "outputs": [],
      "source": [
        "from google.colab import files\n",
        "files.download('model_lab_2')"
      ]
    }
  ],
  "metadata": {
    "colab": {
      "provenance": []
    },
    "kernelspec": {
      "display_name": "Python 3",
      "name": "python3"
    },
    "language_info": {
      "name": "python"
    }
  },
  "nbformat": 4,
  "nbformat_minor": 0
}