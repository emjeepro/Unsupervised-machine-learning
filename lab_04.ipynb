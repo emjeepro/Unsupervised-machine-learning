{
  "cells": [
    {
      "cell_type": "markdown",
      "metadata": {
        "id": "S1PN7nII-xSk"
      },
      "source": [
        "## Лаб.04 Agglomer\n",
        "\n",
        "### Агломеративная кластеризация\n",
        "\n",
        "---\n",
        "\n",
        "#### Входные данные: \n",
        "`seeds-less-rows` датасет в формате csv, содержащий характеристики сортов зерна.\n",
        "\n",
        "#### Задание:\n",
        "Написать программный код построения иерархической структуры кластеров с выводом дендрограммы.\n",
        "\n",
        "**Порядок выполнения работы:**\n",
        "1.\tЗагрузите данные в датафрейм. Создайте копию с удалением столбца меток `grain_variety` (сорт) и сохраните как массив.\n",
        "2.\tПри помощи функции `scipy.cluster.hierarchy.linkage` создайте матрицу связей, кодирующую иерархию кластеров.\n",
        "3.\tПостройте дендрограмму при помощи функции `dendrogram` в полном виде и «со стрижкой» до третьего уровня кластеризации.\n",
        "4.\tОбучите модель кластеризации `AgglomerativeClustering` с построением кластеров без каких-либо ограничений.\n",
        "5.\tУбедитесь в идентичности структуры, построив дендрограмму полученных кластеров. Код для построения:\n",
        "\n",
        "`def plot_dendrogram(model, **kwargs):`<br>\n",
        "&nbsp;&nbsp;&nbsp;&nbsp;&nbsp;&nbsp;&nbsp;&nbsp;    _# create linkage matrix and then plot the dendrogram_<br><br>\n",
        "&nbsp;&nbsp;&nbsp;&nbsp;&nbsp;&nbsp;&nbsp;&nbsp;    _# create the counts of samples under each node_<br>\n",
        "&nbsp;&nbsp;&nbsp;&nbsp;&nbsp;&nbsp;&nbsp;&nbsp;    `counts = np.zeros(model.children_.shape[0])`<br>\n",
        "&nbsp;&nbsp;&nbsp;&nbsp;&nbsp;&nbsp;&nbsp;&nbsp;    `n_samples = len(model.labels_)`<br>\n",
        "&nbsp;&nbsp;&nbsp;&nbsp;&nbsp;&nbsp;&nbsp;&nbsp;    `for i, merge in enumerate(model.children_):`<br>\n",
        "&nbsp;&nbsp;&nbsp;&nbsp;&nbsp;&nbsp;&nbsp;&nbsp;&nbsp;&nbsp;&nbsp;&nbsp;&nbsp;&nbsp;&nbsp;&nbsp;        `current_count = 0`<br>\n",
        "&nbsp;&nbsp;&nbsp;&nbsp;&nbsp;&nbsp;&nbsp;&nbsp;&nbsp;&nbsp;&nbsp;&nbsp;&nbsp;&nbsp;&nbsp;&nbsp;        `for child_idx in merge:`<br>\n",
        "&nbsp;&nbsp;&nbsp;&nbsp;&nbsp;&nbsp;&nbsp;&nbsp;&nbsp;&nbsp;&nbsp;&nbsp;&nbsp;&nbsp;&nbsp;&nbsp;&nbsp;&nbsp;&nbsp;&nbsp;&nbsp;&nbsp;&nbsp;&nbsp;            `if child_idx < n_samples:`<br>\n",
        "&nbsp;&nbsp;&nbsp;&nbsp;&nbsp;&nbsp;&nbsp;&nbsp;&nbsp;&nbsp;&nbsp;&nbsp;&nbsp;&nbsp;&nbsp;&nbsp;&nbsp;&nbsp;&nbsp;&nbsp;&nbsp;&nbsp;&nbsp;&nbsp;&nbsp;&nbsp;&nbsp;&nbsp;&nbsp;&nbsp;&nbsp;&nbsp;                `current_count += 1`  _# leaf node_<br>\n",
        "&nbsp;&nbsp;&nbsp;&nbsp;&nbsp;&nbsp;&nbsp;&nbsp;&nbsp;&nbsp;&nbsp;&nbsp;&nbsp;&nbsp;&nbsp;&nbsp;&nbsp;&nbsp;&nbsp;&nbsp;&nbsp;&nbsp;&nbsp;&nbsp;            `else:`<br>\n",
        "&nbsp;&nbsp;&nbsp;&nbsp;&nbsp;&nbsp;&nbsp;&nbsp;&nbsp;&nbsp;&nbsp;&nbsp;&nbsp;&nbsp;&nbsp;&nbsp;&nbsp;&nbsp;&nbsp;&nbsp;&nbsp;&nbsp;&nbsp;&nbsp;&nbsp;&nbsp;&nbsp;&nbsp;&nbsp;&nbsp;&nbsp;&nbsp;                `current_count += counts[child_idx - n_samples]`<br>\n",
        "&nbsp;&nbsp;&nbsp;&nbsp;&nbsp;&nbsp;&nbsp;&nbsp;&nbsp;&nbsp;&nbsp;&nbsp;&nbsp;&nbsp;&nbsp;&nbsp;        `counts[i] = current_count`<br><br>\n",
        "&nbsp;&nbsp;&nbsp;&nbsp;&nbsp;&nbsp;&nbsp;&nbsp;    `linkage_matrix = np.column_stack([model.children_, model.distances_, counts]).astype(float)`<br><br>\n",
        "&nbsp;&nbsp;&nbsp;&nbsp;&nbsp;&nbsp;&nbsp;&nbsp;    _# plot the corresponding dendrogram_<br>\n",
        "&nbsp;&nbsp;&nbsp;&nbsp;&nbsp;&nbsp;&nbsp;&nbsp;    `dendrogram(linkage_matrix, **kwargs)`\n",
        "\n",
        "---"
      ]
    },
    {
      "cell_type": "markdown",
      "metadata": {
        "id": "A7gTtA1K-_n4"
      },
      "source": [
        "1.\tЗагрузите данные в датафрейм. Создайте копию с удалением столбца меток `grain_variety` (сорт) и сохраните как массив."
      ]
    },
    {
      "cell_type": "code",
      "execution_count": null,
      "metadata": {
        "id": "0KT8VJNW-71A"
      },
      "outputs": [],
      "source": [
        "# подключим необходимые библиотеки\n",
        "\n",
        "import numpy as np\n",
        "import pandas as pd\n",
        "import seaborn as sns\n",
        "import matplotlib.pyplot as plt\n",
        "\n",
        "from itertools import cycle\n",
        "from sklearn.datasets import make_blobs\n",
        "from sklearn.datasets import make_classification\n",
        "from scipy.cluster.hierarchy import dendrogram, linkage\n",
        "from sklearn.cluster import MeanShift, estimate_bandwidth"
      ]
    },
    {
      "cell_type": "code",
      "execution_count": null,
      "metadata": {
        "id": "pI8qbZBK_Jd2"
      },
      "outputs": [],
      "source": [
        "from google.colab import drive \n",
        "drive.mount('/content/gdrive')"
      ]
    },
    {
      "cell_type": "code",
      "execution_count": null,
      "metadata": {
        "id": "XFL8b4vB_8d_"
      },
      "outputs": [],
      "source": [
        "# добавим данные в датаафрейм\n",
        "\n",
        "# use this line if on Jupyter\n",
        "# df = pd.read_csv('seeds-less-rows.csv')\n",
        "\n",
        "# use this line if on Colab\n",
        "df = pd.read_csv('gdrive/My Drive/Colab Notebooks/data/seeds-less-rows.csv')"
      ]
    },
    {
      "cell_type": "code",
      "execution_count": null,
      "metadata": {
        "colab": {
          "base_uri": "https://localhost:8080/",
          "height": 206
        },
        "id": "5a6IIR0rAKE4",
        "outputId": "83e62b15-1e38-48de-e357-a267cc13d9f0"
      },
      "outputs": [
        {
          "data": {
            "text/html": [
              "\n",
              "  <div id=\"df-f27b7619-45c9-4f71-9388-e9d326dfa1d6\">\n",
              "    <div class=\"colab-df-container\">\n",
              "      <div>\n",
              "<style scoped>\n",
              "    .dataframe tbody tr th:only-of-type {\n",
              "        vertical-align: middle;\n",
              "    }\n",
              "\n",
              "    .dataframe tbody tr th {\n",
              "        vertical-align: top;\n",
              "    }\n",
              "\n",
              "    .dataframe thead th {\n",
              "        text-align: right;\n",
              "    }\n",
              "</style>\n",
              "<table border=\"1\" class=\"dataframe\">\n",
              "  <thead>\n",
              "    <tr style=\"text-align: right;\">\n",
              "      <th></th>\n",
              "      <th>area</th>\n",
              "      <th>perimeter</th>\n",
              "      <th>compactness</th>\n",
              "      <th>length</th>\n",
              "      <th>width</th>\n",
              "      <th>asymmetry_coefficient</th>\n",
              "      <th>groove_length</th>\n",
              "      <th>grain_variety</th>\n",
              "    </tr>\n",
              "  </thead>\n",
              "  <tbody>\n",
              "    <tr>\n",
              "      <th>0</th>\n",
              "      <td>14.88</td>\n",
              "      <td>14.57</td>\n",
              "      <td>0.8811</td>\n",
              "      <td>5.554</td>\n",
              "      <td>3.333</td>\n",
              "      <td>1.018</td>\n",
              "      <td>4.956</td>\n",
              "      <td>Kama wheat</td>\n",
              "    </tr>\n",
              "    <tr>\n",
              "      <th>1</th>\n",
              "      <td>14.69</td>\n",
              "      <td>14.49</td>\n",
              "      <td>0.8799</td>\n",
              "      <td>5.563</td>\n",
              "      <td>3.259</td>\n",
              "      <td>3.586</td>\n",
              "      <td>5.219</td>\n",
              "      <td>Kama wheat</td>\n",
              "    </tr>\n",
              "    <tr>\n",
              "      <th>2</th>\n",
              "      <td>14.03</td>\n",
              "      <td>14.16</td>\n",
              "      <td>0.8796</td>\n",
              "      <td>5.438</td>\n",
              "      <td>3.201</td>\n",
              "      <td>1.717</td>\n",
              "      <td>5.001</td>\n",
              "      <td>Kama wheat</td>\n",
              "    </tr>\n",
              "    <tr>\n",
              "      <th>3</th>\n",
              "      <td>13.99</td>\n",
              "      <td>13.83</td>\n",
              "      <td>0.9183</td>\n",
              "      <td>5.119</td>\n",
              "      <td>3.383</td>\n",
              "      <td>5.234</td>\n",
              "      <td>4.781</td>\n",
              "      <td>Kama wheat</td>\n",
              "    </tr>\n",
              "    <tr>\n",
              "      <th>4</th>\n",
              "      <td>14.11</td>\n",
              "      <td>14.26</td>\n",
              "      <td>0.8722</td>\n",
              "      <td>5.520</td>\n",
              "      <td>3.168</td>\n",
              "      <td>2.688</td>\n",
              "      <td>5.219</td>\n",
              "      <td>Kama wheat</td>\n",
              "    </tr>\n",
              "  </tbody>\n",
              "</table>\n",
              "</div>\n",
              "      <button class=\"colab-df-convert\" onclick=\"convertToInteractive('df-f27b7619-45c9-4f71-9388-e9d326dfa1d6')\"\n",
              "              title=\"Convert this dataframe to an interactive table.\"\n",
              "              style=\"display:none;\">\n",
              "        \n",
              "  <svg xmlns=\"http://www.w3.org/2000/svg\" height=\"24px\"viewBox=\"0 0 24 24\"\n",
              "       width=\"24px\">\n",
              "    <path d=\"M0 0h24v24H0V0z\" fill=\"none\"/>\n",
              "    <path d=\"M18.56 5.44l.94 2.06.94-2.06 2.06-.94-2.06-.94-.94-2.06-.94 2.06-2.06.94zm-11 1L8.5 8.5l.94-2.06 2.06-.94-2.06-.94L8.5 2.5l-.94 2.06-2.06.94zm10 10l.94 2.06.94-2.06 2.06-.94-2.06-.94-.94-2.06-.94 2.06-2.06.94z\"/><path d=\"M17.41 7.96l-1.37-1.37c-.4-.4-.92-.59-1.43-.59-.52 0-1.04.2-1.43.59L10.3 9.45l-7.72 7.72c-.78.78-.78 2.05 0 2.83L4 21.41c.39.39.9.59 1.41.59.51 0 1.02-.2 1.41-.59l7.78-7.78 2.81-2.81c.8-.78.8-2.07 0-2.86zM5.41 20L4 18.59l7.72-7.72 1.47 1.35L5.41 20z\"/>\n",
              "  </svg>\n",
              "      </button>\n",
              "      \n",
              "  <style>\n",
              "    .colab-df-container {\n",
              "      display:flex;\n",
              "      flex-wrap:wrap;\n",
              "      gap: 12px;\n",
              "    }\n",
              "\n",
              "    .colab-df-convert {\n",
              "      background-color: #E8F0FE;\n",
              "      border: none;\n",
              "      border-radius: 50%;\n",
              "      cursor: pointer;\n",
              "      display: none;\n",
              "      fill: #1967D2;\n",
              "      height: 32px;\n",
              "      padding: 0 0 0 0;\n",
              "      width: 32px;\n",
              "    }\n",
              "\n",
              "    .colab-df-convert:hover {\n",
              "      background-color: #E2EBFA;\n",
              "      box-shadow: 0px 1px 2px rgba(60, 64, 67, 0.3), 0px 1px 3px 1px rgba(60, 64, 67, 0.15);\n",
              "      fill: #174EA6;\n",
              "    }\n",
              "\n",
              "    [theme=dark] .colab-df-convert {\n",
              "      background-color: #3B4455;\n",
              "      fill: #D2E3FC;\n",
              "    }\n",
              "\n",
              "    [theme=dark] .colab-df-convert:hover {\n",
              "      background-color: #434B5C;\n",
              "      box-shadow: 0px 1px 3px 1px rgba(0, 0, 0, 0.15);\n",
              "      filter: drop-shadow(0px 1px 2px rgba(0, 0, 0, 0.3));\n",
              "      fill: #FFFFFF;\n",
              "    }\n",
              "  </style>\n",
              "\n",
              "      <script>\n",
              "        const buttonEl =\n",
              "          document.querySelector('#df-f27b7619-45c9-4f71-9388-e9d326dfa1d6 button.colab-df-convert');\n",
              "        buttonEl.style.display =\n",
              "          google.colab.kernel.accessAllowed ? 'block' : 'none';\n",
              "\n",
              "        async function convertToInteractive(key) {\n",
              "          const element = document.querySelector('#df-f27b7619-45c9-4f71-9388-e9d326dfa1d6');\n",
              "          const dataTable =\n",
              "            await google.colab.kernel.invokeFunction('convertToInteractive',\n",
              "                                                     [key], {});\n",
              "          if (!dataTable) return;\n",
              "\n",
              "          const docLinkHtml = 'Like what you see? Visit the ' +\n",
              "            '<a target=\"_blank\" href=https://colab.research.google.com/notebooks/data_table.ipynb>data table notebook</a>'\n",
              "            + ' to learn more about interactive tables.';\n",
              "          element.innerHTML = '';\n",
              "          dataTable['output_type'] = 'display_data';\n",
              "          await google.colab.output.renderOutput(dataTable, element);\n",
              "          const docLink = document.createElement('div');\n",
              "          docLink.innerHTML = docLinkHtml;\n",
              "          element.appendChild(docLink);\n",
              "        }\n",
              "      </script>\n",
              "    </div>\n",
              "  </div>\n",
              "  "
            ],
            "text/plain": [
              "    area  perimeter  compactness  length  width  asymmetry_coefficient  \\\n",
              "0  14.88      14.57       0.8811   5.554  3.333                  1.018   \n",
              "1  14.69      14.49       0.8799   5.563  3.259                  3.586   \n",
              "2  14.03      14.16       0.8796   5.438  3.201                  1.717   \n",
              "3  13.99      13.83       0.9183   5.119  3.383                  5.234   \n",
              "4  14.11      14.26       0.8722   5.520  3.168                  2.688   \n",
              "\n",
              "   groove_length grain_variety  \n",
              "0          4.956    Kama wheat  \n",
              "1          5.219    Kama wheat  \n",
              "2          5.001    Kama wheat  \n",
              "3          4.781    Kama wheat  \n",
              "4          5.219    Kama wheat  "
            ]
          },
          "execution_count": 4,
          "metadata": {},
          "output_type": "execute_result"
        }
      ],
      "source": [
        "df.head()"
      ]
    },
    {
      "cell_type": "code",
      "execution_count": null,
      "metadata": {
        "id": "eyUov39CAP2s"
      },
      "outputs": [],
      "source": [
        "# записываем колонку grain_variety в отдельный массив\n",
        "\n",
        "y = df['grain_variety']"
      ]
    },
    {
      "cell_type": "code",
      "execution_count": null,
      "metadata": {
        "colab": {
          "base_uri": "https://localhost:8080/"
        },
        "id": "WeG7SqQmDRUA",
        "outputId": "6e467f3e-0235-4bd8-a314-acddc2f08505"
      },
      "outputs": [
        {
          "name": "stdout",
          "output_type": "stream",
          "text": [
            "<class 'numpy.ndarray'>\n"
          ]
        }
      ],
      "source": [
        "# Make a copy with the label column grain_variety(variety) removed and save as an array.\n",
        "\n",
        "df2 = df.drop('grain_variety', axis=1)\n",
        "df2 = df2.values\n",
        "print(type(df2))"
      ]
    },
    {
      "cell_type": "code",
      "execution_count": null,
      "metadata": {
        "colab": {
          "base_uri": "https://localhost:8080/"
        },
        "id": "l7yUunGFAQSy",
        "outputId": "07788532-a6dc-48e6-a1b4-77564a5f3f89"
      },
      "outputs": [
        {
          "name": "stdout",
          "output_type": "stream",
          "text": [
            "<class 'numpy.ndarray'>\n"
          ]
        }
      ],
      "source": [
        "# удаляем колонку grain_variety и проверим как выглядит таблица без неё\n",
        "\n",
        "df2 = df.drop('grain_variety',axis=1)\n",
        "df2 = df2.values\n",
        "print(type(df2))"
      ]
    },
    {
      "cell_type": "markdown",
      "metadata": {
        "id": "qazkbacxAXOP"
      },
      "source": [
        "---\n",
        "\n",
        "2.\tПри помощи функции `scipy.cluster.hierarchy.linkage` создайте матрицу связей, кодирующую иерархию кластеров."
      ]
    },
    {
      "cell_type": "code",
      "execution_count": null,
      "metadata": {
        "id": "bUYzETPRATnJ"
      },
      "outputs": [],
      "source": [
        "# using the scipy.cluster.hierarchy.linkage function, create a link matrix encoding the cluster hierarchy\n",
        "\n",
        "from scipy.cluster.hierarchy import linkage, dendrogram\n",
        "import matplotlib.pyplot as plt\n",
        "\n",
        "mergings = linkage(df2, method='complete')"
      ]
    },
    {
      "cell_type": "markdown",
      "metadata": {
        "id": "iLBHpKANAbBM"
      },
      "source": [
        "---\n",
        "\n",
        "3.\tПостройте дендрограмму при помощи функции `dendrogram` в полном виде и «со стрижкой» до третьего уровня кластеризации."
      ]
    },
    {
      "cell_type": "code",
      "execution_count": null,
      "metadata": {
        "colab": {
          "base_uri": "https://localhost:8080/",
          "height": 661
        },
        "id": "uLeS--mmAdE8",
        "outputId": "11004ce9-472e-4c7b-b34c-3436975b53f1"
      },
      "outputs": [
        {
          "data": {
            "image/png": "[encoded data removed]",
            "text/plain": [
              "<Figure size 1440x720 with 1 Axes>"
            ]
          },
          "metadata": {
            "needs_background": "light"
          },
          "output_type": "display_data"
        }
      ],
      "source": [
        "# build a dendrogram using the dendrogram function in its full form and \"with a haircut\" up to the third level of clustering\n",
        "\n",
        "plt.figure(figsize=(20, 10))\n",
        "dendrogram(mergings, labels=df['grain_variety'].values, leaf_rotation=90, leaf_font_size=15)\n",
        "plt.xticks(rotation=45)\n",
        "plt.show()"
      ]
    },
    {
      "cell_type": "markdown",
      "metadata": {
        "id": "zIwouInaAk9a"
      },
      "source": [
        "---\n",
        "\n",
        "4.\tОбучите модель кластеризации `AgglomerativeClustering` с построением кластеров без каких-либо ограничений."
      ]
    },
    {
      "cell_type": "code",
      "execution_count": null,
      "metadata": {
        "colab": {
          "base_uri": "https://localhost:8080/"
        },
        "id": "_niwaKI-Al3A",
        "outputId": "062a16ab-3955-4bb1-acce-f87d975bf4f2"
      },
      "outputs": [
        {
          "name": "stdout",
          "output_type": "stream",
          "text": [
            "[2 2 2 2 2 2 2 2 2 2 2 2 0 2 1 1 1 1 1 1 1 1 1 1 1 1 1 1 0 0 0 0 0 0 0 0 0\n",
            " 0 0 0 2 0]\n"
          ]
        }
      ],
      "source": [
        "# train the AgglomerativeClustering clustering model with building clusters without any restrictions\n",
        "\n",
        "from sklearn.cluster import AgglomerativeClustering\n",
        "\n",
        "model = AgglomerativeClustering(n_clusters=3, compute_distances=True)\n",
        "labels = model.fit_predict(df2)\n",
        "print(labels) # quantity of clusters for each seed"
      ]
    },
    {
      "cell_type": "markdown",
      "metadata": {
        "id": "O-qhorY4A1Vs"
      },
      "source": [
        "---\n",
        "\n",
        "5.\tУбедитесь в идентичности структуры, построив дендрограмму полученных кластеров."
      ]
    },
    {
      "cell_type": "code",
      "execution_count": null,
      "metadata": {
        "id": "jppaVM60A2MC"
      },
      "outputs": [],
      "source": [
        "# confirm the identity of the structure by constructing a dendrogram of the resulting clusters\n",
        "\n",
        "def plot_dendrogram(model, **kwargs):\n",
        "    # create linkage matrix and then plot the dendrogram\n",
        "    # create the counts of samples under each node\n",
        "\n",
        "    counts = np.zeros(model.children_.shape[0])\n",
        "    n_samples = len(model.labels_)\n",
        "    for i, merge in enumerate(model.children_):\n",
        "        current_count = 0\n",
        "        for child_idx in merge:\n",
        "            if child_idx < n_samples:\n",
        "                current_count += 1  # leaf node\n",
        "            else:\n",
        "                current_count += counts[child_idx - n_samples]\n",
        "        counts[i] = current_count\n",
        "    linkage_matrix = np.column_stack([model.children_, model.distances_, counts]).astype(float)\n",
        "    # plot the corresponding dendrogram\n",
        "    plt.figure(figsize=(20, 10))\n",
        "    dendrogram(linkage_matrix, **kwargs)\n",
        "    plt.show()"
      ]
    },
    {
      "cell_type": "code",
      "execution_count": null,
      "metadata": {
        "colab": {
          "base_uri": "https://localhost:8080/",
          "height": 601
        },
        "id": "mIaIalc1A62s",
        "outputId": "1c5a9569-e868-407b-f767-814fd61076ac"
      },
      "outputs": [
        {
          "data": {
            "image/png": "[encoded data removed]",
            "text/plain": [
              "<Figure size 1440x720 with 1 Axes>"
            ]
          },
          "metadata": {
            "needs_background": "light"
          },
          "output_type": "display_data"
        }
      ],
      "source": [
        "# use the plot_dendrogram function to visualize the clusters\n",
        "plot_dendrogram(model, leaf_font_size=15)"
      ]
    }
  ],
  "metadata": {
    "colab": {
      "provenance": []
    },
    "kernelspec": {
      "display_name": "Python 3",
      "name": "python3"
    },
    "language_info": {
      "name": "python"
    }
  },
  "nbformat": 4,
  "nbformat_minor": 0
}