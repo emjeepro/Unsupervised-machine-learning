{
  "cells": [
    {
      "cell_type": "markdown",
      "metadata": {
        "id": "DkNTbKa3WEw3"
      },
      "source": [
        "## Лаб.06 PCA\n",
        "\n",
        "### Уменьшение размерности методом главных компонент\n",
        "\n",
        "---\n",
        "\n",
        "#### Входные данные:\n",
        "датасет в формате `weight-height.csv`, содержащий данные роста, веса и пола для 10000 чел.\n",
        "\n",
        "#### Задание:\n",
        "Написать программный код для вычисления главных компонент для исходных данных. Вывести проекции данных на главную компоненту вместе с исходными точками.\n",
        "\n",
        "**Порядок выполнения работы:**\n",
        "1. Сгенерируйте датасет в виде облака из 300 точек. Воспользуйтесь кодом для генерации координат в виде нормального распределения c матрицей ковариации `[1.0, -1.0]`, `[-2.0, 3.0]` и значениями матожидания равными нулю. Воспользуйтесь функцией `numpy.random.multivariate_normal(mean, cov, size)`\n",
        "2. Выведите на диаграмме облако точек для контроля.\n",
        "3. Обучите на полученном массиве данных метод главных компонент: `sklearn.decomposition.PCA`, используя параметры по умолчанию. Выведите долю дисперсии, объясняемую каждой из компонент, а также их направления в виде массива коэффициентов.\n",
        "4. Обучите еще раз метод, но с указанием числа компонент, равного 1. Преобразуйте данные к новым компонентам при помощи функции `fit_transform()` и постройте проекцию данных на компоненты с помощью функции `inverse_transform()`. Получится новый двумерный массив координат.\n",
        "5. Выведите на диаграмме исходное облако точек и новый набор данных (другим цветом).\n",
        "6. Повторите описанные выше действия для исходных данных датасета `weight-height.csv`. Разделите данные в соответствии с признаком «Gender» и осуществите расчеты отдельно для каждого значения в координатах «Height» и «Weight».\n",
        "\n",
        "---"
      ]
    },
    {
      "cell_type": "markdown",
      "metadata": {
        "id": "Jb-HfFoBW9MH"
      },
      "source": [
        "1. Сгенерируйте датасет в виде облака из 300 точек. Воспользуйтесь кодом для генерации координат в виде нормального распределения c матрицей ковариации `[1.0, -1.0]`, `[-2.0, 3.0]` и значениями матожидания равными нулю. Воспользуйтесь функцией `numpy.random.multivariate_normal(mean, cov, size)`<br><br><i><b>What is Principal Component Analysis (PCA)?<br>It is by far the most popular dimensionality reduction algorithm (how to represent the same data using less features).</i></b>"
      ]
    },
    {
      "cell_type": "code",
      "execution_count": null,
      "metadata": {
        "id": "UF_l8mooXSAN"
      },
      "outputs": [],
      "source": [
        "# подключим библиотеки\n",
        "\n",
        "import numpy as np\n",
        "import pandas as pd\n",
        "import matplotlib.pyplot as plt\n",
        "from sklearn.decomposition import PCA"
      ]
    },
    {
      "cell_type": "code",
      "execution_count": null,
      "metadata": {
        "colab": {
          "base_uri": "https://localhost:8080/"
        },
        "id": "owBGNC9WX4RK",
        "outputId": "e3848d66-aba9-4bb7-baca-4a7ff1c1f067"
      },
      "outputs": [
        {
          "name": "stderr",
          "output_type": "stream",
          "text": [
            "/usr/local/lib/python3.7/dist-packages/ipykernel_launcher.py:6: RuntimeWarning: covariance is not positive-semidefinite.\n",
            "  \n"
          ]
        }
      ],
      "source": [
        "# generate a dataset in the form of a cloud of 300 points. use code to generate coordinates as normal\n",
        "# distribution with a covariance matrix of [1.0, -1.0], [-2.0, 3.0] and expectation values of zero\n",
        "\n",
        "mean = [0, 0]\n",
        "cov = [[1.0, -1.0], [-2.0, 3.0]]\n",
        "x, y = np.random.multivariate_normal(mean, cov, 300).T"
      ]
    },
    {
      "cell_type": "markdown",
      "metadata": {
        "id": "LvlCwBULYQlL"
      },
      "source": [
        "---\n",
        "\n",
        "2. Выведите на диаграмме облако точек для контроля."
      ]
    },
    {
      "cell_type": "code",
      "execution_count": null,
      "metadata": {
        "colab": {
          "base_uri": "https://localhost:8080/",
          "height": 265
        },
        "id": "K3NqhNnlYSsz",
        "outputId": "1f04cae6-3889-4725-957d-5ad087f3e9e6"
      },
      "outputs": [
        {
          "data": {
            "image/png": "[encoded data removed]",
            "text/plain": [
              "<Figure size 432x288 with 1 Axes>"
            ]
          },
          "metadata": {
            "needs_background": "light"
          },
          "output_type": "display_data"
        }
      ],
      "source": [
        "# plot the resulting cloud of points\n",
        "\n",
        "plt.plot(x, y, '.', color='green')\n",
        "plt.axis('equal')\n",
        "plt.show()"
      ]
    },
    {
      "cell_type": "markdown",
      "metadata": {
        "id": "FJ92An7OYS8S"
      },
      "source": [
        "---\n",
        "\n",
        "3. Обучите на полученном массиве данных метод главных компонент: `sklearn.decomposition.PCA`, используя параметры по умолчанию. Выведите долю дисперсии, объясняемую каждой из компонент, а также их направления в виде массива коэффициентов.<br><br><i><b>Note:<br>Instead of arbitrarily specifying the number of principal components we want to preserve, we can set `n_components` to be a float between 0.0 and 1.0, indicating the ratio of variance we wish to preserve: `pca = PCA(n_components=0.95)`, this is according to the documentation</i></b>"
      ]
    },
    {
      "cell_type": "code",
      "execution_count": null,
      "metadata": {
        "colab": {
          "base_uri": "https://localhost:8080/"
        },
        "id": "HwJCGCtdYVPK",
        "outputId": "583069a7-102e-4384-d869-52eefba497f6"
      },
      "outputs": [
        {
          "name": "stdout",
          "output_type": "stream",
          "text": [
            "Explained variance ratio: [0.93863366 0.06136634]\n",
            "\n",
            "Components directions:\n",
            " [[ 0.57924461 -0.81515378]\n",
            " [-0.81515378 -0.57924461]]\n",
            "\n",
            "Covariance matrix:\n",
            " [[ 1.32780073 -1.54621284]\n",
            " [-1.54621284  2.40500834]]\n"
          ]
        }
      ],
      "source": [
        "# train the PCA: sklearn.decomposition.PCA on the received data set, using the default parameters, then output the\n",
        "# proportion of variance explained by each of the components, as well as their directions, as an array of coefficients\n",
        "\n",
        "\n",
        "# without n_components PCA(n_components), the algorithm will detect the quantity of features of the dataset\n",
        "pca = PCA()\n",
        "pca.fit(np.array([x, y]).T)\n",
        "print(f'Explained variance ratio: {pca.explained_variance_ratio_}')\n",
        "print(f'\\nComponents directions:\\n {pca.components_}')\n",
        "print(f'\\nCovariance matrix:\\n {pca.get_covariance()}')\n",
        "x1 = pca.transform(np.array([x, y]).T)\n",
        "x2 = pca.inverse_transform(x1)\n",
        "\n",
        "# this output tells us that 93% of the dataset’s variance lies along the first component, and about 7% lies along the second component"
      ]
    },
    {
      "cell_type": "markdown",
      "metadata": {
        "id": "xuwFGqx_YVXe"
      },
      "source": [
        "---\n",
        "\n",
        "4. Обучите еще раз метод, но с указанием числа компонент, равного 1. Преобразуйте данные к новым компонентам при помощи функции `fit_transform()` и постройте проекцию данных на компоненты с помощью функции `inverse_transform()`. Получится новый двумерный массив координат."
      ]
    },
    {
      "cell_type": "code",
      "execution_count": null,
      "metadata": {
        "colab": {
          "base_uri": "https://localhost:8080/"
        },
        "id": "gdBdYRFRYXa7",
        "outputId": "89baa04b-40b7-4670-f8e1-c9867f87f6c6"
      },
      "outputs": [
        {
          "name": "stdout",
          "output_type": "stream",
          "text": [
            "Explained variance: [0.93863366]\n",
            "\n",
            "Components directions:\n",
            " [[ 0.57924461 -0.81515378]]\n",
            "\n",
            "Covariance matrix:\n",
            " [[ 1.32780073 -1.54621284]\n",
            " [-1.54621284  2.40500834]]\n"
          ]
        }
      ],
      "source": [
        "# train the method again, but specifying the number of components equal to 1. transform the data to new components using \n",
        "# the fit_transform() function and build a data projection on the components using the inverse_transform() function\n",
        "\n",
        "pca = PCA(n_components=1)\n",
        "pca.fit(np.array([x, y]).T)\n",
        "print(f'Explained variance: {pca.explained_variance_ratio_}')\n",
        "print(f'\\nComponents directions:\\n {pca.components_}')\n",
        "print(f'\\nCovariance matrix:\\n {pca.get_covariance()}')\n",
        "\n",
        "x1 = pca.transform(np.array([x, y]).T)\n",
        "x2 = pca.inverse_transform(x1)"
      ]
    },
    {
      "cell_type": "markdown",
      "metadata": {
        "id": "PQ1tOiqBYXjz"
      },
      "source": [
        "---\n",
        "\n",
        "5. Выведите на диаграмме исходное облако точек и новый набор данных (другим цветом)."
      ]
    },
    {
      "cell_type": "code",
      "execution_count": null,
      "metadata": {
        "colab": {
          "base_uri": "https://localhost:8080/",
          "height": 265
        },
        "id": "F8Z75C2nYZUX",
        "outputId": "71783e85-ac34-4de8-dba1-b2e6534d4ae5"
      },
      "outputs": [
        {
          "data": {
            "image/png": "[encoded data removed]",
            "text/plain": [
              "<Figure size 432x288 with 1 Axes>"
            ]
          },
          "metadata": {
            "needs_background": "light"
          },
          "output_type": "display_data"
        }
      ],
      "source": [
        "# plot the original point cloud and the new dataset (in a different color) on the chart\n",
        "\n",
        "plt.plot(x, y, '.', color='green')\n",
        "plt.plot(x2[:, 0], x2[:, 1], color='blue')\n",
        "plt.axis('equal')\n",
        "plt.show()"
      ]
    },
    {
      "cell_type": "markdown",
      "metadata": {
        "id": "lrSDJFvzYZcg"
      },
      "source": [
        "---\n",
        "\n",
        "6. Повторите описанные выше действия для исходных данных датасета `weight-height.csv`. Разделите данные в соответствии с признаком «Gender» и осуществите расчеты отдельно для каждого значения в координатах «Height» и «Weight»."
      ]
    },
    {
      "cell_type": "code",
      "execution_count": null,
      "metadata": {
        "id": "nYOpNhW4ZoG-"
      },
      "outputs": [],
      "source": [
        "from google.colab import drive \n",
        "drive.mount('/content/gdrive')"
      ]
    },
    {
      "cell_type": "code",
      "execution_count": null,
      "metadata": {
        "colab": {
          "base_uri": "https://localhost:8080/",
          "height": 206
        },
        "id": "xaQtdwhjYaep",
        "outputId": "706ec2bf-efb5-4cc8-ac95-516df74a5775"
      },
      "outputs": [
        {
          "data": {
            "text/html": [
              "\n",
              "  <div id=\"df-4b4e3a9c-5eae-4cb4-8d78-b289133c3b23\">\n",
              "    <div class=\"colab-df-container\">\n",
              "      <div>\n",
              "<style scoped>\n",
              "    .dataframe tbody tr th:only-of-type {\n",
              "        vertical-align: middle;\n",
              "    }\n",
              "\n",
              "    .dataframe tbody tr th {\n",
              "        vertical-align: top;\n",
              "    }\n",
              "\n",
              "    .dataframe thead th {\n",
              "        text-align: right;\n",
              "    }\n",
              "</style>\n",
              "<table border=\"1\" class=\"dataframe\">\n",
              "  <thead>\n",
              "    <tr style=\"text-align: right;\">\n",
              "      <th></th>\n",
              "      <th>Gender</th>\n",
              "      <th>Height</th>\n",
              "      <th>Weight</th>\n",
              "    </tr>\n",
              "  </thead>\n",
              "  <tbody>\n",
              "    <tr>\n",
              "      <th>0</th>\n",
              "      <td>Male</td>\n",
              "      <td>73.847017</td>\n",
              "      <td>241.893563</td>\n",
              "    </tr>\n",
              "    <tr>\n",
              "      <th>1</th>\n",
              "      <td>Male</td>\n",
              "      <td>68.781904</td>\n",
              "      <td>162.310473</td>\n",
              "    </tr>\n",
              "    <tr>\n",
              "      <th>2</th>\n",
              "      <td>Male</td>\n",
              "      <td>74.110105</td>\n",
              "      <td>212.740856</td>\n",
              "    </tr>\n",
              "    <tr>\n",
              "      <th>3</th>\n",
              "      <td>Male</td>\n",
              "      <td>71.730978</td>\n",
              "      <td>220.042470</td>\n",
              "    </tr>\n",
              "    <tr>\n",
              "      <th>4</th>\n",
              "      <td>Male</td>\n",
              "      <td>69.881796</td>\n",
              "      <td>206.349801</td>\n",
              "    </tr>\n",
              "  </tbody>\n",
              "</table>\n",
              "</div>\n",
              "      <button class=\"colab-df-convert\" onclick=\"convertToInteractive('df-4b4e3a9c-5eae-4cb4-8d78-b289133c3b23')\"\n",
              "              title=\"Convert this dataframe to an interactive table.\"\n",
              "              style=\"display:none;\">\n",
              "        \n",
              "  <svg xmlns=\"http://www.w3.org/2000/svg\" height=\"24px\"viewBox=\"0 0 24 24\"\n",
              "       width=\"24px\">\n",
              "    <path d=\"M0 0h24v24H0V0z\" fill=\"none\"/>\n",
              "    <path d=\"M18.56 5.44l.94 2.06.94-2.06 2.06-.94-2.06-.94-.94-2.06-.94 2.06-2.06.94zm-11 1L8.5 8.5l.94-2.06 2.06-.94-2.06-.94L8.5 2.5l-.94 2.06-2.06.94zm10 10l.94 2.06.94-2.06 2.06-.94-2.06-.94-.94-2.06-.94 2.06-2.06.94z\"/><path d=\"M17.41 7.96l-1.37-1.37c-.4-.4-.92-.59-1.43-.59-.52 0-1.04.2-1.43.59L10.3 9.45l-7.72 7.72c-.78.78-.78 2.05 0 2.83L4 21.41c.39.39.9.59 1.41.59.51 0 1.02-.2 1.41-.59l7.78-7.78 2.81-2.81c.8-.78.8-2.07 0-2.86zM5.41 20L4 18.59l7.72-7.72 1.47 1.35L5.41 20z\"/>\n",
              "  </svg>\n",
              "      </button>\n",
              "      \n",
              "  <style>\n",
              "    .colab-df-container {\n",
              "      display:flex;\n",
              "      flex-wrap:wrap;\n",
              "      gap: 12px;\n",
              "    }\n",
              "\n",
              "    .colab-df-convert {\n",
              "      background-color: #E8F0FE;\n",
              "      border: none;\n",
              "      border-radius: 50%;\n",
              "      cursor: pointer;\n",
              "      display: none;\n",
              "      fill: #1967D2;\n",
              "      height: 32px;\n",
              "      padding: 0 0 0 0;\n",
              "      width: 32px;\n",
              "    }\n",
              "\n",
              "    .colab-df-convert:hover {\n",
              "      background-color: #E2EBFA;\n",
              "      box-shadow: 0px 1px 2px rgba(60, 64, 67, 0.3), 0px 1px 3px 1px rgba(60, 64, 67, 0.15);\n",
              "      fill: #174EA6;\n",
              "    }\n",
              "\n",
              "    [theme=dark] .colab-df-convert {\n",
              "      background-color: #3B4455;\n",
              "      fill: #D2E3FC;\n",
              "    }\n",
              "\n",
              "    [theme=dark] .colab-df-convert:hover {\n",
              "      background-color: #434B5C;\n",
              "      box-shadow: 0px 1px 3px 1px rgba(0, 0, 0, 0.15);\n",
              "      filter: drop-shadow(0px 1px 2px rgba(0, 0, 0, 0.3));\n",
              "      fill: #FFFFFF;\n",
              "    }\n",
              "  </style>\n",
              "\n",
              "      <script>\n",
              "        const buttonEl =\n",
              "          document.querySelector('#df-4b4e3a9c-5eae-4cb4-8d78-b289133c3b23 button.colab-df-convert');\n",
              "        buttonEl.style.display =\n",
              "          google.colab.kernel.accessAllowed ? 'block' : 'none';\n",
              "\n",
              "        async function convertToInteractive(key) {\n",
              "          const element = document.querySelector('#df-4b4e3a9c-5eae-4cb4-8d78-b289133c3b23');\n",
              "          const dataTable =\n",
              "            await google.colab.kernel.invokeFunction('convertToInteractive',\n",
              "                                                     [key], {});\n",
              "          if (!dataTable) return;\n",
              "\n",
              "          const docLinkHtml = 'Like what you see? Visit the ' +\n",
              "            '<a target=\"_blank\" href=https://colab.research.google.com/notebooks/data_table.ipynb>data table notebook</a>'\n",
              "            + ' to learn more about interactive tables.';\n",
              "          element.innerHTML = '';\n",
              "          dataTable['output_type'] = 'display_data';\n",
              "          await google.colab.output.renderOutput(dataTable, element);\n",
              "          const docLink = document.createElement('div');\n",
              "          docLink.innerHTML = docLinkHtml;\n",
              "          element.appendChild(docLink);\n",
              "        }\n",
              "      </script>\n",
              "    </div>\n",
              "  </div>\n",
              "  "
            ],
            "text/plain": [
              "  Gender     Height      Weight\n",
              "0   Male  73.847017  241.893563\n",
              "1   Male  68.781904  162.310473\n",
              "2   Male  74.110105  212.740856\n",
              "3   Male  71.730978  220.042470\n",
              "4   Male  69.881796  206.349801"
            ]
          },
          "execution_count": 8,
          "metadata": {},
          "output_type": "execute_result"
        }
      ],
      "source": [
        "# repeat the above steps for the source data of the weight-height.csv dataset\n",
        "\n",
        "# use this line if on Jupyter\n",
        "# df = pd.read_csv('weight-height.csv')\n",
        "\n",
        "# use this line if on Colab\n",
        "df = pd.read_csv('gdrive/My Drive/Colab Notebooks/data/weight-height.csv')\n",
        "df.head()"
      ]
    },
    {
      "cell_type": "code",
      "execution_count": null,
      "metadata": {
        "id": "fXXjH5-yaG5-"
      },
      "outputs": [],
      "source": [
        "# divide the data according to the «Gender» attribute\n",
        "\n",
        "df_male = df[df.Gender == 'Male'].drop('Gender', axis=1)\n",
        "df_female = df[df.Gender == 'Female'].reset_index(drop=True).drop('Gender', axis=1)"
      ]
    },
    {
      "cell_type": "code",
      "execution_count": null,
      "metadata": {
        "colab": {
          "base_uri": "https://localhost:8080/",
          "height": 206
        },
        "id": "NhKEYVdHaJaL",
        "outputId": "249e1f38-5421-472c-dfd2-50f745830766"
      },
      "outputs": [
        {
          "data": {
            "text/html": [
              "\n",
              "  <div id=\"df-e7beefd0-667f-4b5c-8175-d489aae67294\">\n",
              "    <div class=\"colab-df-container\">\n",
              "      <div>\n",
              "<style scoped>\n",
              "    .dataframe tbody tr th:only-of-type {\n",
              "        vertical-align: middle;\n",
              "    }\n",
              "\n",
              "    .dataframe tbody tr th {\n",
              "        vertical-align: top;\n",
              "    }\n",
              "\n",
              "    .dataframe thead th {\n",
              "        text-align: right;\n",
              "    }\n",
              "</style>\n",
              "<table border=\"1\" class=\"dataframe\">\n",
              "  <thead>\n",
              "    <tr style=\"text-align: right;\">\n",
              "      <th></th>\n",
              "      <th>Height</th>\n",
              "      <th>Weight</th>\n",
              "    </tr>\n",
              "  </thead>\n",
              "  <tbody>\n",
              "    <tr>\n",
              "      <th>0</th>\n",
              "      <td>73.847017</td>\n",
              "      <td>241.893563</td>\n",
              "    </tr>\n",
              "    <tr>\n",
              "      <th>1</th>\n",
              "      <td>68.781904</td>\n",
              "      <td>162.310473</td>\n",
              "    </tr>\n",
              "    <tr>\n",
              "      <th>2</th>\n",
              "      <td>74.110105</td>\n",
              "      <td>212.740856</td>\n",
              "    </tr>\n",
              "    <tr>\n",
              "      <th>3</th>\n",
              "      <td>71.730978</td>\n",
              "      <td>220.042470</td>\n",
              "    </tr>\n",
              "    <tr>\n",
              "      <th>4</th>\n",
              "      <td>69.881796</td>\n",
              "      <td>206.349801</td>\n",
              "    </tr>\n",
              "  </tbody>\n",
              "</table>\n",
              "</div>\n",
              "      <button class=\"colab-df-convert\" onclick=\"convertToInteractive('df-e7beefd0-667f-4b5c-8175-d489aae67294')\"\n",
              "              title=\"Convert this dataframe to an interactive table.\"\n",
              "              style=\"display:none;\">\n",
              "        \n",
              "  <svg xmlns=\"http://www.w3.org/2000/svg\" height=\"24px\"viewBox=\"0 0 24 24\"\n",
              "       width=\"24px\">\n",
              "    <path d=\"M0 0h24v24H0V0z\" fill=\"none\"/>\n",
              "    <path d=\"M18.56 5.44l.94 2.06.94-2.06 2.06-.94-2.06-.94-.94-2.06-.94 2.06-2.06.94zm-11 1L8.5 8.5l.94-2.06 2.06-.94-2.06-.94L8.5 2.5l-.94 2.06-2.06.94zm10 10l.94 2.06.94-2.06 2.06-.94-2.06-.94-.94-2.06-.94 2.06-2.06.94z\"/><path d=\"M17.41 7.96l-1.37-1.37c-.4-.4-.92-.59-1.43-.59-.52 0-1.04.2-1.43.59L10.3 9.45l-7.72 7.72c-.78.78-.78 2.05 0 2.83L4 21.41c.39.39.9.59 1.41.59.51 0 1.02-.2 1.41-.59l7.78-7.78 2.81-2.81c.8-.78.8-2.07 0-2.86zM5.41 20L4 18.59l7.72-7.72 1.47 1.35L5.41 20z\"/>\n",
              "  </svg>\n",
              "      </button>\n",
              "      \n",
              "  <style>\n",
              "    .colab-df-container {\n",
              "      display:flex;\n",
              "      flex-wrap:wrap;\n",
              "      gap: 12px;\n",
              "    }\n",
              "\n",
              "    .colab-df-convert {\n",
              "      background-color: #E8F0FE;\n",
              "      border: none;\n",
              "      border-radius: 50%;\n",
              "      cursor: pointer;\n",
              "      display: none;\n",
              "      fill: #1967D2;\n",
              "      height: 32px;\n",
              "      padding: 0 0 0 0;\n",
              "      width: 32px;\n",
              "    }\n",
              "\n",
              "    .colab-df-convert:hover {\n",
              "      background-color: #E2EBFA;\n",
              "      box-shadow: 0px 1px 2px rgba(60, 64, 67, 0.3), 0px 1px 3px 1px rgba(60, 64, 67, 0.15);\n",
              "      fill: #174EA6;\n",
              "    }\n",
              "\n",
              "    [theme=dark] .colab-df-convert {\n",
              "      background-color: #3B4455;\n",
              "      fill: #D2E3FC;\n",
              "    }\n",
              "\n",
              "    [theme=dark] .colab-df-convert:hover {\n",
              "      background-color: #434B5C;\n",
              "      box-shadow: 0px 1px 3px 1px rgba(0, 0, 0, 0.15);\n",
              "      filter: drop-shadow(0px 1px 2px rgba(0, 0, 0, 0.3));\n",
              "      fill: #FFFFFF;\n",
              "    }\n",
              "  </style>\n",
              "\n",
              "      <script>\n",
              "        const buttonEl =\n",
              "          document.querySelector('#df-e7beefd0-667f-4b5c-8175-d489aae67294 button.colab-df-convert');\n",
              "        buttonEl.style.display =\n",
              "          google.colab.kernel.accessAllowed ? 'block' : 'none';\n",
              "\n",
              "        async function convertToInteractive(key) {\n",
              "          const element = document.querySelector('#df-e7beefd0-667f-4b5c-8175-d489aae67294');\n",
              "          const dataTable =\n",
              "            await google.colab.kernel.invokeFunction('convertToInteractive',\n",
              "                                                     [key], {});\n",
              "          if (!dataTable) return;\n",
              "\n",
              "          const docLinkHtml = 'Like what you see? Visit the ' +\n",
              "            '<a target=\"_blank\" href=https://colab.research.google.com/notebooks/data_table.ipynb>data table notebook</a>'\n",
              "            + ' to learn more about interactive tables.';\n",
              "          element.innerHTML = '';\n",
              "          dataTable['output_type'] = 'display_data';\n",
              "          await google.colab.output.renderOutput(dataTable, element);\n",
              "          const docLink = document.createElement('div');\n",
              "          docLink.innerHTML = docLinkHtml;\n",
              "          element.appendChild(docLink);\n",
              "        }\n",
              "      </script>\n",
              "    </div>\n",
              "  </div>\n",
              "  "
            ],
            "text/plain": [
              "      Height      Weight\n",
              "0  73.847017  241.893563\n",
              "1  68.781904  162.310473\n",
              "2  74.110105  212.740856\n",
              "3  71.730978  220.042470\n",
              "4  69.881796  206.349801"
            ]
          },
          "execution_count": 10,
          "metadata": {},
          "output_type": "execute_result"
        }
      ],
      "source": [
        "df_male.head()"
      ]
    },
    {
      "cell_type": "code",
      "execution_count": null,
      "metadata": {
        "colab": {
          "base_uri": "https://localhost:8080/",
          "height": 206
        },
        "id": "IImZEpPhaLJ9",
        "outputId": "496c5ac9-20b5-4c4e-91df-5cad747b5618"
      },
      "outputs": [
        {
          "data": {
            "text/html": [
              "\n",
              "  <div id=\"df-e56c3b0a-8a21-4cde-a8ce-6031a6e8267e\">\n",
              "    <div class=\"colab-df-container\">\n",
              "      <div>\n",
              "<style scoped>\n",
              "    .dataframe tbody tr th:only-of-type {\n",
              "        vertical-align: middle;\n",
              "    }\n",
              "\n",
              "    .dataframe tbody tr th {\n",
              "        vertical-align: top;\n",
              "    }\n",
              "\n",
              "    .dataframe thead th {\n",
              "        text-align: right;\n",
              "    }\n",
              "</style>\n",
              "<table border=\"1\" class=\"dataframe\">\n",
              "  <thead>\n",
              "    <tr style=\"text-align: right;\">\n",
              "      <th></th>\n",
              "      <th>Height</th>\n",
              "      <th>Weight</th>\n",
              "    </tr>\n",
              "  </thead>\n",
              "  <tbody>\n",
              "    <tr>\n",
              "      <th>0</th>\n",
              "      <td>58.910732</td>\n",
              "      <td>102.088326</td>\n",
              "    </tr>\n",
              "    <tr>\n",
              "      <th>1</th>\n",
              "      <td>65.230013</td>\n",
              "      <td>141.305823</td>\n",
              "    </tr>\n",
              "    <tr>\n",
              "      <th>2</th>\n",
              "      <td>63.369004</td>\n",
              "      <td>131.041403</td>\n",
              "    </tr>\n",
              "    <tr>\n",
              "      <th>3</th>\n",
              "      <td>64.479997</td>\n",
              "      <td>128.171511</td>\n",
              "    </tr>\n",
              "    <tr>\n",
              "      <th>4</th>\n",
              "      <td>61.793096</td>\n",
              "      <td>129.781407</td>\n",
              "    </tr>\n",
              "  </tbody>\n",
              "</table>\n",
              "</div>\n",
              "      <button class=\"colab-df-convert\" onclick=\"convertToInteractive('df-e56c3b0a-8a21-4cde-a8ce-6031a6e8267e')\"\n",
              "              title=\"Convert this dataframe to an interactive table.\"\n",
              "              style=\"display:none;\">\n",
              "        \n",
              "  <svg xmlns=\"http://www.w3.org/2000/svg\" height=\"24px\"viewBox=\"0 0 24 24\"\n",
              "       width=\"24px\">\n",
              "    <path d=\"M0 0h24v24H0V0z\" fill=\"none\"/>\n",
              "    <path d=\"M18.56 5.44l.94 2.06.94-2.06 2.06-.94-2.06-.94-.94-2.06-.94 2.06-2.06.94zm-11 1L8.5 8.5l.94-2.06 2.06-.94-2.06-.94L8.5 2.5l-.94 2.06-2.06.94zm10 10l.94 2.06.94-2.06 2.06-.94-2.06-.94-.94-2.06-.94 2.06-2.06.94z\"/><path d=\"M17.41 7.96l-1.37-1.37c-.4-.4-.92-.59-1.43-.59-.52 0-1.04.2-1.43.59L10.3 9.45l-7.72 7.72c-.78.78-.78 2.05 0 2.83L4 21.41c.39.39.9.59 1.41.59.51 0 1.02-.2 1.41-.59l7.78-7.78 2.81-2.81c.8-.78.8-2.07 0-2.86zM5.41 20L4 18.59l7.72-7.72 1.47 1.35L5.41 20z\"/>\n",
              "  </svg>\n",
              "      </button>\n",
              "      \n",
              "  <style>\n",
              "    .colab-df-container {\n",
              "      display:flex;\n",
              "      flex-wrap:wrap;\n",
              "      gap: 12px;\n",
              "    }\n",
              "\n",
              "    .colab-df-convert {\n",
              "      background-color: #E8F0FE;\n",
              "      border: none;\n",
              "      border-radius: 50%;\n",
              "      cursor: pointer;\n",
              "      display: none;\n",
              "      fill: #1967D2;\n",
              "      height: 32px;\n",
              "      padding: 0 0 0 0;\n",
              "      width: 32px;\n",
              "    }\n",
              "\n",
              "    .colab-df-convert:hover {\n",
              "      background-color: #E2EBFA;\n",
              "      box-shadow: 0px 1px 2px rgba(60, 64, 67, 0.3), 0px 1px 3px 1px rgba(60, 64, 67, 0.15);\n",
              "      fill: #174EA6;\n",
              "    }\n",
              "\n",
              "    [theme=dark] .colab-df-convert {\n",
              "      background-color: #3B4455;\n",
              "      fill: #D2E3FC;\n",
              "    }\n",
              "\n",
              "    [theme=dark] .colab-df-convert:hover {\n",
              "      background-color: #434B5C;\n",
              "      box-shadow: 0px 1px 3px 1px rgba(0, 0, 0, 0.15);\n",
              "      filter: drop-shadow(0px 1px 2px rgba(0, 0, 0, 0.3));\n",
              "      fill: #FFFFFF;\n",
              "    }\n",
              "  </style>\n",
              "\n",
              "      <script>\n",
              "        const buttonEl =\n",
              "          document.querySelector('#df-e56c3b0a-8a21-4cde-a8ce-6031a6e8267e button.colab-df-convert');\n",
              "        buttonEl.style.display =\n",
              "          google.colab.kernel.accessAllowed ? 'block' : 'none';\n",
              "\n",
              "        async function convertToInteractive(key) {\n",
              "          const element = document.querySelector('#df-e56c3b0a-8a21-4cde-a8ce-6031a6e8267e');\n",
              "          const dataTable =\n",
              "            await google.colab.kernel.invokeFunction('convertToInteractive',\n",
              "                                                     [key], {});\n",
              "          if (!dataTable) return;\n",
              "\n",
              "          const docLinkHtml = 'Like what you see? Visit the ' +\n",
              "            '<a target=\"_blank\" href=https://colab.research.google.com/notebooks/data_table.ipynb>data table notebook</a>'\n",
              "            + ' to learn more about interactive tables.';\n",
              "          element.innerHTML = '';\n",
              "          dataTable['output_type'] = 'display_data';\n",
              "          await google.colab.output.renderOutput(dataTable, element);\n",
              "          const docLink = document.createElement('div');\n",
              "          docLink.innerHTML = docLinkHtml;\n",
              "          element.appendChild(docLink);\n",
              "        }\n",
              "      </script>\n",
              "    </div>\n",
              "  </div>\n",
              "  "
            ],
            "text/plain": [
              "      Height      Weight\n",
              "0  58.910732  102.088326\n",
              "1  65.230013  141.305823\n",
              "2  63.369004  131.041403\n",
              "3  64.479997  128.171511\n",
              "4  61.793096  129.781407"
            ]
          },
          "execution_count": 11,
          "metadata": {},
          "output_type": "execute_result"
        }
      ],
      "source": [
        "df_female.head()"
      ]
    },
    {
      "cell_type": "code",
      "execution_count": null,
      "metadata": {
        "colab": {
          "base_uri": "https://localhost:8080/"
        },
        "id": "m8YMA74EaOmV",
        "outputId": "22a08819-6f1d-4cab-b568-4b54568e38e1"
      },
      "outputs": [
        {
          "name": "stdout",
          "output_type": "stream",
          "text": [
            "Explained variance: [0.99484203 0.00515797]\n",
            "\n",
            "Components directions:\n",
            " [[ 0.1246006   0.99220698]\n",
            " [-0.99220698  0.1246006 ]]\n",
            "\n",
            "Covariance matrix:\n",
            " [[  8.19884325  48.87964899]\n",
            " [ 48.87964899 391.29407402]]\n"
          ]
        }
      ],
      "source": [
        "# only male dataframe\n",
        "\n",
        "pca = PCA()\n",
        "pca.fit(df_male)\n",
        "print(f'Explained variance: {pca.explained_variance_ratio_}')\n",
        "print(f'\\nComponents directions:\\n {pca.components_}')\n",
        "print(f'\\nCovariance matrix:\\n {pca.get_covariance()}')"
      ]
    },
    {
      "cell_type": "code",
      "execution_count": null,
      "metadata": {
        "colab": {
          "base_uri": "https://localhost:8080/"
        },
        "id": "Rbh_RRQ49UQu",
        "outputId": "9cb26264-ccf3-4285-9ec5-d6fdccf32191"
      },
      "outputs": [
        {
          "name": "stdout",
          "output_type": "stream",
          "text": [
            "Explained variance: [0.99460024 0.00539976]\n",
            "\n",
            "Components directions:\n",
            " [[-0.12021413 -0.99274799]\n",
            " [ 0.99274799 -0.12021413]]\n",
            "\n",
            "Covariance matrix:\n",
            " [[  7.26994749  43.57640416]\n",
            " [ 43.57640416 361.8542814 ]]\n"
          ]
        }
      ],
      "source": [
        "# only female dataframe\n",
        "\n",
        "pca = PCA()\n",
        "pca.fit(df_female)\n",
        "print(f'Explained variance: {pca.explained_variance_ratio_}')\n",
        "print(f'\\nComponents directions:\\n {pca.components_}')\n",
        "print(f'\\nCovariance matrix:\\n {pca.get_covariance()}')"
      ]
    },
    {
      "cell_type": "code",
      "execution_count": null,
      "metadata": {
        "colab": {
          "base_uri": "https://localhost:8080/"
        },
        "id": "FoaBNAie9eZU",
        "outputId": "635a5743-fd22-46f0-bd33-b3e0f34f0242"
      },
      "outputs": [
        {
          "name": "stdout",
          "output_type": "stream",
          "text": [
            "Explained variance: [0.99484203]\n",
            "\n",
            "Components directions:\n",
            " [[0.1246006  0.99220698]]\n",
            "\n",
            "Covariance matrix:\n",
            " [[  8.19884325  48.87964899]\n",
            " [ 48.87964899 391.29407402]]\n"
          ]
        }
      ],
      "source": [
        "pca = PCA(n_components=1)\n",
        "pca.fit(df_male)\n",
        "print(f'Explained variance: {pca.explained_variance_ratio_}')\n",
        "print(f'\\nComponents directions:\\n {pca.components_}')\n",
        "print(f'\\nCovariance matrix:\\n {pca.get_covariance()}')\n",
        "\n",
        "x1 = pca.transform(df_male)\n",
        "x2 = pca.inverse_transform(x1)"
      ]
    },
    {
      "cell_type": "code",
      "execution_count": null,
      "metadata": {
        "colab": {
          "base_uri": "https://localhost:8080/",
          "height": 265
        },
        "id": "E60ZTyRg9fm-",
        "outputId": "868d40b4-0fa6-4497-eff4-068f47fd58be"
      },
      "outputs": [
        {
          "data": {
            "image/png": "[encoded data removed]",
            "text/plain": [
              "<Figure size 432x288 with 1 Axes>"
            ]
          },
          "metadata": {
            "needs_background": "light"
          },
          "output_type": "display_data"
        }
      ],
      "source": [
        "plt.plot(df_male['Height'], df_male['Weight'], '.', color='green')\n",
        "plt.plot(x2[:, 0], x2[:, 1], color='blue')\n",
        "plt.axis('equal')\n",
        "plt.show()"
      ]
    },
    {
      "cell_type": "code",
      "execution_count": null,
      "metadata": {
        "colab": {
          "base_uri": "https://localhost:8080/"
        },
        "id": "ZaE3R0kp9hVu",
        "outputId": "a56d5d93-20a9-4efc-e8d1-bda443614d6f"
      },
      "outputs": [
        {
          "name": "stdout",
          "output_type": "stream",
          "text": [
            "Explained variance: [0.99460024]\n",
            "\n",
            "Components directions:\n",
            " [[-0.12021413 -0.99274799]]\n",
            "\n",
            "Covariance matrix:\n",
            " [[  7.26994749  43.57640416]\n",
            " [ 43.57640416 361.8542814 ]]\n"
          ]
        }
      ],
      "source": [
        "pca = PCA(n_components=1)\n",
        "pca.fit(df_female)\n",
        "print(f'Explained variance: {pca.explained_variance_ratio_}')\n",
        "print(f'\\nComponents directions:\\n {pca.components_}')\n",
        "print(f'\\nCovariance matrix:\\n {pca.get_covariance()}')\n",
        "\n",
        "x1 = pca.transform(df_female)\n",
        "x2 = pca.inverse_transform(x1)"
      ]
    },
    {
      "cell_type": "code",
      "execution_count": null,
      "metadata": {
        "colab": {
          "base_uri": "https://localhost:8080/",
          "height": 265
        },
        "id": "4T2ZYMz59i91",
        "outputId": "d2e9c159-58e7-4089-d6ca-73fc0e762167"
      },
      "outputs": [
        {
          "data": {
            "image/png": "[encoded data removed]",
            "text/plain": [
              "<Figure size 432x288 with 1 Axes>"
            ]
          },
          "metadata": {
            "needs_background": "light"
          },
          "output_type": "display_data"
        }
      ],
      "source": [
        "plt.plot(df_female['Height'], df_female['Weight'], '.', color='green')\n",
        "plt.plot(x2[:, 0], x2[:, 1], color='blue')\n",
        "plt.axis('equal')\n",
        "plt.show()"
      ]
    }
  ],
  "metadata": {
    "colab": {
      "provenance": []
    },
    "kernelspec": {
      "display_name": "Python 3",
      "language": "python",
      "name": "python3"
    },
    "language_info": {
      "codemirror_mode": {
        "name": "ipython",
        "version": 3
      },
      "file_extension": ".py",
      "mimetype": "text/x-python",
      "name": "python",
      "nbconvert_exporter": "python",
      "pygments_lexer": "ipython3",
      "version": "3.8.8"
    }
  },
  "nbformat": 4,
  "nbformat_minor": 0
}